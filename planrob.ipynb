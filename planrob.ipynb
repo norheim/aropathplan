{
 "cells": [
  {
   "cell_type": "markdown",
   "metadata": {},
   "source": [
    "## Robust plan"
   ]
  },
  {
   "cell_type": "code",
   "execution_count": 1,
   "metadata": {},
   "outputs": [
    {
     "name": "stdout",
     "output_type": "stream",
     "text": [
      "Academic license - for non-commercial use only\n"
     ]
    }
   ],
   "source": [
    "using JuMP, Gurobi, Plots, LinearAlgebra\n",
    "GRB_ENV = Gurobi.Env();"
   ]
  },
  {
   "cell_type": "markdown",
   "metadata": {},
   "source": [
    "### Create model for dynamics"
   ]
  },
  {
   "cell_type": "code",
   "execution_count": 2,
   "metadata": {},
   "outputs": [],
   "source": [
    "dt = 0.1\n",
    "A = zeros(4,4)+I\n",
    "A[1,2] = A[3,4] = dt\n",
    "B = zeros(4,2)\n",
    "B[2,1] = B[4,2] = dt\n",
    "C = zeros(2,4)\n",
    "C[1,2] = C[2,4] = 1\n",
    "D = zeros(2,2)\n",
    "Bw = copy(B);"
   ]
  },
  {
   "cell_type": "markdown",
   "metadata": {},
   "source": [
    "### Create model"
   ]
  },
  {
   "cell_type": "code",
   "execution_count": 37,
   "metadata": {},
   "outputs": [
    {
     "data": {
      "text/plain": [
       "0.0001"
      ]
     },
     "execution_count": 37,
     "metadata": {},
     "output_type": "execute_result"
    }
   ],
   "source": [
    "T = 0.9\n",
    "N = Int(T/dt);\n",
    "x0 = [0;0;0;0]\n",
    "xN = [0.03;0;0.035;0]\n",
    "ϵ = 0.0001 # how close to the goal we want to get"
   ]
  },
  {
   "cell_type": "markdown",
   "metadata": {},
   "source": [
    "## Obstacles"
   ]
  },
  {
   "cell_type": "code",
   "execution_count": 4,
   "metadata": {},
   "outputs": [],
   "source": [
    "P = [-1 0; 0 1]\n",
    "q = [-0.03; 0.03] # this should be feasible\n",
    "m = length(q)\n",
    "obj = [[1,2]] # Each entry corresponds to the lines defining an object\n",
    "Nobj = length(obj)\n",
    "M = 1000; #Big M"
   ]
  },
  {
   "cell_type": "markdown",
   "metadata": {},
   "source": [
    "## Helper vars"
   ]
  },
  {
   "cell_type": "code",
   "execution_count": 5,
   "metadata": {},
   "outputs": [],
   "source": [
    "Q = zeros(2,4)\n",
    "Q[1,2] = Q[2,4] = 1\n",
    "N_K = Int((N-1)*N/2) # number of K's\n",
    "Ak = zeros(N,4,4)\n",
    "Ak[1,:,:] = zeros(Int, size(A))+I\n",
    "for i=2:N\n",
    "    Ak[i,:,:] = A*Ak[i-1,:,:]\n",
    "end\n",
    "Ai = i -> Ak[i,:,:]\n",
    "get_cone = (i,j) -> Int((i-2)*(i-3)/2)+j;"
   ]
  },
  {
   "cell_type": "code",
   "execution_count": 6,
   "metadata": {},
   "outputs": [
    {
     "data": {
      "text/plain": [
       "(1, 2, 3, 4)"
      ]
     },
     "execution_count": 6,
     "metadata": {},
     "output_type": "execute_result"
    }
   ],
   "source": [
    "get_cone(3,1),get_cone(4,1),get_cone(4,2),get_cone(5,1)"
   ]
  },
  {
   "cell_type": "markdown",
   "metadata": {},
   "source": [
    "## Robustness parameters"
   ]
  },
  {
   "cell_type": "code",
   "execution_count": 191,
   "metadata": {},
   "outputs": [],
   "source": [
    "ρ = 0.001;"
   ]
  },
  {
   "cell_type": "markdown",
   "metadata": {},
   "source": [
    "## Model"
   ]
  },
  {
   "cell_type": "code",
   "execution_count": 192,
   "metadata": {},
   "outputs": [],
   "source": [
    "model = Model(optimizer_with_attributes(\n",
    "        () -> Gurobi.Optimizer(GRB_ENV), #\"OutputFlag\" => 0\n",
    "    ));\n",
    "@variable(model, K[1:N_K,1:2,1:2])   # Control law linear\n",
    "@variable(model, α[1:2, 1:N])      # Control law constant\n",
    "@variable(model, au[1:2, 1:N] >=0) # Absolute value of u(control)\n",
    "@variable(model, z[1:N, 1:m] >=0, Bin) # Binary vars for obstacles\n",
    "# Variables for auxiliary second order cones:\n",
    "@variable(model, t[1:N_K,1:m] >= 0) # (we need one for each halfplane)\n",
    "@variable(model, s[1:N_K,1:2] >= 0); # (one for each control vector)\n",
    "@variable(model, r[1:N_K,1:4] >= 0); # (one for each state variable)"
   ]
  },
  {
   "cell_type": "code",
   "execution_count": 193,
   "metadata": {},
   "outputs": [],
   "source": [
    "@constraint(model, cobj[k=2:N, i=1:Nobj],\n",
    "   sum(z[k,j] for j in obj[i]) == length(obj[i])-1); # Obstacles"
   ]
  },
  {
   "cell_type": "code",
   "execution_count": 194,
   "metadata": {},
   "outputs": [],
   "source": [
    "#[get_cone(k,i) for i=1:k-2]"
   ]
  },
  {
   "cell_type": "code",
   "execution_count": 195,
   "metadata": {},
   "outputs": [],
   "source": [
    "#k = 4\n",
    "#i = 1; #to k-2"
   ]
  },
  {
   "cell_type": "code",
   "execution_count": 196,
   "metadata": {},
   "outputs": [],
   "source": [
    "#[(j,i) for j=(i+1):(k-1)]"
   ]
  },
  {
   "cell_type": "code",
   "execution_count": 197,
   "metadata": {},
   "outputs": [
    {
     "data": {
      "text/plain": [
       "2×4 Array{Float64,2}:\n",
       " 0.0  -1.0  0.0  0.0\n",
       " 0.0   0.0  0.0  1.0"
      ]
     },
     "execution_count": 197,
     "metadata": {},
     "output_type": "execute_result"
    }
   ],
   "source": [
    "P*Q"
   ]
  },
  {
   "cell_type": "markdown",
   "metadata": {},
   "source": [
    "## Obstacle free path"
   ]
  },
  {
   "cell_type": "code",
   "execution_count": 198,
   "metadata": {},
   "outputs": [],
   "source": [
    "# Time step k=2\n",
    "@constraint(model, (P*Q*Ai(2)*x0+P*Q*B*α[:,2]\n",
    "        +ρ*mapslices(norm, P*Q*Bw, dims=2)[:]) .<= q+M*z[2,:]);\n",
    "# All time steps after:\n",
    "@constraint(model, [k=3:N], (P*Q*Ai(k)*x0+sum(P*Q*Ai(k-i)*B*α[:,i] for i=1:k-1)\n",
    "        +sum(ρ*t[get_cone(k,i),:] for i=1:k-2)\n",
    "        +ρ*mapslices(norm, P*Q*Bw, dims=2)[:]) .<= q+M*z[k,:]);"
   ]
  },
  {
   "cell_type": "markdown",
   "metadata": {},
   "source": [
    "### Maximum control"
   ]
  },
  {
   "cell_type": "code",
   "execution_count": 199,
   "metadata": {},
   "outputs": [],
   "source": [
    "@constraint(model, α[:,2] .<= au[:,2])\n",
    "@constraint(model, -au[:,2] .<= α[:,2])\n",
    "@constraint(model, [k=3:N-1], α[:,k]+ρ*sum(s[get_cone(k,i),:] for i=1:k-2) .<= au[:,k])\n",
    "@constraint(model, [k=3:N-1],  -α[:,k]+ρ*sum(s[get_cone(k,i),:] for i=1:k-2) .<= au[:,k]);"
   ]
  },
  {
   "cell_type": "markdown",
   "metadata": {},
   "source": [
    "### Goals"
   ]
  },
  {
   "cell_type": "code",
   "execution_count": 200,
   "metadata": {},
   "outputs": [],
   "source": [
    "@constraint(model, (Ai(N)*x0+sum(Ai(N-i)*B*α[:,i] for i=1:N-1)\n",
    "        +sum(ρ*r[get_cone(N,i),:] for i=1:N-2)\n",
    "        +ρ*mapslices(norm, Bw, dims=2)[:]) .<= xN+ϵ);\n",
    "@constraint(model, (-Ai(N)*x0+sum(Ai(N-i)*B*-α[:,i] for i=1:N-1)\n",
    "        +sum(ρ*r[get_cone(N,i),:] for i=1:N-2)\n",
    "        +ρ*mapslices(norm, Bw, dims=2)[:]) .<= -xN+ϵ);"
   ]
  },
  {
   "cell_type": "markdown",
   "metadata": {},
   "source": [
    "## Second order constraints"
   ]
  },
  {
   "cell_type": "markdown",
   "metadata": {},
   "source": [
    "### 1) Obstacles"
   ]
  },
  {
   "cell_type": "code",
   "execution_count": 201,
   "metadata": {},
   "outputs": [],
   "source": [
    "@constraint(model, obs[k=3:N,i=1:(k-2),l=1:m], vcat(t[get_cone(k,i),l], (P*Q*Ai(k-i)*Bw)[l,:]+sum(\n",
    "            (P*Q*Ai(k-j)*B*K[get_cone(j,i),:,:])[l,:] for j=(i+1):(k-1))) in SecondOrderCone());"
   ]
  },
  {
   "cell_type": "markdown",
   "metadata": {},
   "source": [
    "### 2) Control"
   ]
  },
  {
   "cell_type": "code",
   "execution_count": 202,
   "metadata": {},
   "outputs": [],
   "source": [
    "@constraint(model, [k=3:N-1,i=1:(k-2),l=1:2], vcat(s[get_cone(k,i),l], sum(\n",
    "            K[get_cone(j,i),l,:] for j=(i+1):(k-1))) in SecondOrderCone());"
   ]
  },
  {
   "cell_type": "markdown",
   "metadata": {},
   "source": [
    "### 3) Goals"
   ]
  },
  {
   "cell_type": "code",
   "execution_count": 203,
   "metadata": {},
   "outputs": [],
   "source": [
    "@constraint(model, [k=3:N,i=1:(k-2),l=1:4], vcat(r[get_cone(k,i),l], (Ai(k-i)*Bw)[l,:]+sum(\n",
    "            (Ai(k-j)*B*K[get_cone(j,i),:,:])[l,:] for j=(i+1):(k-1))) in SecondOrderCone());"
   ]
  },
  {
   "cell_type": "markdown",
   "metadata": {},
   "source": [
    "### Objective"
   ]
  },
  {
   "cell_type": "code",
   "execution_count": 204,
   "metadata": {},
   "outputs": [],
   "source": [
    "@objective(model, Min, sum(au));"
   ]
  },
  {
   "cell_type": "markdown",
   "metadata": {},
   "source": [
    "## Optimize"
   ]
  },
  {
   "cell_type": "code",
   "execution_count": 205,
   "metadata": {},
   "outputs": [
    {
     "name": "stdout",
     "output_type": "stream",
     "text": [
      "Gurobi Optimizer version 9.0.1 build v9.0.1rc0 (win64)\n",
      "Optimize a model with 654 rows, 1080 columns and 2216 nonzeros\n",
      "Model fingerprint: 0xd9db33f6\n",
      "Model has 210 quadratic constraints\n",
      "Variable types: 1062 continuous, 18 integer (18 binary)\n",
      "Coefficient statistics:\n",
      "  Matrix range     [1e-03, 1e+03]\n",
      "  QMatrix range    [1e+00, 1e+00]\n",
      "  Objective range  [1e+00, 1e+00]\n",
      "  Bounds range     [0e+00, 0e+00]\n",
      "  RHS range        [1e-02, 1e+00]\n",
      "Presolve removed 444 rows and 600 columns\n",
      "Presolve time: 0.03s\n",
      "Presolved: 798 rows, 1068 columns, 2093 nonzeros\n",
      "Presolved model has 196 quadratic constraint(s)\n",
      "Variable types: 1060 continuous, 8 integer (8 binary)\n",
      "Presolve removed 430 rows and 430 columns\n",
      "Presolve time: 0.04s\n",
      "Presolved: 368 rows, 638 columns, 1249 nonzeros\n",
      "Presolved model has 196 second-order cone constraints\n",
      "Root barrier log...\n",
      "\n",
      "Ordering time: 0.00s\n",
      "\n",
      "Barrier statistics:\n",
      " Free vars  : 26\n",
      " AA' NZ     : 5.681e+03\n",
      " Factor NZ  : 8.412e+03\n",
      " Factor Ops : 2.761e+05 (less than 1 second per iteration)\n",
      " Threads    : 1\n",
      "\n",
      "                  Objective                Residual\n",
      "Iter       Primal          Dual         Primal    Dual     Compl     Time\n",
      "   0   1.28845734e+04 -1.50603738e+02  4.44e+02 1.00e-01  3.87e+01     0s\n",
      "   1   9.14224813e+02 -6.00065430e+01  1.94e+01 1.10e-04  1.58e+00     0s\n",
      "   2   1.59475158e+02 -2.12918686e+01  3.40e+00 1.77e-05  2.82e-01     0s\n",
      "   3   1.58550030e+01 -2.30504531e+00  3.08e-01 5.35e-06  2.77e-02     0s\n",
      "   4   3.11978073e+00 -1.31040568e-01  7.93e-02 6.84e-07  4.94e-03     0s\n",
      "   5   2.33544124e+00 -4.97332585e-02  6.66e-02 4.37e-07  3.70e-03     0s\n",
      "   6   1.21305831e+00  2.42165759e-02  4.32e-02 2.65e-07  1.89e-03     0s\n",
      "   7   1.03095350e+00  5.93917422e-01  3.43e-02 3.52e-07  1.35e-03     0s\n",
      "   8   1.22461155e+00  8.34260521e-01  1.25e-02 2.19e-07  1.00e-03     0s\n",
      "   9   9.75085479e-01  9.27425837e-01  1.39e-03 2.33e-07  1.19e-04     0s\n",
      "  10   9.66155940e-01  9.31763511e-01  1.22e-03 1.17e-07  8.84e-05     0s\n",
      "  11   9.60793089e-01  9.35664916e-01  1.04e-03 6.19e-08  7.44e-05     0s\n",
      "  12   9.51922198e-01  9.45984259e-01  7.44e-04 3.49e-08  5.14e-05     0s\n",
      "  13   9.49524542e-01  9.49316355e-01  6.12e-04 3.22e-08  3.89e-05     0s\n",
      "  14   9.49634857e-01  9.49158493e-01  5.81e-04 2.95e-08  3.70e-05     0s\n",
      "  15   9.50268930e-01  9.55238129e-01  5.64e-04 2.54e-08  3.58e-05     0s\n",
      "  16   9.53757074e-01  9.58785652e-01  4.12e-04 1.43e-08  2.73e-05     0s\n",
      "  17   9.59654857e-01  9.61040998e-01  2.21e-04 9.41e-09  1.78e-05     0s\n",
      "  18   9.63378353e-01  9.63880911e-01  5.33e-05 4.07e-09  4.37e-06     0s\n",
      "  19   9.64475037e-01  9.64541597e-01  3.83e-06 2.01e-10  2.95e-07     0s\n",
      "  20   9.64570264e-01  9.64570807e-01  2.43e-07 2.77e-12  1.79e-09     0s\n",
      "\n",
      "Barrier solved model in 20 iterations and 0.15 seconds\n",
      "Optimal objective 9.64570264e-01\n",
      "\n",
      "Solving KKT system to obtain QCP duals...\n",
      "\n",
      "\n",
      "\n",
      "Root relaxation: objective 9.645703e-01, 0 iterations, 0.26 seconds\n",
      "\n",
      "    Nodes    |    Current Node    |     Objective Bounds      |     Work\n",
      " Expl Unexpl |  Obj  Depth IntInf | Incumbent    BestBd   Gap | It/Node Time\n",
      "\n",
      "     0     0    0.96457    0    7          -    0.96457      -     -    0s\n",
      "     0     0    0.96457    0    7          -    0.96457      -     -    0s\n",
      "H    0     0                       0.9645730    0.96457  0.00%     -    0s\n",
      "\n",
      "Explored 1 nodes (0 simplex iterations) in 0.67 seconds\n",
      "Thread count was 4 (of 4 available processors)\n",
      "\n",
      "Solution count 1: 0.964573 \n",
      "\n",
      "Optimal solution found (tolerance 1.00e-04)\n",
      "Best objective 9.645729907734e-01, best bound 9.645702644080e-01, gap 0.0003%\n"
     ]
    }
   ],
   "source": [
    "optimize!(model)"
   ]
  },
  {
   "cell_type": "code",
   "execution_count": 206,
   "metadata": {},
   "outputs": [
    {
     "data": {
      "text/plain": [
       "getx (generic function with 2 methods)"
      ]
     },
     "execution_count": 206,
     "metadata": {},
     "output_type": "execute_result"
    }
   ],
   "source": [
    "function getx(α, r)\n",
    "    x = zeros(4,N)\n",
    "    x[:,1] = x0\n",
    "    x[:,2] = Ai(2)*x0+ρ*mapslices(norm, Bw, dims=2)[:]\n",
    "    for k=3:N\n",
    "         x[:,k] = (Ai(k)*x0+sum(Ai(k-i)*B*α[:,i] for i=1:k-1)\n",
    "                    +sum(ρ*r[get_cone(k,i),:] for i=1:k-2)\n",
    "                    +ρ*mapslices(norm, Bw, dims=2)[:])\n",
    "    end\n",
    "    return x\n",
    "end"
   ]
  },
  {
   "cell_type": "code",
   "execution_count": 207,
   "metadata": {},
   "outputs": [],
   "source": [
    "x = getx(value.(α), value.(r));"
   ]
  },
  {
   "cell_type": "code",
   "execution_count": 133,
   "metadata": {},
   "outputs": [
    {
     "data": {
      "text/plain": [
       "2-element Array{Float64,1}:\n",
       " 3.935771479827001e-9\n",
       " 3.943381868615452e-9"
      ]
     },
     "execution_count": 133,
     "metadata": {},
     "output_type": "execute_result"
    }
   ],
   "source": [
    "value.(au)[:,4]"
   ]
  },
  {
   "cell_type": "code",
   "execution_count": 136,
   "metadata": {},
   "outputs": [
    {
     "data": {
      "text/plain": [
       "2-element Array{Float64,1}:\n",
       " 4.5341859163696816e-11\n",
       " 7.586165432540946e-11"
      ]
     },
     "execution_count": 136,
     "metadata": {},
     "output_type": "execute_result"
    }
   ],
   "source": [
    "value.(α)[:,6]"
   ]
  },
  {
   "cell_type": "code",
   "execution_count": 211,
   "metadata": {},
   "outputs": [
    {
     "data": {
      "text/plain": [
       "36×2 Array{Float64,2}:\n",
       " -0.176289   -0.0022519\n",
       " -0.170484    0.00450379\n",
       " -1.61171    -0.0114291\n",
       " -0.0819638  -1.70728e-9\n",
       " -0.411719    0.0102516\n",
       " -1.28085     0.00264982\n",
       " -0.177994    7.01339e-9\n",
       "  1.25964    -0.000520178\n",
       " -1.34383    -3.83828e-5\n",
       " -1.30106     0.00257531\n",
       " -0.0875928  -2.30829e-9\n",
       "  0.0210373  -0.00651564\n",
       "  1.86531    -0.000251231\n",
       "  ⋮          \n",
       "  0.0         0.0\n",
       "  0.0         0.0\n",
       "  0.0         0.0\n",
       "  0.0         0.0\n",
       "  0.0         0.0\n",
       "  0.0         0.0\n",
       "  0.0         0.0\n",
       "  0.0         0.0\n",
       "  0.0         0.0\n",
       "  0.0         0.0\n",
       "  0.0         0.0\n",
       "  0.0         0.0"
      ]
     },
     "execution_count": 211,
     "metadata": {},
     "output_type": "execute_result"
    }
   ],
   "source": [
    "value.(K)[:,:,1]"
   ]
  },
  {
   "cell_type": "code",
   "execution_count": 110,
   "metadata": {},
   "outputs": [
    {
     "data": {
      "text/plain": [
       "573.3561712692982"
      ]
     },
     "execution_count": 110,
     "metadata": {},
     "output_type": "execute_result"
    }
   ],
   "source": [
    "value.(s)[6,1]"
   ]
  },
  {
   "cell_type": "code",
   "execution_count": 98,
   "metadata": {},
   "outputs": [
    {
     "data": {
      "text/plain": [
       "3"
      ]
     },
     "execution_count": 98,
     "metadata": {},
     "output_type": "execute_result"
    }
   ],
   "source": [
    "k=3"
   ]
  },
  {
   "cell_type": "code",
   "execution_count": 102,
   "metadata": {},
   "outputs": [
    {
     "data": {
      "text/plain": [
       "2-element Array{Float64,1}:\n",
       " 58.02877187478016\n",
       " 59.48852902081974"
      ]
     },
     "execution_count": 102,
     "metadata": {},
     "output_type": "execute_result"
    }
   ],
   "source": [
    "ρ*sum(value.(s)[get_cone(k,i),:] for i=1:k-2)"
   ]
  },
  {
   "cell_type": "code",
   "execution_count": 75,
   "metadata": {},
   "outputs": [
    {
     "data": {
      "text/plain": [
       "2×9 Array{Float64,2}:\n",
       " -2608.12  2.43559e-7  -58.0288  …  -228.887  -286.016  -343.715  0.0\n",
       " -5177.64  3.09961e-9  -59.4885     -231.836  -288.018  -343.463  0.0"
      ]
     },
     "execution_count": 75,
     "metadata": {},
     "output_type": "execute_result"
    }
   ],
   "source": [
    "value.(α)"
   ]
  },
  {
   "cell_type": "code",
   "execution_count": 208,
   "metadata": {},
   "outputs": [],
   "source": [
    "xs = x[1,:]\n",
    "ys = x[3,:];"
   ]
  },
  {
   "cell_type": "code",
   "execution_count": 209,
   "metadata": {},
   "outputs": [
    {
     "data": {
      "text/plain": [
       "rectangle (generic function with 1 method)"
      ]
     },
     "execution_count": 209,
     "metadata": {},
     "output_type": "execute_result"
    }
   ],
   "source": [
    "rectangle(w, h, x, y) = Shape(ones(4)*x + [0,w,w,0], ones(4)*y + [0,0,h,h])"
   ]
  },
  {
   "cell_type": "code",
   "execution_count": 210,
   "metadata": {},
   "outputs": [
    {
     "data": {
      "image/svg+xml": [
       "<?xml version=\"1.0\" encoding=\"utf-8\"?>\n",
       "<svg xmlns=\"http://www.w3.org/2000/svg\" xmlns:xlink=\"http://www.w3.org/1999/xlink\" width=\"600\" height=\"400\" viewBox=\"0 0 2400 1600\">\n",
       "<defs>\n",
       "  <clipPath id=\"clip3600\">\n",
       "    <rect x=\"0\" y=\"0\" width=\"2400\" height=\"1600\"/>\n",
       "  </clipPath>\n",
       "</defs>\n",
       "<path clip-path=\"url(#clip3600)\" d=\"\n",
       "M0 1600 L2400 1600 L2400 0 L0 0  Z\n",
       "  \" fill=\"#ffffff\" fill-rule=\"evenodd\" fill-opacity=\"1\"/>\n",
       "<defs>\n",
       "  <clipPath id=\"clip3601\">\n",
       "    <rect x=\"480\" y=\"0\" width=\"1681\" height=\"1600\"/>\n",
       "  </clipPath>\n",
       "</defs>\n",
       "<path clip-path=\"url(#clip3600)\" d=\"\n",
       "M147.848 1486.45 L2352.76 1486.45 L2352.76 47.2441 L147.848 47.2441  Z\n",
       "  \" fill=\"#ffffff\" fill-rule=\"evenodd\" fill-opacity=\"1\"/>\n",
       "<defs>\n",
       "  <clipPath id=\"clip3602\">\n",
       "    <rect x=\"147\" y=\"47\" width=\"2206\" height=\"1440\"/>\n",
       "  </clipPath>\n",
       "</defs>\n",
       "<polyline clip-path=\"url(#clip3602)\" style=\"stroke:#000000; stroke-width:2; stroke-opacity:0.1; fill:none\" points=\"\n",
       "  210.251,1486.45 210.251,47.2441 \n",
       "  \"/>\n",
       "<polyline clip-path=\"url(#clip3602)\" style=\"stroke:#000000; stroke-width:2; stroke-opacity:0.1; fill:none\" points=\"\n",
       "  750.69,1486.45 750.69,47.2441 \n",
       "  \"/>\n",
       "<polyline clip-path=\"url(#clip3602)\" style=\"stroke:#000000; stroke-width:2; stroke-opacity:0.1; fill:none\" points=\"\n",
       "  1291.13,1486.45 1291.13,47.2441 \n",
       "  \"/>\n",
       "<polyline clip-path=\"url(#clip3602)\" style=\"stroke:#000000; stroke-width:2; stroke-opacity:0.1; fill:none\" points=\"\n",
       "  1831.57,1486.45 1831.57,47.2441 \n",
       "  \"/>\n",
       "<polyline clip-path=\"url(#clip3602)\" style=\"stroke:#000000; stroke-width:2; stroke-opacity:0.1; fill:none\" points=\"\n",
       "  147.848,1445.72 2352.76,1445.72 \n",
       "  \"/>\n",
       "<polyline clip-path=\"url(#clip3602)\" style=\"stroke:#000000; stroke-width:2; stroke-opacity:0.1; fill:none\" points=\"\n",
       "  147.848,1093.74 2352.76,1093.74 \n",
       "  \"/>\n",
       "<polyline clip-path=\"url(#clip3602)\" style=\"stroke:#000000; stroke-width:2; stroke-opacity:0.1; fill:none\" points=\"\n",
       "  147.848,741.767 2352.76,741.767 \n",
       "  \"/>\n",
       "<polyline clip-path=\"url(#clip3602)\" style=\"stroke:#000000; stroke-width:2; stroke-opacity:0.1; fill:none\" points=\"\n",
       "  147.848,389.793 2352.76,389.793 \n",
       "  \"/>\n",
       "<polyline clip-path=\"url(#clip3600)\" style=\"stroke:#000000; stroke-width:4; stroke-opacity:1; fill:none\" points=\"\n",
       "  147.848,1486.45 2352.76,1486.45 \n",
       "  \"/>\n",
       "<polyline clip-path=\"url(#clip3600)\" style=\"stroke:#000000; stroke-width:4; stroke-opacity:1; fill:none\" points=\"\n",
       "  147.848,1486.45 147.848,47.2441 \n",
       "  \"/>\n",
       "<polyline clip-path=\"url(#clip3600)\" style=\"stroke:#000000; stroke-width:4; stroke-opacity:1; fill:none\" points=\"\n",
       "  210.251,1486.45 210.251,1469.18 \n",
       "  \"/>\n",
       "<polyline clip-path=\"url(#clip3600)\" style=\"stroke:#000000; stroke-width:4; stroke-opacity:1; fill:none\" points=\"\n",
       "  750.69,1486.45 750.69,1469.18 \n",
       "  \"/>\n",
       "<polyline clip-path=\"url(#clip3600)\" style=\"stroke:#000000; stroke-width:4; stroke-opacity:1; fill:none\" points=\"\n",
       "  1291.13,1486.45 1291.13,1469.18 \n",
       "  \"/>\n",
       "<polyline clip-path=\"url(#clip3600)\" style=\"stroke:#000000; stroke-width:4; stroke-opacity:1; fill:none\" points=\"\n",
       "  1831.57,1486.45 1831.57,1469.18 \n",
       "  \"/>\n",
       "<polyline clip-path=\"url(#clip3600)\" style=\"stroke:#000000; stroke-width:4; stroke-opacity:1; fill:none\" points=\"\n",
       "  147.848,1445.72 174.307,1445.72 \n",
       "  \"/>\n",
       "<polyline clip-path=\"url(#clip3600)\" style=\"stroke:#000000; stroke-width:4; stroke-opacity:1; fill:none\" points=\"\n",
       "  147.848,1093.74 174.307,1093.74 \n",
       "  \"/>\n",
       "<polyline clip-path=\"url(#clip3600)\" style=\"stroke:#000000; stroke-width:4; stroke-opacity:1; fill:none\" points=\"\n",
       "  147.848,741.767 174.307,741.767 \n",
       "  \"/>\n",
       "<polyline clip-path=\"url(#clip3600)\" style=\"stroke:#000000; stroke-width:4; stroke-opacity:1; fill:none\" points=\"\n",
       "  147.848,389.793 174.307,389.793 \n",
       "  \"/>\n",
       "<path clip-path=\"url(#clip3600)\" d=\"M 0 0 M191.768 1508.44 Q188.157 1508.44 186.328 1512 Q184.522 1515.55 184.522 1522.67 Q184.522 1529.78 186.328 1533.35 Q188.157 1536.89 191.768 1536.89 Q195.402 1536.89 197.207 1533.35 Q199.036 1529.78 199.036 1522.67 Q199.036 1515.55 197.207 1512 Q195.402 1508.44 191.768 1508.44 M191.768 1504.73 Q197.578 1504.73 200.633 1509.34 Q203.712 1513.92 203.712 1522.67 Q203.712 1531.4 200.633 1536.01 Q197.578 1540.59 191.768 1540.59 Q185.957 1540.59 182.879 1536.01 Q179.823 1531.4 179.823 1522.67 Q179.823 1513.92 182.879 1509.34 Q185.957 1504.73 191.768 1504.73 Z\" fill=\"#000000\" fill-rule=\"evenodd\" fill-opacity=\"1\" /><path clip-path=\"url(#clip3600)\" d=\"M 0 0 M208.781 1534.04 L213.666 1534.04 L213.666 1539.92 L208.781 1539.92 L208.781 1534.04 Z\" fill=\"#000000\" fill-rule=\"evenodd\" fill-opacity=\"1\" /><path clip-path=\"url(#clip3600)\" d=\"M 0 0 M228.735 1508.44 Q225.124 1508.44 223.295 1512 Q221.49 1515.55 221.49 1522.67 Q221.49 1529.78 223.295 1533.35 Q225.124 1536.89 228.735 1536.89 Q232.369 1536.89 234.175 1533.35 Q236.004 1529.78 236.004 1522.67 Q236.004 1515.55 234.175 1512 Q232.369 1508.44 228.735 1508.44 M228.735 1504.73 Q234.545 1504.73 237.601 1509.34 Q240.679 1513.92 240.679 1522.67 Q240.679 1531.4 237.601 1536.01 Q234.545 1540.59 228.735 1540.59 Q222.925 1540.59 219.846 1536.01 Q216.791 1531.4 216.791 1522.67 Q216.791 1513.92 219.846 1509.34 Q222.925 1504.73 228.735 1504.73 Z\" fill=\"#000000\" fill-rule=\"evenodd\" fill-opacity=\"1\" /><path clip-path=\"url(#clip3600)\" d=\"M 0 0 M732.704 1508.44 Q729.093 1508.44 727.264 1512 Q725.459 1515.55 725.459 1522.67 Q725.459 1529.78 727.264 1533.35 Q729.093 1536.89 732.704 1536.89 Q736.338 1536.89 738.144 1533.35 Q739.972 1529.78 739.972 1522.67 Q739.972 1515.55 738.144 1512 Q736.338 1508.44 732.704 1508.44 M732.704 1504.73 Q738.514 1504.73 741.57 1509.34 Q744.648 1513.92 744.648 1522.67 Q744.648 1531.4 741.57 1536.01 Q738.514 1540.59 732.704 1540.59 Q726.894 1540.59 723.815 1536.01 Q720.76 1531.4 720.76 1522.67 Q720.76 1513.92 723.815 1509.34 Q726.894 1504.73 732.704 1504.73 Z\" fill=\"#000000\" fill-rule=\"evenodd\" fill-opacity=\"1\" /><path clip-path=\"url(#clip3600)\" d=\"M 0 0 M749.718 1534.04 L754.602 1534.04 L754.602 1539.92 L749.718 1539.92 L749.718 1534.04 Z\" fill=\"#000000\" fill-rule=\"evenodd\" fill-opacity=\"1\" /><path clip-path=\"url(#clip3600)\" d=\"M 0 0 M759.718 1505.36 L778.074 1505.36 L778.074 1509.3 L764 1509.3 L764 1517.77 Q765.019 1517.42 766.037 1517.26 Q767.056 1517.07 768.074 1517.07 Q773.861 1517.07 777.241 1520.24 Q780.62 1523.42 780.62 1528.83 Q780.62 1534.41 777.148 1537.51 Q773.676 1540.59 767.357 1540.59 Q765.181 1540.59 762.912 1540.22 Q760.667 1539.85 758.259 1539.11 L758.259 1534.41 Q760.343 1535.54 762.565 1536.1 Q764.787 1536.66 767.264 1536.66 Q771.269 1536.66 773.606 1534.55 Q775.944 1532.44 775.944 1528.83 Q775.944 1525.22 773.606 1523.11 Q771.269 1521.01 767.264 1521.01 Q765.389 1521.01 763.514 1521.42 Q761.662 1521.84 759.718 1522.72 L759.718 1505.36 Z\" fill=\"#000000\" fill-rule=\"evenodd\" fill-opacity=\"1\" /><path clip-path=\"url(#clip3600)\" d=\"M 0 0 M1263.03 1535.98 L1270.67 1535.98 L1270.67 1509.62 L1262.36 1511.29 L1262.36 1507.03 L1270.62 1505.36 L1275.3 1505.36 L1275.3 1535.98 L1282.93 1535.98 L1282.93 1539.92 L1263.03 1539.92 L1263.03 1535.98 Z\" fill=\"#000000\" fill-rule=\"evenodd\" fill-opacity=\"1\" /><path clip-path=\"url(#clip3600)\" d=\"M 0 0 M1288 1534.04 L1292.89 1534.04 L1292.89 1539.92 L1288 1539.92 L1288 1534.04 Z\" fill=\"#000000\" fill-rule=\"evenodd\" fill-opacity=\"1\" /><path clip-path=\"url(#clip3600)\" d=\"M 0 0 M1307.96 1508.44 Q1304.35 1508.44 1302.52 1512 Q1300.71 1515.55 1300.71 1522.67 Q1300.71 1529.78 1302.52 1533.35 Q1304.35 1536.89 1307.96 1536.89 Q1311.59 1536.89 1313.4 1533.35 Q1315.23 1529.78 1315.23 1522.67 Q1315.23 1515.55 1313.4 1512 Q1311.59 1508.44 1307.96 1508.44 M1307.96 1504.73 Q1313.77 1504.73 1316.82 1509.34 Q1319.9 1513.92 1319.9 1522.67 Q1319.9 1531.4 1316.82 1536.01 Q1313.77 1540.59 1307.96 1540.59 Q1302.15 1540.59 1299.07 1536.01 Q1296.01 1531.4 1296.01 1522.67 Q1296.01 1513.92 1299.07 1509.34 Q1302.15 1504.73 1307.96 1504.73 Z\" fill=\"#000000\" fill-rule=\"evenodd\" fill-opacity=\"1\" /><path clip-path=\"url(#clip3600)\" d=\"M 0 0 M1803.96 1535.98 L1811.6 1535.98 L1811.6 1509.62 L1803.29 1511.29 L1803.29 1507.03 L1811.56 1505.36 L1816.23 1505.36 L1816.23 1535.98 L1823.87 1535.98 L1823.87 1539.92 L1803.96 1539.92 L1803.96 1535.98 Z\" fill=\"#000000\" fill-rule=\"evenodd\" fill-opacity=\"1\" /><path clip-path=\"url(#clip3600)\" d=\"M 0 0 M1828.94 1534.04 L1833.82 1534.04 L1833.82 1539.92 L1828.94 1539.92 L1828.94 1534.04 Z\" fill=\"#000000\" fill-rule=\"evenodd\" fill-opacity=\"1\" /><path clip-path=\"url(#clip3600)\" d=\"M 0 0 M1838.94 1505.36 L1857.3 1505.36 L1857.3 1509.3 L1843.22 1509.3 L1843.22 1517.77 Q1844.24 1517.42 1845.26 1517.26 Q1846.28 1517.07 1847.3 1517.07 Q1853.08 1517.07 1856.46 1520.24 Q1859.84 1523.42 1859.84 1528.83 Q1859.84 1534.41 1856.37 1537.51 Q1852.9 1540.59 1846.58 1540.59 Q1844.4 1540.59 1842.13 1540.22 Q1839.89 1539.85 1837.48 1539.11 L1837.48 1534.41 Q1839.56 1535.54 1841.79 1536.1 Q1844.01 1536.66 1846.49 1536.66 Q1850.49 1536.66 1852.83 1534.55 Q1855.17 1532.44 1855.17 1528.83 Q1855.17 1525.22 1852.83 1523.11 Q1850.49 1521.01 1846.49 1521.01 Q1844.61 1521.01 1842.74 1521.42 Q1840.88 1521.84 1838.94 1522.72 L1838.94 1505.36 Z\" fill=\"#000000\" fill-rule=\"evenodd\" fill-opacity=\"1\" /><path clip-path=\"url(#clip3600)\" d=\"M 0 0 M74.9365 1431.51 Q71.3254 1431.51 69.4967 1435.08 Q67.6912 1438.62 67.6912 1445.75 Q67.6912 1452.86 69.4967 1456.42 Q71.3254 1459.96 74.9365 1459.96 Q78.5707 1459.96 80.3763 1456.42 Q82.205 1452.86 82.205 1445.75 Q82.205 1438.62 80.3763 1435.08 Q78.5707 1431.51 74.9365 1431.51 M74.9365 1427.81 Q80.7467 1427.81 83.8022 1432.42 Q86.8809 1437 86.8809 1445.75 Q86.8809 1454.48 83.8022 1459.08 Q80.7467 1463.67 74.9365 1463.67 Q69.1264 1463.67 66.0477 1459.08 Q62.9921 1454.48 62.9921 1445.75 Q62.9921 1437 66.0477 1432.42 Q69.1264 1427.81 74.9365 1427.81 Z\" fill=\"#000000\" fill-rule=\"evenodd\" fill-opacity=\"1\" /><path clip-path=\"url(#clip3600)\" d=\"M 0 0 M91.9503 1457.12 L96.8345 1457.12 L96.8345 1463 L91.9503 1463 L91.9503 1457.12 Z\" fill=\"#000000\" fill-rule=\"evenodd\" fill-opacity=\"1\" /><path clip-path=\"url(#clip3600)\" d=\"M 0 0 M111.904 1431.51 Q108.293 1431.51 106.464 1435.08 Q104.659 1438.62 104.659 1445.75 Q104.659 1452.86 106.464 1456.42 Q108.293 1459.96 111.904 1459.96 Q115.538 1459.96 117.344 1456.42 Q119.172 1452.86 119.172 1445.75 Q119.172 1438.62 117.344 1435.08 Q115.538 1431.51 111.904 1431.51 M111.904 1427.81 Q117.714 1427.81 120.77 1432.42 Q123.848 1437 123.848 1445.75 Q123.848 1454.48 120.77 1459.08 Q117.714 1463.67 111.904 1463.67 Q106.094 1463.67 103.015 1459.08 Q99.9595 1454.48 99.9595 1445.75 Q99.9595 1437 103.015 1432.42 Q106.094 1427.81 111.904 1427.81 Z\" fill=\"#000000\" fill-rule=\"evenodd\" fill-opacity=\"1\" /><path clip-path=\"url(#clip3600)\" d=\"M 0 0 M75.9319 1079.54 Q72.3208 1079.54 70.4921 1083.1 Q68.6865 1086.65 68.6865 1093.78 Q68.6865 1100.88 70.4921 1104.45 Q72.3208 1107.99 75.9319 1107.99 Q79.5661 1107.99 81.3717 1104.45 Q83.2004 1100.88 83.2004 1093.78 Q83.2004 1086.65 81.3717 1083.1 Q79.5661 1079.54 75.9319 1079.54 M75.9319 1075.84 Q81.742 1075.84 84.7976 1080.44 Q87.8763 1085.03 87.8763 1093.78 Q87.8763 1102.5 84.7976 1107.11 Q81.742 1111.69 75.9319 1111.69 Q70.1217 1111.69 67.043 1107.11 Q63.9875 1102.5 63.9875 1093.78 Q63.9875 1085.03 67.043 1080.44 Q70.1217 1075.84 75.9319 1075.84 Z\" fill=\"#000000\" fill-rule=\"evenodd\" fill-opacity=\"1\" /><path clip-path=\"url(#clip3600)\" d=\"M 0 0 M92.9457 1105.14 L97.8299 1105.14 L97.8299 1111.02 L92.9457 1111.02 L92.9457 1105.14 Z\" fill=\"#000000\" fill-rule=\"evenodd\" fill-opacity=\"1\" /><path clip-path=\"url(#clip3600)\" d=\"M 0 0 M102.946 1076.46 L121.302 1076.46 L121.302 1080.4 L107.228 1080.4 L107.228 1088.87 Q108.247 1088.52 109.265 1088.36 Q110.284 1088.17 111.302 1088.17 Q117.089 1088.17 120.469 1091.35 Q123.848 1094.52 123.848 1099.93 Q123.848 1105.51 120.376 1108.61 Q116.904 1111.69 110.584 1111.69 Q108.409 1111.69 106.14 1111.32 Q103.895 1110.95 101.487 1110.21 L101.487 1105.51 Q103.571 1106.65 105.793 1107.2 Q108.015 1107.76 110.492 1107.76 Q114.496 1107.76 116.834 1105.65 Q119.172 1103.54 119.172 1099.93 Q119.172 1096.32 116.834 1094.22 Q114.496 1092.11 110.492 1092.11 Q108.617 1092.11 106.742 1092.53 Q104.89 1092.94 102.946 1093.82 L102.946 1076.46 Z\" fill=\"#000000\" fill-rule=\"evenodd\" fill-opacity=\"1\" /><path clip-path=\"url(#clip3600)\" d=\"M 0 0 M66.9736 755.112 L74.6124 755.112 L74.6124 728.746 L66.3023 730.413 L66.3023 726.154 L74.5661 724.487 L79.242 724.487 L79.242 755.112 L86.8809 755.112 L86.8809 759.047 L66.9736 759.047 L66.9736 755.112 Z\" fill=\"#000000\" fill-rule=\"evenodd\" fill-opacity=\"1\" /><path clip-path=\"url(#clip3600)\" d=\"M 0 0 M91.9503 753.167 L96.8345 753.167 L96.8345 759.047 L91.9503 759.047 L91.9503 753.167 Z\" fill=\"#000000\" fill-rule=\"evenodd\" fill-opacity=\"1\" /><path clip-path=\"url(#clip3600)\" d=\"M 0 0 M111.904 727.566 Q108.293 727.566 106.464 731.131 Q104.659 734.672 104.659 741.802 Q104.659 748.908 106.464 752.473 Q108.293 756.015 111.904 756.015 Q115.538 756.015 117.344 752.473 Q119.172 748.908 119.172 741.802 Q119.172 734.672 117.344 731.131 Q115.538 727.566 111.904 727.566 M111.904 723.862 Q117.714 723.862 120.77 728.469 Q123.848 733.052 123.848 741.802 Q123.848 750.529 120.77 755.135 Q117.714 759.718 111.904 759.718 Q106.094 759.718 103.015 755.135 Q99.9595 750.529 99.9595 741.802 Q99.9595 733.052 103.015 728.469 Q106.094 723.862 111.904 723.862 Z\" fill=\"#000000\" fill-rule=\"evenodd\" fill-opacity=\"1\" /><path clip-path=\"url(#clip3600)\" d=\"M 0 0 M67.969 403.138 L75.6078 403.138 L75.6078 376.772 L67.2977 378.439 L67.2977 374.179 L75.5615 372.513 L80.2374 372.513 L80.2374 403.138 L87.8763 403.138 L87.8763 407.073 L67.969 407.073 L67.969 403.138 Z\" fill=\"#000000\" fill-rule=\"evenodd\" fill-opacity=\"1\" /><path clip-path=\"url(#clip3600)\" d=\"M 0 0 M92.9457 401.193 L97.8299 401.193 L97.8299 407.073 L92.9457 407.073 L92.9457 401.193 Z\" fill=\"#000000\" fill-rule=\"evenodd\" fill-opacity=\"1\" /><path clip-path=\"url(#clip3600)\" d=\"M 0 0 M102.946 372.513 L121.302 372.513 L121.302 376.448 L107.228 376.448 L107.228 384.92 Q108.247 384.573 109.265 384.411 Q110.284 384.226 111.302 384.226 Q117.089 384.226 120.469 387.397 Q123.848 390.568 123.848 395.985 Q123.848 401.564 120.376 404.665 Q116.904 407.744 110.584 407.744 Q108.409 407.744 106.14 407.374 Q103.895 407.003 101.487 406.263 L101.487 401.564 Q103.571 402.698 105.793 403.253 Q108.015 403.809 110.492 403.809 Q114.496 403.809 116.834 401.702 Q119.172 399.596 119.172 395.985 Q119.172 392.374 116.834 390.267 Q114.496 388.161 110.492 388.161 Q108.617 388.161 106.742 388.577 Q104.89 388.994 102.946 389.874 L102.946 372.513 Z\" fill=\"#000000\" fill-rule=\"evenodd\" fill-opacity=\"1\" /><circle clip-path=\"url(#clip3602)\" cx=\"210.251\" cy=\"1445.72\" r=\"14\" fill=\"#009af9\" fill-rule=\"evenodd\" fill-opacity=\"1\" stroke=\"#000000\" stroke-opacity=\"1\" stroke-width=\"3.2\"/>\n",
       "<circle clip-path=\"url(#clip3602)\" cx=\"210.251\" cy=\"1445.72\" r=\"14\" fill=\"#009af9\" fill-rule=\"evenodd\" fill-opacity=\"1\" stroke=\"#000000\" stroke-opacity=\"1\" stroke-width=\"3.2\"/>\n",
       "<circle clip-path=\"url(#clip3602)\" cx=\"214.894\" cy=\"1442.19\" r=\"14\" fill=\"#009af9\" fill-rule=\"evenodd\" fill-opacity=\"1\" stroke=\"#000000\" stroke-opacity=\"1\" stroke-width=\"3.2\"/>\n",
       "<circle clip-path=\"url(#clip3602)\" cx=\"629.986\" cy=\"1171.35\" r=\"14\" fill=\"#009af9\" fill-rule=\"evenodd\" fill-opacity=\"1\" stroke=\"#000000\" stroke-opacity=\"1\" stroke-width=\"3.2\"/>\n",
       "<circle clip-path=\"url(#clip3602)\" cx=\"1045.08\" cy=\"900.504\" r=\"14\" fill=\"#009af9\" fill-rule=\"evenodd\" fill-opacity=\"1\" stroke=\"#000000\" stroke-opacity=\"1\" stroke-width=\"3.2\"/>\n",
       "<circle clip-path=\"url(#clip3602)\" cx=\"1460.17\" cy=\"629.663\" r=\"14\" fill=\"#009af9\" fill-rule=\"evenodd\" fill-opacity=\"1\" stroke=\"#000000\" stroke-opacity=\"1\" stroke-width=\"3.2\"/>\n",
       "<circle clip-path=\"url(#clip3602)\" cx=\"1875.26\" cy=\"358.82\" r=\"14\" fill=\"#009af9\" fill-rule=\"evenodd\" fill-opacity=\"1\" stroke=\"#000000\" stroke-opacity=\"1\" stroke-width=\"3.2\"/>\n",
       "<circle clip-path=\"url(#clip3602)\" cx=\"2290.35\" cy=\"87.9763\" r=\"14\" fill=\"#009af9\" fill-rule=\"evenodd\" fill-opacity=\"1\" stroke=\"#000000\" stroke-opacity=\"1\" stroke-width=\"3.2\"/>\n",
       "<circle clip-path=\"url(#clip3602)\" cx=\"242.786\" cy=\"1421.01\" r=\"14\" fill=\"#009af9\" fill-rule=\"evenodd\" fill-opacity=\"1\" stroke=\"#000000\" stroke-opacity=\"1\" stroke-width=\"3.2\"/>\n",
       "<path clip-path=\"url(#clip3600)\" d=\"\n",
       "M1989.74 251.724 L2280.76 251.724 L2280.76 130.764 L1989.74 130.764  Z\n",
       "  \" fill=\"#ffffff\" fill-rule=\"evenodd\" fill-opacity=\"1\"/>\n",
       "<polyline clip-path=\"url(#clip3600)\" style=\"stroke:#000000; stroke-width:4; stroke-opacity:1; fill:none\" points=\"\n",
       "  1989.74,251.724 2280.76,251.724 2280.76,130.764 1989.74,130.764 1989.74,251.724 \n",
       "  \"/>\n",
       "<circle clip-path=\"url(#clip3600)\" cx=\"2097.74\" cy=\"191.244\" r=\"21\" fill=\"#009af9\" fill-rule=\"evenodd\" fill-opacity=\"1\" stroke=\"#000000\" stroke-opacity=\"1\" stroke-width=\"3.2\"/>\n",
       "<path clip-path=\"url(#clip3600)\" d=\"M 0 0 M2195.58 210.931 Q2193.77 215.561 2192.06 216.973 Q2190.35 218.385 2187.48 218.385 L2184.08 218.385 L2184.08 214.82 L2186.58 214.82 Q2188.33 214.82 2189.31 213.987 Q2190.28 213.154 2191.46 210.052 L2192.22 208.107 L2181.74 182.598 L2186.25 182.598 L2194.35 202.876 L2202.46 182.598 L2206.97 182.598 L2195.58 210.931 Z\" fill=\"#000000\" fill-rule=\"evenodd\" fill-opacity=\"1\" /><path clip-path=\"url(#clip3600)\" d=\"M 0 0 M2212.85 204.589 L2220.49 204.589 L2220.49 178.223 L2212.18 179.89 L2212.18 175.631 L2220.44 173.964 L2225.12 173.964 L2225.12 204.589 L2232.76 204.589 L2232.76 208.524 L2212.85 208.524 L2212.85 204.589 Z\" fill=\"#000000\" fill-rule=\"evenodd\" fill-opacity=\"1\" /></svg>\n"
      ]
     },
     "execution_count": 210,
     "metadata": {},
     "output_type": "execute_result"
    }
   ],
   "source": [
    "plot(xs, ys, seriestype = :scatter)\n",
    "#plot!(rectangle(0.035,0.03,0.015,0), opacity=.5)"
   ]
  },
  {
   "cell_type": "markdown",
   "metadata": {},
   "source": [
    "## Debug"
   ]
  },
  {
   "cell_type": "markdown",
   "metadata": {},
   "source": []
  },
  {
   "cell_type": "code",
   "execution_count": 190,
   "metadata": {},
   "outputs": [
    {
     "data": {
      "text/plain": [
       "2-element Array{Float64,1}:\n",
       " -0.1\n",
       "  0.0"
      ]
     },
     "execution_count": 190,
     "metadata": {},
     "output_type": "execute_result"
    }
   ],
   "source": [
    "(P*Q*ABw(k,i))[l,:]"
   ]
  },
  {
   "cell_type": "code",
   "execution_count": 187,
   "metadata": {},
   "outputs": [
    {
     "data": {
      "text/plain": [
       "2-element Array{GenericAffExpr{Float64,VariableRef},1}:\n",
       " -0.1 K[2,1,1]\n",
       " 0.1 K[2,1,2]"
      ]
     },
     "execution_count": 187,
     "metadata": {},
     "output_type": "execute_result"
    }
   ],
   "source": [
    "sum(P*Q*AB(k,i)*K[getK(j,i+1),:,:][l,:] for j=(i+1):(k-1))"
   ]
  },
  {
   "cell_type": "code",
   "execution_count": null,
   "metadata": {},
   "outputs": [],
   "source": [
    "@constraint(model, [k=2:N,i=0:(k-2)], vcat(s[k-2+i+1,l], sum(\n",
    "            B*K[getK(j,i+1),:,:] for j=(i+1):(k-1))) in SecondOrderCone());"
   ]
  },
  {
   "cell_type": "code",
   "execution_count": null,
   "metadata": {},
   "outputs": [],
   "source": [
    "@constraint(model, [k=3:N-1], (P*Q*Ai(k)*x0+sum(P*Q*ABki(k,i)*α[:,i] for i=1:k-1)\n",
    "        +sum(ρ*t[k-2+i+1,:] for i=0:k-2))"
   ]
  },
  {
   "cell_type": "code",
   "execution_count": 234,
   "metadata": {},
   "outputs": [],
   "source": [
    "@constraint(model, [k=2:N,i=0:(k-2)], vcat(s[k-2+i+1,l], sum(\n",
    "            B*K[getK(j,i+1),:,:] for j=(i+1):(k-1))) in SecondOrderCone());\n",
    "@constraint(model, [k=2:N,i=0:(k-2),l=1:2], vcat(t[k-2+i+1,l], cki(k,i)[l,:]+sum(\n",
    "            dki(k,j)*K[getK(j,i+1),:,:][l,:] for j=(i+1):(k-1))) in SecondOrderCone());\n",
    "@constraint(model, [k=2:N-1], (η(k)*x0+sum(cki(k,i)*α[:,i+1] for i=0:k-1)\n",
    "        +sum(ρ*t[k-2+i+1,:] for i=0:k-2)\n",
    "        +ρ*mapslices(norm, A1*C*Bw, dims=2)[:]) .<= b1+M*z[k,:]);\n",
    "@objective(model, Min, sum(au));"
   ]
  },
  {
   "cell_type": "code",
   "execution_count": 184,
   "metadata": {},
   "outputs": [
    {
     "data": {
      "text/plain": [
       "2-element Array{GenericAffExpr{Float64,VariableRef},1}:\n",
       " -0.1 K[1,1,1]\n",
       " -0.1 K[1,1,2]"
      ]
     },
     "execution_count": 184,
     "metadata": {},
     "output_type": "execute_result"
    }
   ],
   "source": [
    "j = 1\n",
    "(dki(k,j)*K[getK(j,i+1),:,:])[1,:]"
   ]
  },
  {
   "cell_type": "code",
   "execution_count": 185,
   "metadata": {},
   "outputs": [
    {
     "data": {
      "text/plain": [
       "2-element Array{GenericAffExpr{Float64,VariableRef},1}:\n",
       " -0.1 K[1,1,1] - 0.1\n",
       " -0.1 K[1,1,2]"
      ]
     },
     "execution_count": 185,
     "metadata": {},
     "output_type": "execute_result"
    }
   ],
   "source": [
    "cki(k,i)[1,:]+(dki(k,j)*K[getK(j,i+1),:,:])[1,:]"
   ]
  },
  {
   "cell_type": "code",
   "execution_count": 173,
   "metadata": {},
   "outputs": [
    {
     "data": {
      "text/plain": [
       "2-element Array{VariableRef,1}:\n",
       " K[1,1,1]\n",
       " K[1,2,1]"
      ]
     },
     "execution_count": 173,
     "metadata": {},
     "output_type": "execute_result"
    }
   ],
   "source": [
    "K[getK(j,i+1),:,1]"
   ]
  },
  {
   "cell_type": "code",
   "execution_count": 175,
   "metadata": {},
   "outputs": [
    {
     "data": {
      "text/latex": [
       "$$ -0.1 K_{1,1,1} $$"
      ],
      "text/plain": [
       "-0.1 K[1,1,1]"
      ]
     },
     "execution_count": 175,
     "metadata": {},
     "output_type": "execute_result"
    }
   ],
   "source": [
    "sum(dki(k,j)[1,:]*K[getK(j,i+1),:,:] for j=(i+1):(k-1))"
   ]
  },
  {
   "cell_type": "code",
   "execution_count": 192,
   "metadata": {},
   "outputs": [
    {
     "data": {
      "text/plain": [
       "3-element Array{GenericAffExpr{Float64,VariableRef},1}:\n",
       " t[2,1]\n",
       " -0.1 K[1,1,1] - 0.1\n",
       " 0.1 K[1,1,2]"
      ]
     },
     "execution_count": 192,
     "metadata": {},
     "output_type": "execute_result"
    }
   ],
   "source": [
    "k,i = (2,0)\n",
    "vcat(t[k,1], cki(k,i)[1,:]+sum(\n",
    "        dki(k,j)*K[getK(j,i+1),:,:][1,:] for j=(i+1):(k-1)))"
   ]
  },
  {
   "cell_type": "code",
   "execution_count": 223,
   "metadata": {},
   "outputs": [],
   "source": [
    "@constraint(model, [k=2:N,i=0:(k-2),l=1:2], vcat(t[k-2+i+1,l], cki(k,i)[l,:]+sum(\n",
    "            dki(k,j)*K[getK(j,i+1),:,:][l,:] for j=(i+1):(k-1))) in SecondOrderCone());"
   ]
  },
  {
   "cell_type": "code",
   "execution_count": 200,
   "metadata": {},
   "outputs": [
    {
     "data": {
      "text/plain": [
       "2×2 Array{Float64,2}:\n",
       " -0.1  0.0\n",
       "  0.0  0.1"
      ]
     },
     "execution_count": 200,
     "metadata": {},
     "output_type": "execute_result"
    }
   ],
   "source": [
    "cki(k,i)"
   ]
  },
  {
   "cell_type": "code",
   "execution_count": 243,
   "metadata": {},
   "outputs": [
    {
     "data": {
      "text/plain": [
       "2-element Array{Float64,1}:\n",
       " 0.0\n",
       " 0.0"
      ]
     },
     "execution_count": 243,
     "metadata": {},
     "output_type": "execute_result"
    }
   ],
   "source": [
    "η(k)*x0"
   ]
  },
  {
   "cell_type": "code",
   "execution_count": 246,
   "metadata": {},
   "outputs": [
    {
     "data": {
      "text/plain": [
       "2-element Array{GenericAffExpr{Float64,VariableRef},1}:\n",
       " -0.1 α[1,1] - 0.1 α[1,2] + 3 t[1,1]\n",
       " 0.1 α[2,1] + 0.1 α[2,2] + 3 t[1,2]"
      ]
     },
     "execution_count": 246,
     "metadata": {},
     "output_type": "execute_result"
    }
   ],
   "source": [
    "η(k)*x0+sum(cki(k,i)*α[:,i+1] for i=0:k-1)+sum(ρ*t[k-2+i+1,:] for i=0:k-2)"
   ]
  },
  {
   "cell_type": "code",
   "execution_count": 224,
   "metadata": {},
   "outputs": [
    {
     "data": {
      "text/plain": [
       "2-element Array{GenericAffExpr{Float64,VariableRef},1}:\n",
       " 3 t[1,1]\n",
       " 3 t[1,2]"
      ]
     },
     "execution_count": 224,
     "metadata": {},
     "output_type": "execute_result"
    }
   ],
   "source": [
    "sum(ρ*t[k-2+i+1,:] for i=0:k-2)"
   ]
  },
  {
   "cell_type": "code",
   "execution_count": 255,
   "metadata": {},
   "outputs": [
    {
     "data": {
      "text/plain": [
       "2-element Array{GenericAffExpr{Float64,VariableRef},1}:\n",
       " -0.1 α[1,1] - 0.1 α[1,2] + 3 t[1,1] + 0.30000000000000004\n",
       " 0.1 α[2,1] + 0.1 α[2,2] + 3 t[1,2] + 0.30000000000000004"
      ]
     },
     "execution_count": 255,
     "metadata": {},
     "output_type": "execute_result"
    }
   ],
   "source": [
    "(η(k)*x0+sum(cki(k,i)*α[:,i+1] for i=0:k-1)\n",
    "        +sum(ρ*t[k-2+i+1,:] for i=0:k-2)\n",
    "        +ρ*mapslices(norm, A1*C*Bw, dims=2)[:])"
   ]
  },
  {
   "cell_type": "code",
   "execution_count": 239,
   "metadata": {},
   "outputs": [
    {
     "data": {
      "text/plain": [
       "2-element Array{GenericAffExpr{Float64,VariableRef},1}:\n",
       " 1000 z[2,1] - 0.015\n",
       " 1000 z[2,2] + 0.03"
      ]
     },
     "execution_count": 239,
     "metadata": {},
     "output_type": "execute_result"
    }
   ],
   "source": [
    "b1+M*z[k,:]"
   ]
  },
  {
   "cell_type": "code",
   "execution_count": 257,
   "metadata": {},
   "outputs": [
    {
     "data": {
      "text/plain": [
       "1-dimensional DenseAxisArray{Array{ConstraintRef{Model,MathOptInterface.ConstraintIndex{MathOptInterface.ScalarAffineFunction{Float64},MathOptInterface.LessThan{Float64}},ScalarShape},1},1,...} with index sets:\n",
       "    Dimension 1, 2:8\n",
       "And data, a 7-element Array{Array{ConstraintRef{Model,MathOptInterface.ConstraintIndex{MathOptInterface.ScalarAffineFunction{Float64},MathOptInterface.LessThan{Float64}},ScalarShape},1},1}:\n",
       " [-0.1 α[1,1] - 0.1 α[1,2] + 3 t[1,1] - 1000 z[2,1] <= -0.31500000000000006, 0.1 α[2,1] + 0.1 α[2,2] + 3 t[1,2] - 1000 z[2,2] <= -0.27]\n",
       " [-0.1 α[1,1] - 0.1 α[1,2] - 0.1 α[1,3] + 3 t[2,1] + 3 t[3,1] - 1000 z[3,1] <= -0.31500000000000006, 0.1 α[2,1] + 0.1 α[2,2] + 0.1 α[2,3] + 3 t[2,2] + 3 t[3,2] - 1000 z[3,2] <= -0.27]\n",
       " [-0.1 α[1,1] - 0.1 α[1,2] - 0.1 α[1,3] - 0.1 α[1,4] + 3 t[3,1] + 3 t[4,1] + 3 t[5,1] - 1000 z[4,1] <= -0.31500000000000006, 0.1 α[2,1] + 0.1 α[2,2] + 0.1 α[2,3] + 0.1 α[2,4] + 3 t[3,2] + 3 t[4,2] + 3 t[5,2] - 1000 z[4,2] <= -0.27]\n",
       " [-0.1 α[1,1] - 0.1 α[1,2] - 0.1 α[1,3] - 0.1 α[1,4] - 0.1 α[1,5] + 3 t[4,1] + 3 t[5,1] + 3 t[6,1] + 3 t[7,1] - 1000 z[5,1] <= -0.31500000000000006, 0.1 α[2,1] + 0.1 α[2,2] + 0.1 α[2,3] + 0.1 α[2,4] + 0.1 α[2,5] + 3 t[4,2] + 3 t[5,2] + 3 t[6,2] + 3 t[7,2] - 1000 z[5,2] <= -0.27]\n",
       " [-0.1 α[1,1] - 0.1 α[1,2] - 0.1 α[1,3] - 0.1 α[1,4] - 0.1 α[1,5] - 0.1 α[1,6] + 3 t[5,1] + 3 t[6,1] + 3 t[7,1] + 3 t[8,1] + 3 t[9,1] - 1000 z[6,1] <= -0.31500000000000006, 0.1 α[2,1] + 0.1 α[2,2] + 0.1 α[2,3] + 0.1 α[2,4] + 0.1 α[2,5] + 0.1 α[2,6] + 3 t[5,2] + 3 t[6,2] + 3 t[7,2] + 3 t[8,2] + 3 t[9,2] - 1000 z[6,2] <= -0.27]\n",
       " [-0.1 α[1,1] - 0.1 α[1,2] - 0.1 α[1,3] - 0.1 α[1,4] - 0.1 α[1,5] - 0.1 α[1,6] - 0.1 α[1,7] + 3 t[6,1] + 3 t[7,1] + 3 t[8,1] + 3 t[9,1] + 3 t[10,1] + 3 t[11,1] - 1000 z[7,1] <= -0.31500000000000006, 0.1 α[2,1] + 0.1 α[2,2] + 0.1 α[2,3] + 0.1 α[2,4] + 0.1 α[2,5] + 0.1 α[2,6] + 0.1 α[2,7] + 3 t[6,2] + 3 t[7,2] + 3 t[8,2] + 3 t[9,2] + 3 t[10,2] + 3 t[11,2] - 1000 z[7,2] <= -0.27]\n",
       " [-0.1 α[1,1] - 0.1 α[1,2] - 0.1 α[1,3] - 0.1 α[1,4] - 0.1 α[1,5] - 0.1 α[1,6] - 0.1 α[1,7] - 0.1 α[1,8] + 3 t[7,1] + 3 t[8,1] + 3 t[9,1] + 3 t[10,1] + 3 t[11,1] + 3 t[12,1] + 3 t[13,1] - 1000 z[8,1] <= -0.31500000000000006, 0.1 α[2,1] + 0.1 α[2,2] + 0.1 α[2,3] + 0.1 α[2,4] + 0.1 α[2,5] + 0.1 α[2,6] + 0.1 α[2,7] + 0.1 α[2,8] + 3 t[7,2] + 3 t[8,2] + 3 t[9,2] + 3 t[10,2] + 3 t[11,2] + 3 t[12,2] + 3 t[13,2] - 1000 z[8,2] <= -0.27]"
      ]
     },
     "execution_count": 257,
     "metadata": {},
     "output_type": "execute_result"
    }
   ],
   "source": [
    "@constraint(model, [k=2:N-1], (η(k)*x0+sum(cki(k,i)*α[:,i+1] for i=0:k-1)\n",
    "        +sum(ρ*t[k-2+i+1,:] for i=0:k-2)\n",
    "        +ρ*mapslices(norm, A1*C*Bw, dims=2)[:]) .<= b1+M*z[k,:]);"
   ]
  },
  {
   "cell_type": "markdown",
   "metadata": {},
   "source": [
    "### Dual formulation"
   ]
  },
  {
   "cell_type": "code",
   "execution_count": 4,
   "metadata": {},
   "outputs": [],
   "source": [
    "model = Model(optimizer_with_attributes(\n",
    "        () -> Gurobi.Optimizer(GRB_ENV), #\"OutputFlag\" => 0\n",
    "    ));\n",
    "@variable(model, r1[1:2]>=0)\n",
    "@variable(model, r2[1:2]>=0)\n",
    "@variable(model, q[1:2, 1:N]>=0)\n",
    "@variable(model, p[1:2, 1:N]>=0)\n",
    "@variable(model, u[1:2, 1:N-1])\n",
    "@variable(model, au[1:2, 1:N-1] >=0)\n",
    "@variable(model, z[1:2, 1:N-1] >=0, Bin)\n",
    "@constraint(model, (dot(γ_1,r1)+dot(γ_2,r2)+dot(β,sum(q+p,dims=2)+\n",
    "        sum(-M*z+dki*u)))\n",
    "#@variable(model, g[1:N], Bin)\n",
    "#@variable(model, ag[1:4, 1:N] >= 0)\n",
    "@constraint(model, [k=1:N], A1*x[[1,3],k] -b1 + M*z[k,:] .>= 0 )\n",
    "@constraint(model, sum(z, dims=2) .== N1-1)\n",
    "@constraint(model, x[:,1] .== x0)\n",
    "@constraint(model, x[:,N] .== xN)\n",
    "@constraint(model, [k=1:N-1], x[:,k+1] .== A*x[:,k]+B*u[:,k])\n",
    "#@constraint(model, [k=1:N-1], y[:,k+1] .== C*x[:,k]) #sensor output\n",
    "@constraint(model, -au .<= u)\n",
    "@constraint(model, u .<= au)\n",
    "@constraint(model, au .<= 0.5)\n",
    "#@constraint(model, [k=1:N], -ag[:,k] .<= x[:, k] - xN)\n",
    "#@constraint(model, [k=1:N], x[:, k] - xN .<= ag[:,k])\n",
    "#@constraint(model, [k=1:N,i=1:4], -1000*g[k]+ag[i,k] .<= epsilon)\n",
    "#@constraint(model, -1 .<= x[[2,4],:] .<= 1) # velocity constraint\n",
    "#@objective(model, Min, sum(g));\n",
    "@objective(model, Min, sum(au));"
   ]
  },
  {
   "cell_type": "code",
   "execution_count": null,
   "metadata": {},
   "outputs": [],
   "source": []
  }
 ],
 "metadata": {
  "kernelspec": {
   "display_name": "Julia 1.4.1",
   "language": "julia",
   "name": "julia-1.4"
  },
  "language_info": {
   "file_extension": ".jl",
   "mimetype": "application/julia",
   "name": "julia",
   "version": "1.4.1"
  }
 },
 "nbformat": 4,
 "nbformat_minor": 4
}
