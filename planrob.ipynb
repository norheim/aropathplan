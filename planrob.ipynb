{
 "cells": [
  {
   "cell_type": "markdown",
   "metadata": {},
   "source": [
    "## Robust plan"
   ]
  },
  {
   "cell_type": "code",
   "execution_count": 1,
   "metadata": {},
   "outputs": [
    {
     "name": "stdout",
     "output_type": "stream",
     "text": [
      "Academic license - for non-commercial use only\n"
     ]
    }
   ],
   "source": [
    "using JuMP, Gurobi, Plots, LinearAlgebra\n",
    "GRB_ENV = Gurobi.Env();"
   ]
  },
  {
   "cell_type": "markdown",
   "metadata": {},
   "source": [
    "### Create model for dynamics"
   ]
  },
  {
   "cell_type": "code",
   "execution_count": 105,
   "metadata": {},
   "outputs": [],
   "source": [
    "dt = 0.025\n",
    "A = zeros(4,4)+I\n",
    "A[1,2] = A[3,4] = dt\n",
    "B = zeros(4,2)\n",
    "B[2,1] = B[4,2] = dt\n",
    "C = zeros(2,4)\n",
    "C[1,2] = C[2,4] = 1\n",
    "D = zeros(2,2)\n",
    "Bw = copy(B);"
   ]
  },
  {
   "cell_type": "markdown",
   "metadata": {},
   "source": [
    "### Create model"
   ]
  },
  {
   "cell_type": "code",
   "execution_count": 106,
   "metadata": {},
   "outputs": [
    {
     "data": {
      "text/plain": [
       "4-element Array{Float64,1}:\n",
       " 0.01\n",
       " 0.001\n",
       " 0.01\n",
       " 0.001"
      ]
     },
     "execution_count": 106,
     "metadata": {},
     "output_type": "execute_result"
    }
   ],
   "source": [
    "T = 0.9\n",
    "N = Int(T/dt);\n",
    "x0 = [0;0;0;0]\n",
    "xN = [0.03;0;0.035;0]\n",
    "ϵ = [0.01;\n",
    "     0.001;\n",
    "     0.01;\n",
    "     0.001]\n",
    "    # how close to the goal we want to get"
   ]
  },
  {
   "cell_type": "code",
   "execution_count": 107,
   "metadata": {},
   "outputs": [
    {
     "data": {
      "text/plain": [
       "36"
      ]
     },
     "execution_count": 107,
     "metadata": {},
     "output_type": "execute_result"
    }
   ],
   "source": [
    "N # Size of time step variables"
   ]
  },
  {
   "cell_type": "markdown",
   "metadata": {},
   "source": [
    "## Obstacles"
   ]
  },
  {
   "cell_type": "code",
   "execution_count": 108,
   "metadata": {},
   "outputs": [],
   "source": [
    "P = [-1 0; 0 1]\n",
    "q = [-0.015; 0.03] \n",
    "m = length(q)\n",
    "obj = [[1,2]] # Each entry corresponds to the lines defining an object\n",
    "Nobj = length(obj)\n",
    "M = 100; #Big M"
   ]
  },
  {
   "cell_type": "markdown",
   "metadata": {},
   "source": [
    "## Helper vars"
   ]
  },
  {
   "cell_type": "code",
   "execution_count": 109,
   "metadata": {},
   "outputs": [],
   "source": [
    "Q = zeros(2,4)\n",
    "Q[1,1] = Q[2,3] = -1\n",
    "N_K = Int((N-2)*(N-1)/2) # number of K's\n",
    "Ak = zeros(N+1,4,4)\n",
    "Ak[1,:,:] = zeros(Int, size(A))+I\n",
    "for i=2:N+1\n",
    "    Ak[i,:,:] = A*Ak[i-1,:,:]\n",
    "end\n",
    "Ai = i -> Ak[i+1,:,:]\n",
    "get_cone = (i,j) -> Int((i-2)*(i-3)/2)+j;\n",
    "get_K = (i,j) -> Int((i-3)*(i-4)/2)+j;"
   ]
  },
  {
   "cell_type": "code",
   "execution_count": 110,
   "metadata": {},
   "outputs": [
    {
     "data": {
      "text/plain": [
       "595"
      ]
     },
     "execution_count": 110,
     "metadata": {},
     "output_type": "execute_result"
    }
   ],
   "source": [
    "N_K"
   ]
  },
  {
   "cell_type": "code",
   "execution_count": 111,
   "metadata": {},
   "outputs": [
    {
     "data": {
      "text/plain": [
       "(1, 2, 3, 4)"
      ]
     },
     "execution_count": 111,
     "metadata": {},
     "output_type": "execute_result"
    }
   ],
   "source": [
    "get_cone(3,1),get_cone(4,1),get_cone(4,2),get_cone(5,1)"
   ]
  },
  {
   "cell_type": "code",
   "execution_count": 112,
   "metadata": {},
   "outputs": [
    {
     "name": "stdout",
     "output_type": "stream",
     "text": [
      "3\n",
      "[(0, 1)]\n",
      "4\n",
      "[(1, 1), (0, 2)]\n",
      "[(0, 3)]\n",
      "5\n",
      "[(2, 1), (1, 2), (0, 4)]\n",
      "[(1, 3), (0, 5)]\n",
      "[(0, 6)]\n"
     ]
    }
   ],
   "source": [
    "for k=3:5\n",
    "    println(k)\n",
    "    for i=1:k-2\n",
    "        println([(k-j-1,get_cone(j+1,i)) for j=(i+1):(k-1)])\n",
    "    end\n",
    "end"
   ]
  },
  {
   "cell_type": "markdown",
   "metadata": {},
   "source": [
    "## Robustness parameters"
   ]
  },
  {
   "cell_type": "code",
   "execution_count": 113,
   "metadata": {},
   "outputs": [],
   "source": [
    "ϵ2 = 0.05;\n",
    "max_wind = 0.01;"
   ]
  },
  {
   "cell_type": "code",
   "execution_count": 114,
   "metadata": {},
   "outputs": [
    {
     "data": {
      "text/plain": [
       "0.024477468306808164"
      ]
     },
     "execution_count": 114,
     "metadata": {},
     "output_type": "execute_result"
    }
   ],
   "source": [
    "ρ = max_wind*sqrt(2*log(1/ϵ2))"
   ]
  },
  {
   "cell_type": "code",
   "execution_count": 115,
   "metadata": {},
   "outputs": [
    {
     "data": {
      "text/plain": [
       "#295 (generic function with 1 method)"
      ]
     },
     "execution_count": 115,
     "metadata": {},
     "output_type": "execute_result"
    }
   ],
   "source": [
    "x_k_det = (k,α) -> Ai(k-1)*x0+sum(Ai(k-i-2)*B*α[:,i+1] for i=0:k-2)"
   ]
  },
  {
   "cell_type": "markdown",
   "metadata": {},
   "source": [
    "## Model"
   ]
  },
  {
   "cell_type": "code",
   "execution_count": 116,
   "metadata": {},
   "outputs": [],
   "source": [
    "model = Model(optimizer_with_attributes(\n",
    "        () -> Gurobi.Optimizer(GRB_ENV), #\"OutputFlag\" => 0\n",
    "    ));\n",
    "@variable(model, K[1:N_K,1:2,1:2])   # Control law linear\n",
    "@variable(model, α[1:2, 1:N-1])      # Control law constant\n",
    "@variable(model, au[1:2, 1:N-1] >=0) # Absolute value of u(control)\n",
    "@variable(model, z[1:N-1, 1:m] >=0, Bin) # Binary vars for obstacles\n",
    "# Variables for auxiliary second order cones:\n",
    "@variable(model, t[1:N_K,1:m] >= 0) # (we need one for each halfplane)\n",
    "@variable(model, s[1:N_K,1:2] >= 0); # (one for each control vector)\n",
    "@variable(model, r[1:N_K,1:4] >= 0); # (one for each state variable)"
   ]
  },
  {
   "cell_type": "code",
   "execution_count": 117,
   "metadata": {},
   "outputs": [],
   "source": [
    "@constraint(model, cobj[k=1:N-1, i=1:Nobj],\n",
    "   sum(z[k,j] for j in obj[i]) == length(obj[i])-1); # Obstacles"
   ]
  },
  {
   "cell_type": "markdown",
   "metadata": {},
   "source": [
    "## Obstacle free path"
   ]
  },
  {
   "cell_type": "code",
   "execution_count": 118,
   "metadata": {},
   "outputs": [],
   "source": [
    "# Time step k=2\n",
    "@constraint(model, (P*Q*x_k_det(2,α)\n",
    "        +ρ*mapslices(norm, P*Q*Bw, dims=2)[:]\n",
    "        ) .<= -q+M*z[1,:]);\n",
    "# Time steps k=3 to N:\n",
    "@constraint(model, [k=3:N], (P*Q*x_k_det(k,α)\n",
    "        +sum(ρ*t[get_cone(k,i),:] for i=1:k-2)\n",
    "        +ρ*mapslices(norm, P*Q*Bw, dims=2)[:]\n",
    "        ) .<= -q+M*z[k-1,:]);"
   ]
  },
  {
   "cell_type": "markdown",
   "metadata": {},
   "source": [
    "### Maximum control"
   ]
  },
  {
   "cell_type": "code",
   "execution_count": 119,
   "metadata": {},
   "outputs": [],
   "source": [
    "@constraint(model, α[:,1] .<= au[:,1])\n",
    "@constraint(model, -au[:,1] .<= α[:,1])\n",
    "@constraint(model, [k=2:N-1], (α[:,k]\n",
    "    +ρ*sum(s[get_cone(k,i),:] for i=1:k-2) \n",
    "    ) .<= au[:,k])\n",
    "@constraint(model, [k=2:N-1],  (-α[:,k]\n",
    "    +ρ*sum(s[get_cone(k,i),:] for i=1:k-2) \n",
    "    ) .<= au[:,k]);"
   ]
  },
  {
   "cell_type": "markdown",
   "metadata": {},
   "source": [
    "### Goals"
   ]
  },
  {
   "cell_type": "code",
   "execution_count": 120,
   "metadata": {},
   "outputs": [],
   "source": [
    "@constraint(model, (x_k_det(N,α)\n",
    "        +sum(ρ*r[get_cone(N,i),:] for i=1:N-2)\n",
    "        +ρ*mapslices(norm, Bw, dims=2)[:]\n",
    "        ) .<= xN+ϵ);\n",
    "@constraint(model, (-x_k_det(N,α)\n",
    "        +sum(ρ*r[get_cone(N,i),:] for i=1:N-2)\n",
    "        +ρ*mapslices(norm, Bw, dims=2)[:] \n",
    "           ) .<= -xN+ϵ);"
   ]
  },
  {
   "cell_type": "markdown",
   "metadata": {},
   "source": [
    "## Second order constraints"
   ]
  },
  {
   "cell_type": "markdown",
   "metadata": {},
   "source": [
    "### 1) Obstacles"
   ]
  },
  {
   "cell_type": "code",
   "execution_count": 121,
   "metadata": {},
   "outputs": [],
   "source": [
    "@constraint(model, [k=3:N,i=1:(k-2),l=1:m], vcat(t[get_cone(k,i),l], (P*Q*Ai(k-i-2)*Bw)[l,:]+sum(\n",
    "            (P*Q*Ai(k-j-1)*B*K[get_cone(j,i),:,:])[l,:] for j=(i+1):(k-1))) in SecondOrderCone());"
   ]
  },
  {
   "cell_type": "markdown",
   "metadata": {},
   "source": [
    "### 2) Control"
   ]
  },
  {
   "cell_type": "code",
   "execution_count": 122,
   "metadata": {},
   "outputs": [],
   "source": [
    "@constraint(model, [k=3:N-1,i=1:(k-2),l=1:2], vcat(s[get_cone(k,i),l], sum(\n",
    "            K[get_cone(j,i),l,:] for j=(i+1):(k-1))) in SecondOrderCone());"
   ]
  },
  {
   "cell_type": "markdown",
   "metadata": {},
   "source": [
    "### 3) Goals"
   ]
  },
  {
   "cell_type": "code",
   "execution_count": 123,
   "metadata": {},
   "outputs": [],
   "source": [
    "@constraint(model, [k=3:N,i=1:(k-2),l=1:4], vcat(r[get_cone(k,i),l], (Ai(k-i-2)*Bw)[l,:]+sum(\n",
    "            (Ai(k-j-1)*B*K[get_cone(j,i),:,:])[l,:] for j=(i+1):(k-1))) in SecondOrderCone());"
   ]
  },
  {
   "cell_type": "markdown",
   "metadata": {},
   "source": [
    "### Objective"
   ]
  },
  {
   "cell_type": "code",
   "execution_count": 124,
   "metadata": {},
   "outputs": [],
   "source": [
    "@objective(model, Min, sum(au));"
   ]
  },
  {
   "cell_type": "markdown",
   "metadata": {},
   "source": [
    "## Optimize"
   ]
  },
  {
   "cell_type": "code",
   "execution_count": 125,
   "metadata": {},
   "outputs": [
    {
     "name": "stdout",
     "output_type": "stream",
     "text": [
      "Gurobi Optimizer version 9.0.1 build v9.0.1rc0 (win64)\n",
      "\n",
      "Warning: excessive time spent in model updates.\n",
      "Consider calling update less frequently.\n",
      "\n",
      "Optimize a model with 14131 rows, 21228 columns and 130548 nonzeros\n",
      "Model fingerprint: 0xb48e0157\n",
      "Model has 4692 quadratic constraints\n",
      "Variable types: 21158 continuous, 70 integer (70 binary)\n",
      "Coefficient statistics:\n",
      "  Matrix range     [6e-04, 1e+02]\n",
      "  QMatrix range    [1e+00, 1e+00]\n",
      "  Objective range  [1e+00, 1e+00]\n",
      "  Bounds range     [0e+00, 0e+00]\n",
      "  RHS range        [4e-04, 1e+00]\n",
      "Presolve removed 8437 rows and 8970 columns\n",
      "Presolve time: 0.91s\n",
      "Presolved: 19164 rows, 25728 columns, 87969 nonzeros\n",
      "Presolved model has 4490 quadratic constraint(s)\n",
      "Variable types: 25694 continuous, 34 integer (34 binary)\n",
      "Presolve removed 4068 rows and 4068 columns\n",
      "Presolve time: 1.02s\n",
      "Presolved: 15096 rows, 21660 columns, 80569 nonzeros\n",
      "Presolved model has 4490 second-order cone constraints\n",
      "Root barrier log...\n",
      "\n",
      "Ordering time: 0.03s\n",
      "\n",
      "Barrier statistics:\n",
      " Dense cols : 32\n",
      " Free vars  : 5772\n",
      " AA' NZ     : 2.074e+05\n",
      " Factor NZ  : 7.102e+05 (roughly 20 MBytes of memory)\n",
      " Factor Ops : 1.043e+08 (less than 1 second per iteration)\n",
      " Threads    : 2\n",
      "\n",
      "                  Objective                Residual\n",
      "Iter       Primal          Dual         Primal    Dual     Compl     Time\n",
      "   0   7.23242565e+05 -2.05470000e+03  3.11e+04 1.00e-01  4.28e+02     1s\n",
      "   1   3.28705189e+05 -2.50994881e+02  1.36e+04 4.71e-04  2.70e+01     1s\n",
      "   2   1.20187128e+04 -1.12264334e+02  4.97e+02 4.85e-04  9.86e-01     1s\n",
      "   3   2.11401396e+03 -9.39258682e+01  8.69e+01 8.78e-05  1.76e-01     1s\n",
      "   4   8.36204885e+02 -6.19430366e+01  3.42e+01 2.71e-05  6.88e-02     1s\n",
      "   5   1.96460062e+02 -2.42414515e+01  7.87e+00 4.62e-06  1.61e-02     1s\n",
      "   6   1.16895019e+01 -1.50594558e+00  3.92e-01 3.64e-07  9.31e-04     1s\n",
      "   7   7.77164598e+00 -3.82710079e-01  2.67e-01 1.18e-07  5.82e-04     2s\n",
      "   8   5.44542399e+00 -6.60539203e-02  1.95e-01 6.50e-08  4.01e-04     2s\n",
      "   9   3.26628157e+00  4.02515530e-01  1.21e-01 2.46e-08  2.31e-04     2s\n",
      "  10   2.84336023e+00  1.07028191e+00  1.05e-01 8.40e-08  1.95e-04     2s\n",
      "  11   2.82378972e+00  2.49840718e+00  9.41e-02 9.30e-08  1.70e-04     2s\n",
      "  12   3.03841486e+00  4.08125737e+00  8.38e-02 1.15e-07  1.42e-04     2s\n",
      "  13   4.79877979e+00  5.03580038e+00  4.22e-02 7.82e-07  1.14e-04     2s\n",
      "  14   6.01227133e+00  5.69705856e+00  1.88e-03 8.43e-07  2.66e-05     2s\n",
      "  15   5.86815417e+00  5.86294023e+00  2.57e-04 6.15e-07  9.72e-07     2s\n",
      "  16   5.86584242e+00  5.86583339e+00  2.70e-06 2.87e-09  1.24e-09     2s\n",
      "  17   5.86583724e+00  5.86583719e+00  1.81e-09 2.84e-11  1.37e-12     2s\n",
      "\n",
      "Barrier solved model in 17 iterations and 2.02 seconds\n",
      "Optimal objective 5.86583724e+00\n",
      "\n",
      "Solving KKT system to obtain QCP duals...\n",
      "\n",
      "\n",
      "\n",
      "Root relaxation: objective 5.865837e+00, 0 iterations, 2.48 seconds\n",
      "\n",
      "    Nodes    |    Current Node    |     Objective Bounds      |     Work\n",
      " Expl Unexpl |  Obj  Depth IntInf | Incumbent    BestBd   Gap | It/Node Time\n",
      "\n",
      "     0     0    5.86584    0   34          -    5.86584      -     -    3s\n",
      "     0     0    5.86584    0   34          -    5.86584      -     -    6s\n",
      "     0     0    5.86584    0   34          -    5.86584      -     -    9s\n",
      "     0     2    5.86593    0   34          -    5.86593      -     -   52s\n",
      "     1     4    5.86593    1   33          -    5.86593      -   0.0   55s\n",
      "     3     4 infeasible    2               -    5.86593      -   0.0   71s\n",
      "     5     6    7.94338    2   32          -    7.94338      -   0.0   82s\n",
      "     7     8   12.44036    3   31          -    7.94338      -   0.0   85s\n",
      "     9    10    7.94338    3   31          -    7.94338      -   0.0   95s\n",
      "    11    10    8.70703    4   30          -    7.94338      -   0.0  107s\n",
      "    13    10 infeasible    4               -    8.70703      -   0.0  112s\n",
      "    15    12    8.70703    5   29          -    8.70703      -   0.0  116s\n",
      "    17    12 infeasible    6               -    8.70703      -   0.0  120s\n",
      "    21    16    9.74163    7   27          -    8.70703      -   0.0  129s\n",
      "    23    18   11.21862    7   27          -    8.70703      -   0.0  134s\n",
      "    25    20    8.70703    8   26          -    8.70703      -   0.0  139s\n",
      "    27    22   10.84952    9   25          -    8.70703      -   0.0  143s\n",
      "    29    25    9.89977    9   25          -    8.70703      -   0.0  150s\n",
      "    32    27   15.10446   10   24          -    8.70703      -   0.0  156s\n",
      "    34    29   10.07600   11   23          -    8.70703      -   0.0  163s\n",
      "    36    29 infeasible   11               -    8.70703      -   0.0  170s\n",
      "    38    30   10.07597   12   22          -    8.70703      -   0.0  177s\n",
      "    41    33   10.27157   13   21          -    8.70703      -   0.0  183s\n",
      "    44    36   36.60121   14   20          -    8.70703      -   0.0  191s\n",
      "    47    38   10.27203   15   19          -    8.70703      -   0.0  202s\n",
      "    49    41   19.47862   15   19          -    8.70703      -   0.0  210s\n",
      "    52    43   22.97268   17   17          -    8.70703      -   0.0  216s\n",
      "    54    47   10.07252   17   17          -    8.70703      -   0.0  232s\n",
      "    58    50   10.11295   18   16          -    8.70703      -   0.0  239s\n",
      "    61    54   10.27222   20   14          -    8.70703      -   0.0  249s\n",
      "    65    58   10.17404   21   13          -    8.70703      -   0.0  258s\n",
      "    69    63   10.27462   23   11          -    8.70703      -   0.0  266s\n",
      "    74    69   10.71461   24   10          -    8.70703      -   0.0  275s\n",
      "    80    73   10.09727   26    8          -    8.70703      -   0.0  285s\n",
      "    84    77   10.01091   28    6          -    8.70703      -   0.0  298s\n",
      "    88    81   10.28263   30    4          -    8.70703      -   0.0  315s\n",
      "    92    86   10.27233   31    3          -    8.70703      -   0.0  329s\n",
      "*   97    86              34       9.9076647    8.70703  12.1%   0.0  339s\n",
      "   101    64     cutoff   33         9.90766    9.74163  1.68%   0.0  341s\n",
      "\n",
      "Cutting planes:\n",
      "  MIR: 1\n",
      "\n",
      "Explored 123 nodes (0 simplex iterations) in 341.60 seconds\n",
      "Thread count was 4 (of 4 available processors)\n",
      "\n",
      "Solution count 1: 9.90766 \n",
      "\n",
      "Optimal solution found (tolerance 1.00e-04)\n",
      "Warning: max constraint violation (1.6318e-06) exceeds tolerance\n",
      "Warning: max bound violation (4.9899e-02) exceeds tolerance\n",
      "         (model may be infeasible or unbounded - try turning presolve off)\n",
      "Best objective 9.907664664745e+00, best bound 9.907664664745e+00, gap 0.0000%\n"
     ]
    }
   ],
   "source": [
    "optimize!(model)"
   ]
  },
  {
   "cell_type": "code",
   "execution_count": 126,
   "metadata": {},
   "outputs": [
    {
     "data": {
      "text/plain": [
       "2×35 Array{Float64,2}:\n",
       " 0.22878  0.111821   0.107882    …  4.19585e-7  4.39606e-7   1.73516\n",
       " 2.57084  1.1139e-7  1.19919e-7     0.00177555  0.000707954  0.0160354"
      ]
     },
     "execution_count": 126,
     "metadata": {},
     "output_type": "execute_result"
    }
   ],
   "source": [
    "value.(au)"
   ]
  },
  {
   "cell_type": "code",
   "execution_count": 127,
   "metadata": {},
   "outputs": [
    {
     "data": {
      "text/plain": [
       "rectangle (generic function with 1 method)"
      ]
     },
     "execution_count": 127,
     "metadata": {},
     "output_type": "execute_result"
    }
   ],
   "source": [
    "rectangle(w, h, x, y) = Shape(ones(4)*x + [0,w,w,0], ones(4)*y + [0,0,h,h])"
   ]
  },
  {
   "cell_type": "code",
   "execution_count": 175,
   "metadata": {},
   "outputs": [],
   "source": [
    "K_out = value.(K)\n",
    "α_out = value.(α)\n",
    "s_out = value.(s)\n",
    "au_out = value.(au)\n",
    "iterations = 1\n",
    "Γ = 1\n",
    "xs2 = zeros(iterations, N)\n",
    "ys2 = zeros(iterations, N)\n",
    "for i = 1:iterations\n",
    "    w = Γ * ρ * randn(2, N - 1)\n",
    "    y = zeros(4, N)\n",
    "    y[:, 1] = x0\n",
    "    for j = 2:N\n",
    "#         u = maximum.([α_out[:, j - 1], -α_out[:, j - 1]])\n",
    "#         for k = 1:j-2\n",
    "#                 u += ρ*s_out[get_cone(j,k),:] \n",
    "#                 #u += K_out[get_cone(j, k), :, :]*w[:, k]\n",
    "#         end\n",
    "        y[:,j] = A*y[:, j-1] + Bw*w[:, j-1] + B*au_out[:,j-1]\n",
    "    end\n",
    "    xs2[i, :] = y[1,:]\n",
    "    ys2[i, :] = y[3,:];\n",
    "end"
   ]
  },
  {
   "cell_type": "code",
   "execution_count": 176,
   "metadata": {},
   "outputs": [
    {
     "data": {
      "image/svg+xml": [
       "<?xml version=\"1.0\" encoding=\"utf-8\"?>\n",
       "<svg xmlns=\"http://www.w3.org/2000/svg\" xmlns:xlink=\"http://www.w3.org/1999/xlink\" width=\"600\" height=\"400\" viewBox=\"0 0 2400 1600\">\n",
       "<defs>\n",
       "  <clipPath id=\"clip8500\">\n",
       "    <rect x=\"0\" y=\"0\" width=\"2400\" height=\"1600\"/>\n",
       "  </clipPath>\n",
       "</defs>\n",
       "<path clip-path=\"url(#clip8500)\" d=\"\n",
       "M0 1600 L2400 1600 L2400 0 L0 0  Z\n",
       "  \" fill=\"#ffffff\" fill-rule=\"evenodd\" fill-opacity=\"1\"/>\n",
       "<defs>\n",
       "  <clipPath id=\"clip8501\">\n",
       "    <rect x=\"480\" y=\"0\" width=\"1681\" height=\"1600\"/>\n",
       "  </clipPath>\n",
       "</defs>\n",
       "<path clip-path=\"url(#clip8500)\" d=\"\n",
       "M175.348 1486.45 L2352.76 1486.45 L2352.76 47.2441 L175.348 47.2441  Z\n",
       "  \" fill=\"#ffffff\" fill-rule=\"evenodd\" fill-opacity=\"1\"/>\n",
       "<defs>\n",
       "  <clipPath id=\"clip8502\">\n",
       "    <rect x=\"175\" y=\"47\" width=\"2178\" height=\"1440\"/>\n",
       "  </clipPath>\n",
       "</defs>\n",
       "<polyline clip-path=\"url(#clip8502)\" style=\"stroke:#000000; stroke-width:2; stroke-opacity:0.1; fill:none\" points=\"\n",
       "  236.973,1486.45 236.973,47.2441 \n",
       "  \"/>\n",
       "<polyline clip-path=\"url(#clip8502)\" style=\"stroke:#000000; stroke-width:2; stroke-opacity:0.1; fill:none\" points=\"\n",
       "  647.805,1486.45 647.805,47.2441 \n",
       "  \"/>\n",
       "<polyline clip-path=\"url(#clip8502)\" style=\"stroke:#000000; stroke-width:2; stroke-opacity:0.1; fill:none\" points=\"\n",
       "  1058.64,1486.45 1058.64,47.2441 \n",
       "  \"/>\n",
       "<polyline clip-path=\"url(#clip8502)\" style=\"stroke:#000000; stroke-width:2; stroke-opacity:0.1; fill:none\" points=\"\n",
       "  1469.47,1486.45 1469.47,47.2441 \n",
       "  \"/>\n",
       "<polyline clip-path=\"url(#clip8502)\" style=\"stroke:#000000; stroke-width:2; stroke-opacity:0.1; fill:none\" points=\"\n",
       "  1880.3,1486.45 1880.3,47.2441 \n",
       "  \"/>\n",
       "<polyline clip-path=\"url(#clip8502)\" style=\"stroke:#000000; stroke-width:2; stroke-opacity:0.1; fill:none\" points=\"\n",
       "  2291.13,1486.45 2291.13,47.2441 \n",
       "  \"/>\n",
       "<polyline clip-path=\"url(#clip8502)\" style=\"stroke:#000000; stroke-width:2; stroke-opacity:0.1; fill:none\" points=\"\n",
       "  175.348,1445.72 2352.76,1445.72 \n",
       "  \"/>\n",
       "<polyline clip-path=\"url(#clip8502)\" style=\"stroke:#000000; stroke-width:2; stroke-opacity:0.1; fill:none\" points=\"\n",
       "  175.348,1143.21 2352.76,1143.21 \n",
       "  \"/>\n",
       "<polyline clip-path=\"url(#clip8502)\" style=\"stroke:#000000; stroke-width:2; stroke-opacity:0.1; fill:none\" points=\"\n",
       "  175.348,840.705 2352.76,840.705 \n",
       "  \"/>\n",
       "<polyline clip-path=\"url(#clip8502)\" style=\"stroke:#000000; stroke-width:2; stroke-opacity:0.1; fill:none\" points=\"\n",
       "  175.348,538.2 2352.76,538.2 \n",
       "  \"/>\n",
       "<polyline clip-path=\"url(#clip8502)\" style=\"stroke:#000000; stroke-width:2; stroke-opacity:0.1; fill:none\" points=\"\n",
       "  175.348,235.694 2352.76,235.694 \n",
       "  \"/>\n",
       "<polyline clip-path=\"url(#clip8500)\" style=\"stroke:#000000; stroke-width:4; stroke-opacity:1; fill:none\" points=\"\n",
       "  175.348,1486.45 2352.76,1486.45 \n",
       "  \"/>\n",
       "<polyline clip-path=\"url(#clip8500)\" style=\"stroke:#000000; stroke-width:4; stroke-opacity:1; fill:none\" points=\"\n",
       "  175.348,1486.45 175.348,47.2441 \n",
       "  \"/>\n",
       "<polyline clip-path=\"url(#clip8500)\" style=\"stroke:#000000; stroke-width:4; stroke-opacity:1; fill:none\" points=\"\n",
       "  236.973,1486.45 236.973,1469.18 \n",
       "  \"/>\n",
       "<polyline clip-path=\"url(#clip8500)\" style=\"stroke:#000000; stroke-width:4; stroke-opacity:1; fill:none\" points=\"\n",
       "  647.805,1486.45 647.805,1469.18 \n",
       "  \"/>\n",
       "<polyline clip-path=\"url(#clip8500)\" style=\"stroke:#000000; stroke-width:4; stroke-opacity:1; fill:none\" points=\"\n",
       "  1058.64,1486.45 1058.64,1469.18 \n",
       "  \"/>\n",
       "<polyline clip-path=\"url(#clip8500)\" style=\"stroke:#000000; stroke-width:4; stroke-opacity:1; fill:none\" points=\"\n",
       "  1469.47,1486.45 1469.47,1469.18 \n",
       "  \"/>\n",
       "<polyline clip-path=\"url(#clip8500)\" style=\"stroke:#000000; stroke-width:4; stroke-opacity:1; fill:none\" points=\"\n",
       "  1880.3,1486.45 1880.3,1469.18 \n",
       "  \"/>\n",
       "<polyline clip-path=\"url(#clip8500)\" style=\"stroke:#000000; stroke-width:4; stroke-opacity:1; fill:none\" points=\"\n",
       "  2291.13,1486.45 2291.13,1469.18 \n",
       "  \"/>\n",
       "<polyline clip-path=\"url(#clip8500)\" style=\"stroke:#000000; stroke-width:4; stroke-opacity:1; fill:none\" points=\"\n",
       "  175.348,1445.72 201.477,1445.72 \n",
       "  \"/>\n",
       "<polyline clip-path=\"url(#clip8500)\" style=\"stroke:#000000; stroke-width:4; stroke-opacity:1; fill:none\" points=\"\n",
       "  175.348,1143.21 201.477,1143.21 \n",
       "  \"/>\n",
       "<polyline clip-path=\"url(#clip8500)\" style=\"stroke:#000000; stroke-width:4; stroke-opacity:1; fill:none\" points=\"\n",
       "  175.348,840.705 201.477,840.705 \n",
       "  \"/>\n",
       "<polyline clip-path=\"url(#clip8500)\" style=\"stroke:#000000; stroke-width:4; stroke-opacity:1; fill:none\" points=\"\n",
       "  175.348,538.2 201.477,538.2 \n",
       "  \"/>\n",
       "<polyline clip-path=\"url(#clip8500)\" style=\"stroke:#000000; stroke-width:4; stroke-opacity:1; fill:none\" points=\"\n",
       "  175.348,235.694 201.477,235.694 \n",
       "  \"/>\n",
       "<path clip-path=\"url(#clip8500)\" d=\"M 0 0 M204.982 1508.44 Q201.371 1508.44 199.543 1512 Q197.737 1515.55 197.737 1522.67 Q197.737 1529.78 199.543 1533.35 Q201.371 1536.89 204.982 1536.89 Q208.617 1536.89 210.422 1533.35 Q212.251 1529.78 212.251 1522.67 Q212.251 1515.55 210.422 1512 Q208.617 1508.44 204.982 1508.44 M204.982 1504.73 Q210.792 1504.73 213.848 1509.34 Q216.927 1513.92 216.927 1522.67 Q216.927 1531.4 213.848 1536.01 Q210.792 1540.59 204.982 1540.59 Q199.172 1540.59 196.093 1536.01 Q193.038 1531.4 193.038 1522.67 Q193.038 1513.92 196.093 1509.34 Q199.172 1504.73 204.982 1504.73 Z\" fill=\"#000000\" fill-rule=\"evenodd\" fill-opacity=\"1\" /><path clip-path=\"url(#clip8500)\" d=\"M 0 0 M221.996 1534.04 L226.88 1534.04 L226.88 1539.92 L221.996 1539.92 L221.996 1534.04 Z\" fill=\"#000000\" fill-rule=\"evenodd\" fill-opacity=\"1\" /><path clip-path=\"url(#clip8500)\" d=\"M 0 0 M241.95 1508.44 Q238.339 1508.44 236.51 1512 Q234.704 1515.55 234.704 1522.67 Q234.704 1529.78 236.51 1533.35 Q238.339 1536.89 241.95 1536.89 Q245.584 1536.89 247.389 1533.35 Q249.218 1529.78 249.218 1522.67 Q249.218 1515.55 247.389 1512 Q245.584 1508.44 241.95 1508.44 M241.95 1504.73 Q247.76 1504.73 250.815 1509.34 Q253.894 1513.92 253.894 1522.67 Q253.894 1531.4 250.815 1536.01 Q247.76 1540.59 241.95 1540.59 Q236.14 1540.59 233.061 1536.01 Q230.005 1531.4 230.005 1522.67 Q230.005 1513.92 233.061 1509.34 Q236.14 1504.73 241.95 1504.73 Z\" fill=\"#000000\" fill-rule=\"evenodd\" fill-opacity=\"1\" /><path clip-path=\"url(#clip8500)\" d=\"M 0 0 M268.963 1508.44 Q265.352 1508.44 263.524 1512 Q261.718 1515.55 261.718 1522.67 Q261.718 1529.78 263.524 1533.35 Q265.352 1536.89 268.963 1536.89 Q272.598 1536.89 274.403 1533.35 Q276.232 1529.78 276.232 1522.67 Q276.232 1515.55 274.403 1512 Q272.598 1508.44 268.963 1508.44 M268.963 1504.73 Q274.774 1504.73 277.829 1509.34 Q280.908 1513.92 280.908 1522.67 Q280.908 1531.4 277.829 1536.01 Q274.774 1540.59 268.963 1540.59 Q263.153 1540.59 260.075 1536.01 Q257.019 1531.4 257.019 1522.67 Q257.019 1513.92 260.075 1509.34 Q263.153 1504.73 268.963 1504.73 Z\" fill=\"#000000\" fill-rule=\"evenodd\" fill-opacity=\"1\" /><path clip-path=\"url(#clip8500)\" d=\"M 0 0 M616.427 1508.44 Q612.816 1508.44 610.988 1512 Q609.182 1515.55 609.182 1522.67 Q609.182 1529.78 610.988 1533.35 Q612.816 1536.89 616.427 1536.89 Q620.062 1536.89 621.867 1533.35 Q623.696 1529.78 623.696 1522.67 Q623.696 1515.55 621.867 1512 Q620.062 1508.44 616.427 1508.44 M616.427 1504.73 Q622.238 1504.73 625.293 1509.34 Q628.372 1513.92 628.372 1522.67 Q628.372 1531.4 625.293 1536.01 Q622.238 1540.59 616.427 1540.59 Q610.617 1540.59 607.539 1536.01 Q604.483 1531.4 604.483 1522.67 Q604.483 1513.92 607.539 1509.34 Q610.617 1504.73 616.427 1504.73 Z\" fill=\"#000000\" fill-rule=\"evenodd\" fill-opacity=\"1\" /><path clip-path=\"url(#clip8500)\" d=\"M 0 0 M633.441 1534.04 L638.325 1534.04 L638.325 1539.92 L633.441 1539.92 L633.441 1534.04 Z\" fill=\"#000000\" fill-rule=\"evenodd\" fill-opacity=\"1\" /><path clip-path=\"url(#clip8500)\" d=\"M 0 0 M653.395 1508.44 Q649.784 1508.44 647.955 1512 Q646.149 1515.55 646.149 1522.67 Q646.149 1529.78 647.955 1533.35 Q649.784 1536.89 653.395 1536.89 Q657.029 1536.89 658.835 1533.35 Q660.663 1529.78 660.663 1522.67 Q660.663 1515.55 658.835 1512 Q657.029 1508.44 653.395 1508.44 M653.395 1504.73 Q659.205 1504.73 662.26 1509.34 Q665.339 1513.92 665.339 1522.67 Q665.339 1531.4 662.26 1536.01 Q659.205 1540.59 653.395 1540.59 Q647.585 1540.59 644.506 1536.01 Q641.45 1531.4 641.45 1522.67 Q641.45 1513.92 644.506 1509.34 Q647.585 1504.73 653.395 1504.73 Z\" fill=\"#000000\" fill-rule=\"evenodd\" fill-opacity=\"1\" /><path clip-path=\"url(#clip8500)\" d=\"M 0 0 M671.219 1535.98 L678.858 1535.98 L678.858 1509.62 L670.547 1511.29 L670.547 1507.03 L678.811 1505.36 L683.487 1505.36 L683.487 1535.98 L691.126 1535.98 L691.126 1539.92 L671.219 1539.92 L671.219 1535.98 Z\" fill=\"#000000\" fill-rule=\"evenodd\" fill-opacity=\"1\" /><path clip-path=\"url(#clip8500)\" d=\"M 0 0 M1027.44 1508.44 Q1023.83 1508.44 1022 1512 Q1020.2 1515.55 1020.2 1522.67 Q1020.2 1529.78 1022 1533.35 Q1023.83 1536.89 1027.44 1536.89 Q1031.08 1536.89 1032.88 1533.35 Q1034.71 1529.78 1034.71 1522.67 Q1034.71 1515.55 1032.88 1512 Q1031.08 1508.44 1027.44 1508.44 M1027.44 1504.73 Q1033.25 1504.73 1036.31 1509.34 Q1039.39 1513.92 1039.39 1522.67 Q1039.39 1531.4 1036.31 1536.01 Q1033.25 1540.59 1027.44 1540.59 Q1021.63 1540.59 1018.56 1536.01 Q1015.5 1531.4 1015.5 1522.67 Q1015.5 1513.92 1018.56 1509.34 Q1021.63 1504.73 1027.44 1504.73 Z\" fill=\"#000000\" fill-rule=\"evenodd\" fill-opacity=\"1\" /><path clip-path=\"url(#clip8500)\" d=\"M 0 0 M1044.46 1534.04 L1049.34 1534.04 L1049.34 1539.92 L1044.46 1539.92 L1044.46 1534.04 Z\" fill=\"#000000\" fill-rule=\"evenodd\" fill-opacity=\"1\" /><path clip-path=\"url(#clip8500)\" d=\"M 0 0 M1064.41 1508.44 Q1060.8 1508.44 1058.97 1512 Q1057.17 1515.55 1057.17 1522.67 Q1057.17 1529.78 1058.97 1533.35 Q1060.8 1536.89 1064.41 1536.89 Q1068.05 1536.89 1069.85 1533.35 Q1071.68 1529.78 1071.68 1522.67 Q1071.68 1515.55 1069.85 1512 Q1068.05 1508.44 1064.41 1508.44 M1064.41 1504.73 Q1070.22 1504.73 1073.28 1509.34 Q1076.36 1513.92 1076.36 1522.67 Q1076.36 1531.4 1073.28 1536.01 Q1070.22 1540.59 1064.41 1540.59 Q1058.6 1540.59 1055.52 1536.01 Q1052.47 1531.4 1052.47 1522.67 Q1052.47 1513.92 1055.52 1509.34 Q1058.6 1504.73 1064.41 1504.73 Z\" fill=\"#000000\" fill-rule=\"evenodd\" fill-opacity=\"1\" /><path clip-path=\"url(#clip8500)\" d=\"M 0 0 M1085.45 1535.98 L1101.77 1535.98 L1101.77 1539.92 L1079.83 1539.92 L1079.83 1535.98 Q1082.49 1533.23 1087.07 1528.6 Q1091.68 1523.95 1092.86 1522.61 Q1095.11 1520.08 1095.99 1518.35 Q1096.89 1516.59 1096.89 1514.9 Q1096.89 1512.14 1094.94 1510.41 Q1093.02 1508.67 1089.92 1508.67 Q1087.72 1508.67 1085.27 1509.43 Q1082.84 1510.2 1080.06 1511.75 L1080.06 1507.03 Q1082.88 1505.89 1085.34 1505.31 Q1087.79 1504.73 1089.83 1504.73 Q1095.2 1504.73 1098.39 1507.42 Q1101.59 1510.11 1101.59 1514.6 Q1101.59 1516.73 1100.78 1518.65 Q1099.99 1520.54 1097.88 1523.14 Q1097.3 1523.81 1094.2 1527.03 Q1091.1 1530.22 1085.45 1535.98 Z\" fill=\"#000000\" fill-rule=\"evenodd\" fill-opacity=\"1\" /><path clip-path=\"url(#clip8500)\" d=\"M 0 0 M1437.8 1508.44 Q1434.19 1508.44 1432.36 1512 Q1430.56 1515.55 1430.56 1522.67 Q1430.56 1529.78 1432.36 1533.35 Q1434.19 1536.89 1437.8 1536.89 Q1441.44 1536.89 1443.24 1533.35 Q1445.07 1529.78 1445.07 1522.67 Q1445.07 1515.55 1443.24 1512 Q1441.44 1508.44 1437.8 1508.44 M1437.8 1504.73 Q1443.61 1504.73 1446.67 1509.34 Q1449.75 1513.92 1449.75 1522.67 Q1449.75 1531.4 1446.67 1536.01 Q1443.61 1540.59 1437.8 1540.59 Q1431.99 1540.59 1428.91 1536.01 Q1425.86 1531.4 1425.86 1522.67 Q1425.86 1513.92 1428.91 1509.34 Q1431.99 1504.73 1437.8 1504.73 Z\" fill=\"#000000\" fill-rule=\"evenodd\" fill-opacity=\"1\" /><path clip-path=\"url(#clip8500)\" d=\"M 0 0 M1454.82 1534.04 L1459.7 1534.04 L1459.7 1539.92 L1454.82 1539.92 L1454.82 1534.04 Z\" fill=\"#000000\" fill-rule=\"evenodd\" fill-opacity=\"1\" /><path clip-path=\"url(#clip8500)\" d=\"M 0 0 M1474.77 1508.44 Q1471.16 1508.44 1469.33 1512 Q1467.52 1515.55 1467.52 1522.67 Q1467.52 1529.78 1469.33 1533.35 Q1471.16 1536.89 1474.77 1536.89 Q1478.4 1536.89 1480.21 1533.35 Q1482.04 1529.78 1482.04 1522.67 Q1482.04 1515.55 1480.21 1512 Q1478.4 1508.44 1474.77 1508.44 M1474.77 1504.73 Q1480.58 1504.73 1483.63 1509.34 Q1486.71 1513.92 1486.71 1522.67 Q1486.71 1531.4 1483.63 1536.01 Q1480.58 1540.59 1474.77 1540.59 Q1468.96 1540.59 1465.88 1536.01 Q1462.82 1531.4 1462.82 1522.67 Q1462.82 1513.92 1465.88 1509.34 Q1468.96 1504.73 1474.77 1504.73 Z\" fill=\"#000000\" fill-rule=\"evenodd\" fill-opacity=\"1\" /><path clip-path=\"url(#clip8500)\" d=\"M 0 0 M1505.95 1521.29 Q1509.31 1522 1511.18 1524.27 Q1513.08 1526.54 1513.08 1529.87 Q1513.08 1534.99 1509.56 1537.79 Q1506.04 1540.59 1499.56 1540.59 Q1497.38 1540.59 1495.07 1540.15 Q1492.78 1539.73 1490.32 1538.88 L1490.32 1534.36 Q1492.27 1535.5 1494.58 1536.08 Q1496.9 1536.66 1499.42 1536.66 Q1503.82 1536.66 1506.11 1534.92 Q1508.43 1533.18 1508.43 1529.87 Q1508.43 1526.82 1506.27 1525.11 Q1504.14 1523.37 1500.32 1523.37 L1496.3 1523.37 L1496.3 1519.53 L1500.51 1519.53 Q1503.96 1519.53 1505.79 1518.16 Q1507.62 1516.77 1507.62 1514.18 Q1507.62 1511.52 1505.72 1510.11 Q1503.84 1508.67 1500.32 1508.67 Q1498.4 1508.67 1496.2 1509.09 Q1494 1509.5 1491.37 1510.38 L1491.37 1506.22 Q1494.03 1505.48 1496.34 1505.11 Q1498.68 1504.73 1500.74 1504.73 Q1506.06 1504.73 1509.17 1507.17 Q1512.27 1509.57 1512.27 1513.69 Q1512.27 1516.56 1510.63 1518.55 Q1508.98 1520.52 1505.95 1521.29 Z\" fill=\"#000000\" fill-rule=\"evenodd\" fill-opacity=\"1\" /><path clip-path=\"url(#clip8500)\" d=\"M 0 0 M1848.07 1508.44 Q1844.45 1508.44 1842.63 1512 Q1840.82 1515.55 1840.82 1522.67 Q1840.82 1529.78 1842.63 1533.35 Q1844.45 1536.89 1848.07 1536.89 Q1851.7 1536.89 1853.51 1533.35 Q1855.33 1529.78 1855.33 1522.67 Q1855.33 1515.55 1853.51 1512 Q1851.7 1508.44 1848.07 1508.44 M1848.07 1504.73 Q1853.88 1504.73 1856.93 1509.34 Q1860.01 1513.92 1860.01 1522.67 Q1860.01 1531.4 1856.93 1536.01 Q1853.88 1540.59 1848.07 1540.59 Q1842.26 1540.59 1839.18 1536.01 Q1836.12 1531.4 1836.12 1522.67 Q1836.12 1513.92 1839.18 1509.34 Q1842.26 1504.73 1848.07 1504.73 Z\" fill=\"#000000\" fill-rule=\"evenodd\" fill-opacity=\"1\" /><path clip-path=\"url(#clip8500)\" d=\"M 0 0 M1865.08 1534.04 L1869.96 1534.04 L1869.96 1539.92 L1865.08 1539.92 L1865.08 1534.04 Z\" fill=\"#000000\" fill-rule=\"evenodd\" fill-opacity=\"1\" /><path clip-path=\"url(#clip8500)\" d=\"M 0 0 M1885.03 1508.44 Q1881.42 1508.44 1879.59 1512 Q1877.79 1515.55 1877.79 1522.67 Q1877.79 1529.78 1879.59 1533.35 Q1881.42 1536.89 1885.03 1536.89 Q1888.67 1536.89 1890.47 1533.35 Q1892.3 1529.78 1892.3 1522.67 Q1892.3 1515.55 1890.47 1512 Q1888.67 1508.44 1885.03 1508.44 M1885.03 1504.73 Q1890.84 1504.73 1893.9 1509.34 Q1896.98 1513.92 1896.98 1522.67 Q1896.98 1531.4 1893.9 1536.01 Q1890.84 1540.59 1885.03 1540.59 Q1879.22 1540.59 1876.14 1536.01 Q1873.09 1531.4 1873.09 1522.67 Q1873.09 1513.92 1876.14 1509.34 Q1879.22 1504.73 1885.03 1504.73 Z\" fill=\"#000000\" fill-rule=\"evenodd\" fill-opacity=\"1\" /><path clip-path=\"url(#clip8500)\" d=\"M 0 0 M1914.89 1509.43 L1903.09 1527.88 L1914.89 1527.88 L1914.89 1509.43 M1913.67 1505.36 L1919.55 1505.36 L1919.55 1527.88 L1924.48 1527.88 L1924.48 1531.77 L1919.55 1531.77 L1919.55 1539.92 L1914.89 1539.92 L1914.89 1531.77 L1899.29 1531.77 L1899.29 1527.26 L1913.67 1505.36 Z\" fill=\"#000000\" fill-rule=\"evenodd\" fill-opacity=\"1\" /><path clip-path=\"url(#clip8500)\" d=\"M 0 0 M2259.64 1508.44 Q2256.03 1508.44 2254.2 1512 Q2252.39 1515.55 2252.39 1522.67 Q2252.39 1529.78 2254.2 1533.35 Q2256.03 1536.89 2259.64 1536.89 Q2263.27 1536.89 2265.08 1533.35 Q2266.91 1529.78 2266.91 1522.67 Q2266.91 1515.55 2265.08 1512 Q2263.27 1508.44 2259.64 1508.44 M2259.64 1504.73 Q2265.45 1504.73 2268.5 1509.34 Q2271.58 1513.92 2271.58 1522.67 Q2271.58 1531.4 2268.5 1536.01 Q2265.45 1540.59 2259.64 1540.59 Q2253.83 1540.59 2250.75 1536.01 Q2247.69 1531.4 2247.69 1522.67 Q2247.69 1513.92 2250.75 1509.34 Q2253.83 1504.73 2259.64 1504.73 Z\" fill=\"#000000\" fill-rule=\"evenodd\" fill-opacity=\"1\" /><path clip-path=\"url(#clip8500)\" d=\"M 0 0 M2276.65 1534.04 L2281.54 1534.04 L2281.54 1539.92 L2276.65 1539.92 L2276.65 1534.04 Z\" fill=\"#000000\" fill-rule=\"evenodd\" fill-opacity=\"1\" /><path clip-path=\"url(#clip8500)\" d=\"M 0 0 M2296.61 1508.44 Q2292.99 1508.44 2291.17 1512 Q2289.36 1515.55 2289.36 1522.67 Q2289.36 1529.78 2291.17 1533.35 Q2292.99 1536.89 2296.61 1536.89 Q2300.24 1536.89 2302.05 1533.35 Q2303.87 1529.78 2303.87 1522.67 Q2303.87 1515.55 2302.05 1512 Q2300.24 1508.44 2296.61 1508.44 M2296.61 1504.73 Q2302.42 1504.73 2305.47 1509.34 Q2308.55 1513.92 2308.55 1522.67 Q2308.55 1531.4 2305.47 1536.01 Q2302.42 1540.59 2296.61 1540.59 Q2290.8 1540.59 2287.72 1536.01 Q2284.66 1531.4 2284.66 1522.67 Q2284.66 1513.92 2287.72 1509.34 Q2290.8 1504.73 2296.61 1504.73 Z\" fill=\"#000000\" fill-rule=\"evenodd\" fill-opacity=\"1\" /><path clip-path=\"url(#clip8500)\" d=\"M 0 0 M2313.67 1505.36 L2332.02 1505.36 L2332.02 1509.3 L2317.95 1509.3 L2317.95 1517.77 Q2318.97 1517.42 2319.99 1517.26 Q2321 1517.07 2322.02 1517.07 Q2327.81 1517.07 2331.19 1520.24 Q2334.57 1523.42 2334.57 1528.83 Q2334.57 1534.41 2331.1 1537.51 Q2327.62 1540.59 2321.3 1540.59 Q2319.13 1540.59 2316.86 1540.22 Q2314.61 1539.85 2312.21 1539.11 L2312.21 1534.41 Q2314.29 1535.54 2316.51 1536.1 Q2318.74 1536.66 2321.21 1536.66 Q2325.22 1536.66 2327.55 1534.55 Q2329.89 1532.44 2329.89 1528.83 Q2329.89 1525.22 2327.55 1523.11 Q2325.22 1521.01 2321.21 1521.01 Q2319.34 1521.01 2317.46 1521.42 Q2315.61 1521.84 2313.67 1522.72 L2313.67 1505.36 Z\" fill=\"#000000\" fill-rule=\"evenodd\" fill-opacity=\"1\" /><path clip-path=\"url(#clip8500)\" d=\"M 0 0 M75.4226 1431.51 Q71.8115 1431.51 69.9828 1435.08 Q68.1773 1438.62 68.1773 1445.75 Q68.1773 1452.86 69.9828 1456.42 Q71.8115 1459.96 75.4226 1459.96 Q79.0569 1459.96 80.8624 1456.42 Q82.6911 1452.86 82.6911 1445.75 Q82.6911 1438.62 80.8624 1435.08 Q79.0569 1431.51 75.4226 1431.51 M75.4226 1427.81 Q81.2328 1427.81 84.2883 1432.42 Q87.367 1437 87.367 1445.75 Q87.367 1454.48 84.2883 1459.08 Q81.2328 1463.67 75.4226 1463.67 Q69.6125 1463.67 66.5338 1459.08 Q63.4782 1454.48 63.4782 1445.75 Q63.4782 1437 66.5338 1432.42 Q69.6125 1427.81 75.4226 1427.81 Z\" fill=\"#000000\" fill-rule=\"evenodd\" fill-opacity=\"1\" /><path clip-path=\"url(#clip8500)\" d=\"M 0 0 M92.4364 1457.12 L97.3206 1457.12 L97.3206 1463 L92.4364 1463 L92.4364 1457.12 Z\" fill=\"#000000\" fill-rule=\"evenodd\" fill-opacity=\"1\" /><path clip-path=\"url(#clip8500)\" d=\"M 0 0 M112.39 1431.51 Q108.779 1431.51 106.95 1435.08 Q105.145 1438.62 105.145 1445.75 Q105.145 1452.86 106.95 1456.42 Q108.779 1459.96 112.39 1459.96 Q116.024 1459.96 117.83 1456.42 Q119.658 1452.86 119.658 1445.75 Q119.658 1438.62 117.83 1435.08 Q116.024 1431.51 112.39 1431.51 M112.39 1427.81 Q118.2 1427.81 121.256 1432.42 Q124.334 1437 124.334 1445.75 Q124.334 1454.48 121.256 1459.08 Q118.2 1463.67 112.39 1463.67 Q106.58 1463.67 103.501 1459.08 Q100.446 1454.48 100.446 1445.75 Q100.446 1437 103.501 1432.42 Q106.58 1427.81 112.39 1427.81 Z\" fill=\"#000000\" fill-rule=\"evenodd\" fill-opacity=\"1\" /><path clip-path=\"url(#clip8500)\" d=\"M 0 0 M139.404 1431.51 Q135.793 1431.51 133.964 1435.08 Q132.158 1438.62 132.158 1445.75 Q132.158 1452.86 133.964 1456.42 Q135.793 1459.96 139.404 1459.96 Q143.038 1459.96 144.844 1456.42 Q146.672 1452.86 146.672 1445.75 Q146.672 1438.62 144.844 1435.08 Q143.038 1431.51 139.404 1431.51 M139.404 1427.81 Q145.214 1427.81 148.269 1432.42 Q151.348 1437 151.348 1445.75 Q151.348 1454.48 148.269 1459.08 Q145.214 1463.67 139.404 1463.67 Q133.594 1463.67 130.515 1459.08 Q127.459 1454.48 127.459 1445.75 Q127.459 1437 130.515 1432.42 Q133.594 1427.81 139.404 1427.81 Z\" fill=\"#000000\" fill-rule=\"evenodd\" fill-opacity=\"1\" /><path clip-path=\"url(#clip8500)\" d=\"M 0 0 M77.0198 1129.01 Q73.4087 1129.01 71.58 1132.57 Q69.7745 1136.12 69.7745 1143.25 Q69.7745 1150.35 71.58 1153.92 Q73.4087 1157.46 77.0198 1157.46 Q80.6541 1157.46 82.4596 1153.92 Q84.2883 1150.35 84.2883 1143.25 Q84.2883 1136.12 82.4596 1132.57 Q80.6541 1129.01 77.0198 1129.01 M77.0198 1125.31 Q82.83 1125.31 85.8855 1129.91 Q88.9642 1134.5 88.9642 1143.25 Q88.9642 1151.97 85.8855 1156.58 Q82.83 1161.16 77.0198 1161.16 Q71.2097 1161.16 68.131 1156.58 Q65.0754 1151.97 65.0754 1143.25 Q65.0754 1134.5 68.131 1129.91 Q71.2097 1125.31 77.0198 1125.31 Z\" fill=\"#000000\" fill-rule=\"evenodd\" fill-opacity=\"1\" /><path clip-path=\"url(#clip8500)\" d=\"M 0 0 M94.0336 1154.61 L98.9179 1154.61 L98.9179 1160.49 L94.0336 1160.49 L94.0336 1154.61 Z\" fill=\"#000000\" fill-rule=\"evenodd\" fill-opacity=\"1\" /><path clip-path=\"url(#clip8500)\" d=\"M 0 0 M113.987 1129.01 Q110.376 1129.01 108.547 1132.57 Q106.742 1136.12 106.742 1143.25 Q106.742 1150.35 108.547 1153.92 Q110.376 1157.46 113.987 1157.46 Q117.621 1157.46 119.427 1153.92 Q121.256 1150.35 121.256 1143.25 Q121.256 1136.12 119.427 1132.57 Q117.621 1129.01 113.987 1129.01 M113.987 1125.31 Q119.797 1125.31 122.853 1129.91 Q125.932 1134.5 125.932 1143.25 Q125.932 1151.97 122.853 1156.58 Q119.797 1161.16 113.987 1161.16 Q108.177 1161.16 105.098 1156.58 Q102.043 1151.97 102.043 1143.25 Q102.043 1134.5 105.098 1129.91 Q108.177 1125.31 113.987 1125.31 Z\" fill=\"#000000\" fill-rule=\"evenodd\" fill-opacity=\"1\" /><path clip-path=\"url(#clip8500)\" d=\"M 0 0 M135.029 1156.56 L151.348 1156.56 L151.348 1160.49 L129.404 1160.49 L129.404 1156.56 Q132.066 1153.8 136.649 1149.17 Q141.256 1144.52 142.436 1143.18 Q144.682 1140.65 145.561 1138.92 Q146.464 1137.16 146.464 1135.47 Q146.464 1132.71 144.519 1130.98 Q142.598 1129.24 139.496 1129.24 Q137.297 1129.24 134.844 1130 Q132.413 1130.77 129.635 1132.32 L129.635 1127.6 Q132.459 1126.46 134.913 1125.88 Q137.367 1125.31 139.404 1125.31 Q144.774 1125.31 147.969 1127.99 Q151.163 1130.68 151.163 1135.17 Q151.163 1137.3 150.353 1139.22 Q149.566 1141.12 147.459 1143.71 Q146.881 1144.38 143.779 1147.6 Q140.677 1150.79 135.029 1156.56 Z\" fill=\"#000000\" fill-rule=\"evenodd\" fill-opacity=\"1\" /><path clip-path=\"url(#clip8500)\" d=\"M 0 0 M74.9365 826.504 Q71.3254 826.504 69.4967 830.068 Q67.6912 833.61 67.6912 840.74 Q67.6912 847.846 69.4967 851.411 Q71.3254 854.953 74.9365 854.953 Q78.5707 854.953 80.3763 851.411 Q82.205 847.846 82.205 840.74 Q82.205 833.61 80.3763 830.068 Q78.5707 826.504 74.9365 826.504 M74.9365 822.8 Q80.7467 822.8 83.8022 827.406 Q86.8809 831.99 86.8809 840.74 Q86.8809 849.467 83.8022 854.073 Q80.7467 858.656 74.9365 858.656 Q69.1264 858.656 66.0477 854.073 Q62.9921 849.467 62.9921 840.74 Q62.9921 831.99 66.0477 827.406 Q69.1264 822.8 74.9365 822.8 Z\" fill=\"#000000\" fill-rule=\"evenodd\" fill-opacity=\"1\" /><path clip-path=\"url(#clip8500)\" d=\"M 0 0 M91.9503 852.105 L96.8345 852.105 L96.8345 857.985 L91.9503 857.985 L91.9503 852.105 Z\" fill=\"#000000\" fill-rule=\"evenodd\" fill-opacity=\"1\" /><path clip-path=\"url(#clip8500)\" d=\"M 0 0 M111.904 826.504 Q108.293 826.504 106.464 830.068 Q104.659 833.61 104.659 840.74 Q104.659 847.846 106.464 851.411 Q108.293 854.953 111.904 854.953 Q115.538 854.953 117.344 851.411 Q119.172 847.846 119.172 840.74 Q119.172 833.61 117.344 830.068 Q115.538 826.504 111.904 826.504 M111.904 822.8 Q117.714 822.8 120.77 827.406 Q123.848 831.99 123.848 840.74 Q123.848 849.467 120.77 854.073 Q117.714 858.656 111.904 858.656 Q106.094 858.656 103.015 854.073 Q99.9595 849.467 99.9595 840.74 Q99.9595 831.99 103.015 827.406 Q106.094 822.8 111.904 822.8 Z\" fill=\"#000000\" fill-rule=\"evenodd\" fill-opacity=\"1\" /><path clip-path=\"url(#clip8500)\" d=\"M 0 0 M141.765 827.499 L129.959 845.948 L141.765 845.948 L141.765 827.499 M140.538 823.425 L146.418 823.425 L146.418 845.948 L151.348 845.948 L151.348 849.837 L146.418 849.837 L146.418 857.985 L141.765 857.985 L141.765 849.837 L126.163 849.837 L126.163 845.323 L140.538 823.425 Z\" fill=\"#000000\" fill-rule=\"evenodd\" fill-opacity=\"1\" /><path clip-path=\"url(#clip8500)\" d=\"M 0 0 M75.2606 523.998 Q71.6495 523.998 69.8208 527.563 Q68.0152 531.105 68.0152 538.234 Q68.0152 545.341 69.8208 548.906 Q71.6495 552.447 75.2606 552.447 Q78.8948 552.447 80.7004 548.906 Q82.5291 545.341 82.5291 538.234 Q82.5291 531.105 80.7004 527.563 Q78.8948 523.998 75.2606 523.998 M75.2606 520.295 Q81.0707 520.295 84.1263 524.901 Q87.205 529.484 87.205 538.234 Q87.205 546.961 84.1263 551.568 Q81.0707 556.151 75.2606 556.151 Q69.4504 556.151 66.3717 551.568 Q63.3162 546.961 63.3162 538.234 Q63.3162 529.484 66.3717 524.901 Q69.4504 520.295 75.2606 520.295 Z\" fill=\"#000000\" fill-rule=\"evenodd\" fill-opacity=\"1\" /><path clip-path=\"url(#clip8500)\" d=\"M 0 0 M92.2744 549.6 L97.1586 549.6 L97.1586 555.48 L92.2744 555.48 L92.2744 549.6 Z\" fill=\"#000000\" fill-rule=\"evenodd\" fill-opacity=\"1\" /><path clip-path=\"url(#clip8500)\" d=\"M 0 0 M112.228 523.998 Q108.617 523.998 106.788 527.563 Q104.983 531.105 104.983 538.234 Q104.983 545.341 106.788 548.906 Q108.617 552.447 112.228 552.447 Q115.862 552.447 117.668 548.906 Q119.496 545.341 119.496 538.234 Q119.496 531.105 117.668 527.563 Q115.862 523.998 112.228 523.998 M112.228 520.295 Q118.038 520.295 121.094 524.901 Q124.172 529.484 124.172 538.234 Q124.172 546.961 121.094 551.568 Q118.038 556.151 112.228 556.151 Q106.418 556.151 103.339 551.568 Q100.284 546.961 100.284 538.234 Q100.284 529.484 103.339 524.901 Q106.418 520.295 112.228 520.295 Z\" fill=\"#000000\" fill-rule=\"evenodd\" fill-opacity=\"1\" /><path clip-path=\"url(#clip8500)\" d=\"M 0 0 M139.82 536.336 Q136.672 536.336 134.82 538.489 Q132.992 540.642 132.992 544.392 Q132.992 548.119 134.82 550.294 Q136.672 552.447 139.82 552.447 Q142.969 552.447 144.797 550.294 Q146.649 548.119 146.649 544.392 Q146.649 540.642 144.797 538.489 Q142.969 536.336 139.82 536.336 M149.103 521.684 L149.103 525.943 Q147.344 525.109 145.538 524.67 Q143.756 524.23 141.996 524.23 Q137.367 524.23 134.913 527.355 Q132.482 530.48 132.135 536.799 Q133.501 534.785 135.561 533.72 Q137.621 532.633 140.098 532.633 Q145.306 532.633 148.316 535.804 Q151.348 538.952 151.348 544.392 Q151.348 549.716 148.2 552.933 Q145.052 556.151 139.82 556.151 Q133.825 556.151 130.654 551.568 Q127.483 546.961 127.483 538.234 Q127.483 530.04 131.371 525.179 Q135.26 520.295 141.811 520.295 Q143.57 520.295 145.353 520.642 Q147.158 520.989 149.103 521.684 Z\" fill=\"#000000\" fill-rule=\"evenodd\" fill-opacity=\"1\" /><path clip-path=\"url(#clip8500)\" d=\"M 0 0 M75.5152 221.493 Q71.9041 221.493 70.0754 225.058 Q68.2699 228.599 68.2699 235.729 Q68.2699 242.835 70.0754 246.4 Q71.9041 249.942 75.5152 249.942 Q79.1494 249.942 80.955 246.4 Q82.7837 242.835 82.7837 235.729 Q82.7837 228.599 80.955 225.058 Q79.1494 221.493 75.5152 221.493 M75.5152 217.789 Q81.3254 217.789 84.3809 222.396 Q87.4596 226.979 87.4596 235.729 Q87.4596 244.456 84.3809 249.062 Q81.3254 253.646 75.5152 253.646 Q69.7051 253.646 66.6264 249.062 Q63.5708 244.456 63.5708 235.729 Q63.5708 226.979 66.6264 222.396 Q69.7051 217.789 75.5152 217.789 Z\" fill=\"#000000\" fill-rule=\"evenodd\" fill-opacity=\"1\" /><path clip-path=\"url(#clip8500)\" d=\"M 0 0 M92.529 247.095 L97.4132 247.095 L97.4132 252.974 L92.529 252.974 L92.529 247.095 Z\" fill=\"#000000\" fill-rule=\"evenodd\" fill-opacity=\"1\" /><path clip-path=\"url(#clip8500)\" d=\"M 0 0 M112.483 221.493 Q108.872 221.493 107.043 225.058 Q105.237 228.599 105.237 235.729 Q105.237 242.835 107.043 246.4 Q108.872 249.942 112.483 249.942 Q116.117 249.942 117.922 246.4 Q119.751 242.835 119.751 235.729 Q119.751 228.599 117.922 225.058 Q116.117 221.493 112.483 221.493 M112.483 217.789 Q118.293 217.789 121.348 222.396 Q124.427 226.979 124.427 235.729 Q124.427 244.456 121.348 249.062 Q118.293 253.646 112.483 253.646 Q106.672 253.646 103.594 249.062 Q100.538 244.456 100.538 235.729 Q100.538 226.979 103.594 222.396 Q106.672 217.789 112.483 217.789 Z\" fill=\"#000000\" fill-rule=\"evenodd\" fill-opacity=\"1\" /><path clip-path=\"url(#clip8500)\" d=\"M 0 0 M139.496 236.562 Q136.163 236.562 134.242 238.345 Q132.344 240.127 132.344 243.252 Q132.344 246.377 134.242 248.159 Q136.163 249.942 139.496 249.942 Q142.83 249.942 144.751 248.159 Q146.672 246.354 146.672 243.252 Q146.672 240.127 144.751 238.345 Q142.853 236.562 139.496 236.562 M134.82 234.572 Q131.811 233.831 130.121 231.771 Q128.455 229.711 128.455 226.748 Q128.455 222.604 131.395 220.197 Q134.357 217.789 139.496 217.789 Q144.658 217.789 147.598 220.197 Q150.538 222.604 150.538 226.748 Q150.538 229.711 148.848 231.771 Q147.181 233.831 144.195 234.572 Q147.575 235.359 149.45 237.65 Q151.348 239.942 151.348 243.252 Q151.348 248.275 148.269 250.96 Q145.214 253.646 139.496 253.646 Q133.779 253.646 130.7 250.96 Q127.645 248.275 127.645 243.252 Q127.645 239.942 129.543 237.65 Q131.441 235.359 134.82 234.572 M133.107 227.187 Q133.107 229.873 134.774 231.377 Q136.464 232.882 139.496 232.882 Q142.506 232.882 144.195 231.377 Q145.908 229.873 145.908 227.187 Q145.908 224.502 144.195 222.998 Q142.506 221.493 139.496 221.493 Q136.464 221.493 134.774 222.998 Q133.107 224.502 133.107 227.187 Z\" fill=\"#000000\" fill-rule=\"evenodd\" fill-opacity=\"1\" /><path clip-path=\"url(#clip8502)\" d=\"\n",
       "M853.22 1445.72 L2291.13 1445.72 L2291.13 991.958 L853.22 991.958 L853.22 1445.72  Z\n",
       "  \" fill=\"#009af9\" fill-rule=\"evenodd\" fill-opacity=\"0.5\"/>\n",
       "<polyline clip-path=\"url(#clip8502)\" style=\"stroke:#000000; stroke-width:4; stroke-opacity:0.5; fill:none\" points=\"\n",
       "  853.22,1445.72 2291.13,1445.72 2291.13,991.958 853.22,991.958 853.22,1445.72 \n",
       "  \"/>\n",
       "<polyline clip-path=\"url(#clip8502)\" style=\"stroke:#e26f46; stroke-width:4; stroke-opacity:1; fill:none\" stroke-dasharray=\"16, 10\" points=\"\n",
       "  236.973,1445.72 236.973,1445.72 243.21,1421.24 253.071,1396.79 265.297,1372.23 280.485,1347.28 297.246,1322.07 316.774,1296.34 339.238,1270.21 364.805,1243.46 \n",
       "  392.164,1215.73 422.511,1187.63 456.389,1158.95 493.675,1129.36 532.916,1098.71 574.707,1067.44 618.297,1034.96 663.123,1001.78 710.531,968.151 759.845,933.853 \n",
       "  810.041,898.772 862.19,863.136 914.285,825.31 966.591,781.194 1018.43,726.169 1070.09,670.81 1121.42,614.901 1172.69,558.834 1224.6,502.634 1277.32,445.623 \n",
       "  1329.4,387.99 1379.67,329.562 1430.18,269.932 1481.29,209.498 1533,148.764 1584.71,87.9763 \n",
       "  \"/>\n",
       "<circle clip-path=\"url(#clip8502)\" cx=\"236.973\" cy=\"1445.72\" r=\"7\" fill=\"#e26f46\" fill-rule=\"evenodd\" fill-opacity=\"1\" stroke=\"#000000\" stroke-opacity=\"1\" stroke-width=\"3.2\"/>\n",
       "<circle clip-path=\"url(#clip8502)\" cx=\"236.973\" cy=\"1445.72\" r=\"7\" fill=\"#e26f46\" fill-rule=\"evenodd\" fill-opacity=\"1\" stroke=\"#000000\" stroke-opacity=\"1\" stroke-width=\"3.2\"/>\n",
       "<circle clip-path=\"url(#clip8502)\" cx=\"243.21\" cy=\"1421.24\" r=\"7\" fill=\"#e26f46\" fill-rule=\"evenodd\" fill-opacity=\"1\" stroke=\"#000000\" stroke-opacity=\"1\" stroke-width=\"3.2\"/>\n",
       "<circle clip-path=\"url(#clip8502)\" cx=\"253.071\" cy=\"1396.79\" r=\"7\" fill=\"#e26f46\" fill-rule=\"evenodd\" fill-opacity=\"1\" stroke=\"#000000\" stroke-opacity=\"1\" stroke-width=\"3.2\"/>\n",
       "<circle clip-path=\"url(#clip8502)\" cx=\"265.297\" cy=\"1372.23\" r=\"7\" fill=\"#e26f46\" fill-rule=\"evenodd\" fill-opacity=\"1\" stroke=\"#000000\" stroke-opacity=\"1\" stroke-width=\"3.2\"/>\n",
       "<circle clip-path=\"url(#clip8502)\" cx=\"280.485\" cy=\"1347.28\" r=\"7\" fill=\"#e26f46\" fill-rule=\"evenodd\" fill-opacity=\"1\" stroke=\"#000000\" stroke-opacity=\"1\" stroke-width=\"3.2\"/>\n",
       "<circle clip-path=\"url(#clip8502)\" cx=\"297.246\" cy=\"1322.07\" r=\"7\" fill=\"#e26f46\" fill-rule=\"evenodd\" fill-opacity=\"1\" stroke=\"#000000\" stroke-opacity=\"1\" stroke-width=\"3.2\"/>\n",
       "<circle clip-path=\"url(#clip8502)\" cx=\"316.774\" cy=\"1296.34\" r=\"7\" fill=\"#e26f46\" fill-rule=\"evenodd\" fill-opacity=\"1\" stroke=\"#000000\" stroke-opacity=\"1\" stroke-width=\"3.2\"/>\n",
       "<circle clip-path=\"url(#clip8502)\" cx=\"339.238\" cy=\"1270.21\" r=\"7\" fill=\"#e26f46\" fill-rule=\"evenodd\" fill-opacity=\"1\" stroke=\"#000000\" stroke-opacity=\"1\" stroke-width=\"3.2\"/>\n",
       "<circle clip-path=\"url(#clip8502)\" cx=\"364.805\" cy=\"1243.46\" r=\"7\" fill=\"#e26f46\" fill-rule=\"evenodd\" fill-opacity=\"1\" stroke=\"#000000\" stroke-opacity=\"1\" stroke-width=\"3.2\"/>\n",
       "<circle clip-path=\"url(#clip8502)\" cx=\"392.164\" cy=\"1215.73\" r=\"7\" fill=\"#e26f46\" fill-rule=\"evenodd\" fill-opacity=\"1\" stroke=\"#000000\" stroke-opacity=\"1\" stroke-width=\"3.2\"/>\n",
       "<circle clip-path=\"url(#clip8502)\" cx=\"422.511\" cy=\"1187.63\" r=\"7\" fill=\"#e26f46\" fill-rule=\"evenodd\" fill-opacity=\"1\" stroke=\"#000000\" stroke-opacity=\"1\" stroke-width=\"3.2\"/>\n",
       "<circle clip-path=\"url(#clip8502)\" cx=\"456.389\" cy=\"1158.95\" r=\"7\" fill=\"#e26f46\" fill-rule=\"evenodd\" fill-opacity=\"1\" stroke=\"#000000\" stroke-opacity=\"1\" stroke-width=\"3.2\"/>\n",
       "<circle clip-path=\"url(#clip8502)\" cx=\"493.675\" cy=\"1129.36\" r=\"7\" fill=\"#e26f46\" fill-rule=\"evenodd\" fill-opacity=\"1\" stroke=\"#000000\" stroke-opacity=\"1\" stroke-width=\"3.2\"/>\n",
       "<circle clip-path=\"url(#clip8502)\" cx=\"532.916\" cy=\"1098.71\" r=\"7\" fill=\"#e26f46\" fill-rule=\"evenodd\" fill-opacity=\"1\" stroke=\"#000000\" stroke-opacity=\"1\" stroke-width=\"3.2\"/>\n",
       "<circle clip-path=\"url(#clip8502)\" cx=\"574.707\" cy=\"1067.44\" r=\"7\" fill=\"#e26f46\" fill-rule=\"evenodd\" fill-opacity=\"1\" stroke=\"#000000\" stroke-opacity=\"1\" stroke-width=\"3.2\"/>\n",
       "<circle clip-path=\"url(#clip8502)\" cx=\"618.297\" cy=\"1034.96\" r=\"7\" fill=\"#e26f46\" fill-rule=\"evenodd\" fill-opacity=\"1\" stroke=\"#000000\" stroke-opacity=\"1\" stroke-width=\"3.2\"/>\n",
       "<circle clip-path=\"url(#clip8502)\" cx=\"663.123\" cy=\"1001.78\" r=\"7\" fill=\"#e26f46\" fill-rule=\"evenodd\" fill-opacity=\"1\" stroke=\"#000000\" stroke-opacity=\"1\" stroke-width=\"3.2\"/>\n",
       "<circle clip-path=\"url(#clip8502)\" cx=\"710.531\" cy=\"968.151\" r=\"7\" fill=\"#e26f46\" fill-rule=\"evenodd\" fill-opacity=\"1\" stroke=\"#000000\" stroke-opacity=\"1\" stroke-width=\"3.2\"/>\n",
       "<circle clip-path=\"url(#clip8502)\" cx=\"759.845\" cy=\"933.853\" r=\"7\" fill=\"#e26f46\" fill-rule=\"evenodd\" fill-opacity=\"1\" stroke=\"#000000\" stroke-opacity=\"1\" stroke-width=\"3.2\"/>\n",
       "<circle clip-path=\"url(#clip8502)\" cx=\"810.041\" cy=\"898.772\" r=\"7\" fill=\"#e26f46\" fill-rule=\"evenodd\" fill-opacity=\"1\" stroke=\"#000000\" stroke-opacity=\"1\" stroke-width=\"3.2\"/>\n",
       "<circle clip-path=\"url(#clip8502)\" cx=\"862.19\" cy=\"863.136\" r=\"7\" fill=\"#e26f46\" fill-rule=\"evenodd\" fill-opacity=\"1\" stroke=\"#000000\" stroke-opacity=\"1\" stroke-width=\"3.2\"/>\n",
       "<circle clip-path=\"url(#clip8502)\" cx=\"914.285\" cy=\"825.31\" r=\"7\" fill=\"#e26f46\" fill-rule=\"evenodd\" fill-opacity=\"1\" stroke=\"#000000\" stroke-opacity=\"1\" stroke-width=\"3.2\"/>\n",
       "<circle clip-path=\"url(#clip8502)\" cx=\"966.591\" cy=\"781.194\" r=\"7\" fill=\"#e26f46\" fill-rule=\"evenodd\" fill-opacity=\"1\" stroke=\"#000000\" stroke-opacity=\"1\" stroke-width=\"3.2\"/>\n",
       "<circle clip-path=\"url(#clip8502)\" cx=\"1018.43\" cy=\"726.169\" r=\"7\" fill=\"#e26f46\" fill-rule=\"evenodd\" fill-opacity=\"1\" stroke=\"#000000\" stroke-opacity=\"1\" stroke-width=\"3.2\"/>\n",
       "<circle clip-path=\"url(#clip8502)\" cx=\"1070.09\" cy=\"670.81\" r=\"7\" fill=\"#e26f46\" fill-rule=\"evenodd\" fill-opacity=\"1\" stroke=\"#000000\" stroke-opacity=\"1\" stroke-width=\"3.2\"/>\n",
       "<circle clip-path=\"url(#clip8502)\" cx=\"1121.42\" cy=\"614.901\" r=\"7\" fill=\"#e26f46\" fill-rule=\"evenodd\" fill-opacity=\"1\" stroke=\"#000000\" stroke-opacity=\"1\" stroke-width=\"3.2\"/>\n",
       "<circle clip-path=\"url(#clip8502)\" cx=\"1172.69\" cy=\"558.834\" r=\"7\" fill=\"#e26f46\" fill-rule=\"evenodd\" fill-opacity=\"1\" stroke=\"#000000\" stroke-opacity=\"1\" stroke-width=\"3.2\"/>\n",
       "<circle clip-path=\"url(#clip8502)\" cx=\"1224.6\" cy=\"502.634\" r=\"7\" fill=\"#e26f46\" fill-rule=\"evenodd\" fill-opacity=\"1\" stroke=\"#000000\" stroke-opacity=\"1\" stroke-width=\"3.2\"/>\n",
       "<circle clip-path=\"url(#clip8502)\" cx=\"1277.32\" cy=\"445.623\" r=\"7\" fill=\"#e26f46\" fill-rule=\"evenodd\" fill-opacity=\"1\" stroke=\"#000000\" stroke-opacity=\"1\" stroke-width=\"3.2\"/>\n",
       "<circle clip-path=\"url(#clip8502)\" cx=\"1329.4\" cy=\"387.99\" r=\"7\" fill=\"#e26f46\" fill-rule=\"evenodd\" fill-opacity=\"1\" stroke=\"#000000\" stroke-opacity=\"1\" stroke-width=\"3.2\"/>\n",
       "<circle clip-path=\"url(#clip8502)\" cx=\"1379.67\" cy=\"329.562\" r=\"7\" fill=\"#e26f46\" fill-rule=\"evenodd\" fill-opacity=\"1\" stroke=\"#000000\" stroke-opacity=\"1\" stroke-width=\"3.2\"/>\n",
       "<circle clip-path=\"url(#clip8502)\" cx=\"1430.18\" cy=\"269.932\" r=\"7\" fill=\"#e26f46\" fill-rule=\"evenodd\" fill-opacity=\"1\" stroke=\"#000000\" stroke-opacity=\"1\" stroke-width=\"3.2\"/>\n",
       "<circle clip-path=\"url(#clip8502)\" cx=\"1481.29\" cy=\"209.498\" r=\"7\" fill=\"#e26f46\" fill-rule=\"evenodd\" fill-opacity=\"1\" stroke=\"#000000\" stroke-opacity=\"1\" stroke-width=\"3.2\"/>\n",
       "<circle clip-path=\"url(#clip8502)\" cx=\"1533\" cy=\"148.764\" r=\"7\" fill=\"#e26f46\" fill-rule=\"evenodd\" fill-opacity=\"1\" stroke=\"#000000\" stroke-opacity=\"1\" stroke-width=\"3.2\"/>\n",
       "<circle clip-path=\"url(#clip8502)\" cx=\"1584.71\" cy=\"87.9763\" r=\"7\" fill=\"#e26f46\" fill-rule=\"evenodd\" fill-opacity=\"1\" stroke=\"#000000\" stroke-opacity=\"1\" stroke-width=\"3.2\"/>\n",
       "</svg>\n"
      ]
     },
     "execution_count": 176,
     "metadata": {},
     "output_type": "execute_result"
    }
   ],
   "source": [
    "plot(rectangle(0.035,0.03,0.015,0), opacity=.5, legend=:none)\n",
    "plot!(xs2[:,:]', ys2[:,:]', linestyle=:dash, markershape=:circle, ms=2)"
   ]
  },
  {
   "cell_type": "code",
   "execution_count": null,
   "metadata": {},
   "outputs": [],
   "source": []
  }
 ],
 "metadata": {
  "kernelspec": {
   "display_name": "Julia 1.4.1",
   "language": "julia",
   "name": "julia-1.4"
  },
  "language_info": {
   "file_extension": ".jl",
   "mimetype": "application/julia",
   "name": "julia",
   "version": "1.4.1"
  }
 },
 "nbformat": 4,
 "nbformat_minor": 4
}
