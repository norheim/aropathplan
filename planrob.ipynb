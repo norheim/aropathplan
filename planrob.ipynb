{
 "cells": [
  {
   "cell_type": "markdown",
   "metadata": {},
   "source": [
    "## Robust plan"
   ]
  },
  {
   "cell_type": "code",
   "execution_count": 1,
   "metadata": {},
   "outputs": [
    {
     "name": "stdout",
     "output_type": "stream",
     "text": [
      "Academic license - for non-commercial use only\n"
     ]
    }
   ],
   "source": [
    "using JuMP, Gurobi, Plots, LinearAlgebra\n",
    "GRB_ENV = Gurobi.Env();"
   ]
  },
  {
   "cell_type": "markdown",
   "metadata": {},
   "source": [
    "### Create model for dynamics"
   ]
  },
  {
   "cell_type": "code",
   "execution_count": 2,
   "metadata": {},
   "outputs": [],
   "source": [
    "dt = 0.1\n",
    "A = zeros(4,4)+I\n",
    "A[1,2] = A[3,4] = dt\n",
    "B = zeros(4,2)\n",
    "B[2,1] = B[4,2] = dt\n",
    "C = zeros(2,4)\n",
    "C[1,2] = C[2,4] = 1\n",
    "D = zeros(2,2)\n",
    "Bw = copy(B);"
   ]
  },
  {
   "cell_type": "markdown",
   "metadata": {},
   "source": [
    "### Create model"
   ]
  },
  {
   "cell_type": "code",
   "execution_count": 138,
   "metadata": {},
   "outputs": [
    {
     "data": {
      "text/plain": [
       "0.001"
      ]
     },
     "execution_count": 138,
     "metadata": {},
     "output_type": "execute_result"
    }
   ],
   "source": [
    "T = 0.9\n",
    "N = Int(T/dt);\n",
    "x0 = [0;0;0;0]\n",
    "xN = [0.03;0;0.035;0]\n",
    "ϵ = 0.001 # how close to the goal we want to get"
   ]
  },
  {
   "cell_type": "markdown",
   "metadata": {},
   "source": [
    "## Obstacles"
   ]
  },
  {
   "cell_type": "code",
   "execution_count": 82,
   "metadata": {},
   "outputs": [],
   "source": [
    "P = [-1 0; 0 1]\n",
    "q = [-0.015; 0.03]\n",
    "m = length(q)\n",
    "obj = [[1,2]] # Each entry corresponds to the lines defining an object\n",
    "Nobj = length(obj)\n",
    "M = 1000; #Big M"
   ]
  },
  {
   "cell_type": "markdown",
   "metadata": {},
   "source": [
    "## Helper vars"
   ]
  },
  {
   "cell_type": "code",
   "execution_count": 166,
   "metadata": {},
   "outputs": [],
   "source": [
    "Q = zeros(2,4)\n",
    "Q[1,2] = Q[2,4] = 1\n",
    "N_K = Int((N-1)*N/2) # number of K's\n",
    "Ak = zeros(N,4,4)\n",
    "Ak[1,:,:] = zeros(Int, size(A))+I\n",
    "for i=2:N\n",
    "    Ak[i,:,:] = A*Ak[i-1,:,:]\n",
    "end\n",
    "Ai = i -> Ak[i,:,:]\n",
    "AB = (k,i) -> Ak[k-i,:,:]*B;\n",
    "ABw = (k,i) -> Ak[k-i,:,:]*Bw\n",
    "getK = (i,j) -> Int((i-2)*(i-3)/2)+j;"
   ]
  },
  {
   "cell_type": "code",
   "execution_count": 70,
   "metadata": {},
   "outputs": [
    {
     "data": {
      "text/plain": [
       "(1, 2, 3, 4)"
      ]
     },
     "execution_count": 70,
     "metadata": {},
     "output_type": "execute_result"
    }
   ],
   "source": [
    "getK(3,1),getK(4,1),getK(4,2),getK(5,1)"
   ]
  },
  {
   "cell_type": "markdown",
   "metadata": {},
   "source": [
    "## Robustness parameters"
   ]
  },
  {
   "cell_type": "code",
   "execution_count": 71,
   "metadata": {},
   "outputs": [],
   "source": [
    "ρ = 3;"
   ]
  },
  {
   "cell_type": "markdown",
   "metadata": {},
   "source": [
    "## Model"
   ]
  },
  {
   "cell_type": "code",
   "execution_count": 200,
   "metadata": {},
   "outputs": [],
   "source": [
    "model = Model(optimizer_with_attributes(\n",
    "        () -> Gurobi.Optimizer(GRB_ENV), #\"OutputFlag\" => 0\n",
    "    ));\n",
    "@variable(model, K[1:N_K,1:2,1:2])\n",
    "@variable(model, α[1:2, 1:N-1])\n",
    "@variable(model, au[1:2, 1:N-1] >=0)\n",
    "@variable(model, z[1:N, 1:m] >=0, Bin)\n",
    "@variable(model, t[1:N_K,1:m] >= 0) # Auxiliary variables for SOC\n",
    "@variable(model, s[1:N_K,1:2] >= 0); # Auxiliary variables for SOC\n",
    "@variable(model, r[1:N_K,1:4] >= 0); # Auxiliary variables for SOC"
   ]
  },
  {
   "cell_type": "code",
   "execution_count": 201,
   "metadata": {},
   "outputs": [],
   "source": [
    "@constraint(model, [k=2:N, i=1:Nobj],\n",
    "    sum(z[k,j] for j in obj[i]) == Nobj-1); # Obstacles"
   ]
  },
  {
   "cell_type": "markdown",
   "metadata": {},
   "source": [
    "## Obstacle free path"
   ]
  },
  {
   "cell_type": "code",
   "execution_count": 202,
   "metadata": {},
   "outputs": [],
   "source": [
    "@constraint(model, [k=3:N], (P*Q*Ai(k)*x0+sum(P*Q*AB(k,i)*α[:,i] for i=1:k-1)\n",
    "        +sum(ρ*t[k-3+i,:] for i=1:k-2)\n",
    "        +ρ*mapslices(norm, P*Q*Bw, dims=2)[:]) .<= q+M*z[k,:]);"
   ]
  },
  {
   "cell_type": "markdown",
   "metadata": {},
   "source": [
    "### Maximum control"
   ]
  },
  {
   "cell_type": "code",
   "execution_count": 203,
   "metadata": {},
   "outputs": [],
   "source": [
    "@constraint(model, [k=2:N-1], α[:,k]+ρ*sum(s[k+i,:] for i=0:k-2) .<= au[:,k])\n",
    "@constraint(model, [k=2:N-1], -α[:,k]-ρ*sum(s[k+i,:] for i=0:k-2) .>= -au[:,k]);"
   ]
  },
  {
   "cell_type": "markdown",
   "metadata": {},
   "source": [
    "### Goals"
   ]
  },
  {
   "cell_type": "code",
   "execution_count": 204,
   "metadata": {},
   "outputs": [],
   "source": [
    "@constraint(model, (Ai(N)*x0+sum(AB(N,i)*α[:,i] for i=1:N-1)\n",
    "        +sum(ρ*r[N-3+i,:] for i=1:N-2)\n",
    "        +ρ*mapslices(norm, Bw, dims=2)[:]) .<= xN+ϵ);\n",
    "@constraint(model, (Ai(N)*x0+sum(AB(N,i)*α[:,i] for i=1:N-1)\n",
    "        +sum(ρ*r[N-3+i,:] for i=1:N-2)\n",
    "        +ρ*mapslices(norm, Bw, dims=2)[:]) .>= xN-ϵ);"
   ]
  },
  {
   "cell_type": "markdown",
   "metadata": {},
   "source": [
    "## Second order constraints"
   ]
  },
  {
   "cell_type": "markdown",
   "metadata": {},
   "source": [
    "### 1) Obstacles"
   ]
  },
  {
   "cell_type": "code",
   "execution_count": 205,
   "metadata": {},
   "outputs": [],
   "source": [
    "@constraint(model, [k=3:N,i=1:(k-2),l=1:m], vcat(t[k-3+i,l], (P*Q*ABw(k,i))[l,:]+sum(\n",
    "            (P*Q*AB(k,i)*K[getK(j,i+1),:,:])[l,:] for j=(i+1):(k-1))) in SecondOrderCone());"
   ]
  },
  {
   "cell_type": "markdown",
   "metadata": {},
   "source": [
    "2) Control"
   ]
  },
  {
   "cell_type": "code",
   "execution_count": 206,
   "metadata": {},
   "outputs": [],
   "source": [
    "@constraint(model, [k=3:N-1,i=1:(k-2),l=1:2], vcat(s[k-3+i,l], sum(\n",
    "            K[getK(j,i+1),l,:] for j=(i+1):(k-1))) in SecondOrderCone());"
   ]
  },
  {
   "cell_type": "markdown",
   "metadata": {},
   "source": [
    "3) Goals"
   ]
  },
  {
   "cell_type": "code",
   "execution_count": 207,
   "metadata": {},
   "outputs": [],
   "source": [
    "@constraint(model, [k=3:N,i=1:(k-2),l=1:4], vcat(r[k-3+i,l], (ABw(k,i))[l,:]+sum(\n",
    "            (AB(k,i)*K[getK(j,i+1),:,:])[l,:] for j=(i+1):(k-1))) in SecondOrderCone());"
   ]
  },
  {
   "cell_type": "markdown",
   "metadata": {},
   "source": [
    "## Optimize"
   ]
  },
  {
   "cell_type": "code",
   "execution_count": null,
   "metadata": {},
   "outputs": [],
   "source": [
    "optimize!(model)"
   ]
  },
  {
   "cell_type": "markdown",
   "metadata": {},
   "source": [
    "## Debug"
   ]
  },
  {
   "cell_type": "code",
   "execution_count": 190,
   "metadata": {},
   "outputs": [
    {
     "data": {
      "text/plain": [
       "2-element Array{Float64,1}:\n",
       " -0.1\n",
       "  0.0"
      ]
     },
     "execution_count": 190,
     "metadata": {},
     "output_type": "execute_result"
    }
   ],
   "source": [
    "(P*Q*ABw(k,i))[l,:]"
   ]
  },
  {
   "cell_type": "code",
   "execution_count": 187,
   "metadata": {},
   "outputs": [
    {
     "data": {
      "text/plain": [
       "2-element Array{GenericAffExpr{Float64,VariableRef},1}:\n",
       " -0.1 K[2,1,1]\n",
       " 0.1 K[2,1,2]"
      ]
     },
     "execution_count": 187,
     "metadata": {},
     "output_type": "execute_result"
    }
   ],
   "source": [
    "sum(P*Q*AB(k,i)*K[getK(j,i+1),:,:][l,:] for j=(i+1):(k-1))"
   ]
  },
  {
   "cell_type": "code",
   "execution_count": null,
   "metadata": {},
   "outputs": [],
   "source": [
    "@constraint(model, [k=2:N,i=0:(k-2)], vcat(s[k-2+i+1,l], sum(\n",
    "            B*K[getK(j,i+1),:,:] for j=(i+1):(k-1))) in SecondOrderCone());"
   ]
  },
  {
   "cell_type": "code",
   "execution_count": null,
   "metadata": {},
   "outputs": [],
   "source": [
    "@constraint(model, [k=3:N-1], (P*Q*Ai(k)*x0+sum(P*Q*ABki(k,i)*α[:,i] for i=1:k-1)\n",
    "        +sum(ρ*t[k-2+i+1,:] for i=0:k-2))"
   ]
  },
  {
   "cell_type": "code",
   "execution_count": 234,
   "metadata": {},
   "outputs": [],
   "source": [
    "@constraint(model, [k=2:N,i=0:(k-2)], vcat(s[k-2+i+1,l], sum(\n",
    "            B*K[getK(j,i+1),:,:] for j=(i+1):(k-1))) in SecondOrderCone());\n",
    "@constraint(model, [k=2:N,i=0:(k-2),l=1:2], vcat(t[k-2+i+1,l], cki(k,i)[l,:]+sum(\n",
    "            dki(k,j)*K[getK(j,i+1),:,:][l,:] for j=(i+1):(k-1))) in SecondOrderCone());\n",
    "@constraint(model, [k=2:N-1], (η(k)*x0+sum(cki(k,i)*α[:,i+1] for i=0:k-1)\n",
    "        +sum(ρ*t[k-2+i+1,:] for i=0:k-2)\n",
    "        +ρ*mapslices(norm, A1*C*Bw, dims=2)[:]) .<= b1+M*z[k,:]);\n",
    "@objective(model, Min, sum(au));"
   ]
  },
  {
   "cell_type": "code",
   "execution_count": 184,
   "metadata": {},
   "outputs": [
    {
     "data": {
      "text/plain": [
       "2-element Array{GenericAffExpr{Float64,VariableRef},1}:\n",
       " -0.1 K[1,1,1]\n",
       " -0.1 K[1,1,2]"
      ]
     },
     "execution_count": 184,
     "metadata": {},
     "output_type": "execute_result"
    }
   ],
   "source": [
    "j = 1\n",
    "(dki(k,j)*K[getK(j,i+1),:,:])[1,:]"
   ]
  },
  {
   "cell_type": "code",
   "execution_count": 185,
   "metadata": {},
   "outputs": [
    {
     "data": {
      "text/plain": [
       "2-element Array{GenericAffExpr{Float64,VariableRef},1}:\n",
       " -0.1 K[1,1,1] - 0.1\n",
       " -0.1 K[1,1,2]"
      ]
     },
     "execution_count": 185,
     "metadata": {},
     "output_type": "execute_result"
    }
   ],
   "source": [
    "cki(k,i)[1,:]+(dki(k,j)*K[getK(j,i+1),:,:])[1,:]"
   ]
  },
  {
   "cell_type": "code",
   "execution_count": 173,
   "metadata": {},
   "outputs": [
    {
     "data": {
      "text/plain": [
       "2-element Array{VariableRef,1}:\n",
       " K[1,1,1]\n",
       " K[1,2,1]"
      ]
     },
     "execution_count": 173,
     "metadata": {},
     "output_type": "execute_result"
    }
   ],
   "source": [
    "K[getK(j,i+1),:,1]"
   ]
  },
  {
   "cell_type": "code",
   "execution_count": 175,
   "metadata": {},
   "outputs": [
    {
     "data": {
      "text/latex": [
       "$$ -0.1 K_{1,1,1} $$"
      ],
      "text/plain": [
       "-0.1 K[1,1,1]"
      ]
     },
     "execution_count": 175,
     "metadata": {},
     "output_type": "execute_result"
    }
   ],
   "source": [
    "sum(dki(k,j)[1,:]*K[getK(j,i+1),:,:] for j=(i+1):(k-1))"
   ]
  },
  {
   "cell_type": "code",
   "execution_count": 192,
   "metadata": {},
   "outputs": [
    {
     "data": {
      "text/plain": [
       "3-element Array{GenericAffExpr{Float64,VariableRef},1}:\n",
       " t[2,1]\n",
       " -0.1 K[1,1,1] - 0.1\n",
       " 0.1 K[1,1,2]"
      ]
     },
     "execution_count": 192,
     "metadata": {},
     "output_type": "execute_result"
    }
   ],
   "source": [
    "k,i = (2,0)\n",
    "vcat(t[k,1], cki(k,i)[1,:]+sum(\n",
    "        dki(k,j)*K[getK(j,i+1),:,:][1,:] for j=(i+1):(k-1)))"
   ]
  },
  {
   "cell_type": "code",
   "execution_count": 223,
   "metadata": {},
   "outputs": [],
   "source": [
    "@constraint(model, [k=2:N,i=0:(k-2),l=1:2], vcat(t[k-2+i+1,l], cki(k,i)[l,:]+sum(\n",
    "            dki(k,j)*K[getK(j,i+1),:,:][l,:] for j=(i+1):(k-1))) in SecondOrderCone());"
   ]
  },
  {
   "cell_type": "code",
   "execution_count": 200,
   "metadata": {},
   "outputs": [
    {
     "data": {
      "text/plain": [
       "2×2 Array{Float64,2}:\n",
       " -0.1  0.0\n",
       "  0.0  0.1"
      ]
     },
     "execution_count": 200,
     "metadata": {},
     "output_type": "execute_result"
    }
   ],
   "source": [
    "cki(k,i)"
   ]
  },
  {
   "cell_type": "code",
   "execution_count": 243,
   "metadata": {},
   "outputs": [
    {
     "data": {
      "text/plain": [
       "2-element Array{Float64,1}:\n",
       " 0.0\n",
       " 0.0"
      ]
     },
     "execution_count": 243,
     "metadata": {},
     "output_type": "execute_result"
    }
   ],
   "source": [
    "η(k)*x0"
   ]
  },
  {
   "cell_type": "code",
   "execution_count": 246,
   "metadata": {},
   "outputs": [
    {
     "data": {
      "text/plain": [
       "2-element Array{GenericAffExpr{Float64,VariableRef},1}:\n",
       " -0.1 α[1,1] - 0.1 α[1,2] + 3 t[1,1]\n",
       " 0.1 α[2,1] + 0.1 α[2,2] + 3 t[1,2]"
      ]
     },
     "execution_count": 246,
     "metadata": {},
     "output_type": "execute_result"
    }
   ],
   "source": [
    "η(k)*x0+sum(cki(k,i)*α[:,i+1] for i=0:k-1)+sum(ρ*t[k-2+i+1,:] for i=0:k-2)"
   ]
  },
  {
   "cell_type": "code",
   "execution_count": 224,
   "metadata": {},
   "outputs": [
    {
     "data": {
      "text/plain": [
       "2-element Array{GenericAffExpr{Float64,VariableRef},1}:\n",
       " 3 t[1,1]\n",
       " 3 t[1,2]"
      ]
     },
     "execution_count": 224,
     "metadata": {},
     "output_type": "execute_result"
    }
   ],
   "source": [
    "sum(ρ*t[k-2+i+1,:] for i=0:k-2)"
   ]
  },
  {
   "cell_type": "code",
   "execution_count": 255,
   "metadata": {},
   "outputs": [
    {
     "data": {
      "text/plain": [
       "2-element Array{GenericAffExpr{Float64,VariableRef},1}:\n",
       " -0.1 α[1,1] - 0.1 α[1,2] + 3 t[1,1] + 0.30000000000000004\n",
       " 0.1 α[2,1] + 0.1 α[2,2] + 3 t[1,2] + 0.30000000000000004"
      ]
     },
     "execution_count": 255,
     "metadata": {},
     "output_type": "execute_result"
    }
   ],
   "source": [
    "(η(k)*x0+sum(cki(k,i)*α[:,i+1] for i=0:k-1)\n",
    "        +sum(ρ*t[k-2+i+1,:] for i=0:k-2)\n",
    "        +ρ*mapslices(norm, A1*C*Bw, dims=2)[:])"
   ]
  },
  {
   "cell_type": "code",
   "execution_count": 239,
   "metadata": {},
   "outputs": [
    {
     "data": {
      "text/plain": [
       "2-element Array{GenericAffExpr{Float64,VariableRef},1}:\n",
       " 1000 z[2,1] - 0.015\n",
       " 1000 z[2,2] + 0.03"
      ]
     },
     "execution_count": 239,
     "metadata": {},
     "output_type": "execute_result"
    }
   ],
   "source": [
    "b1+M*z[k,:]"
   ]
  },
  {
   "cell_type": "code",
   "execution_count": 257,
   "metadata": {},
   "outputs": [
    {
     "data": {
      "text/plain": [
       "1-dimensional DenseAxisArray{Array{ConstraintRef{Model,MathOptInterface.ConstraintIndex{MathOptInterface.ScalarAffineFunction{Float64},MathOptInterface.LessThan{Float64}},ScalarShape},1},1,...} with index sets:\n",
       "    Dimension 1, 2:8\n",
       "And data, a 7-element Array{Array{ConstraintRef{Model,MathOptInterface.ConstraintIndex{MathOptInterface.ScalarAffineFunction{Float64},MathOptInterface.LessThan{Float64}},ScalarShape},1},1}:\n",
       " [-0.1 α[1,1] - 0.1 α[1,2] + 3 t[1,1] - 1000 z[2,1] <= -0.31500000000000006, 0.1 α[2,1] + 0.1 α[2,2] + 3 t[1,2] - 1000 z[2,2] <= -0.27]\n",
       " [-0.1 α[1,1] - 0.1 α[1,2] - 0.1 α[1,3] + 3 t[2,1] + 3 t[3,1] - 1000 z[3,1] <= -0.31500000000000006, 0.1 α[2,1] + 0.1 α[2,2] + 0.1 α[2,3] + 3 t[2,2] + 3 t[3,2] - 1000 z[3,2] <= -0.27]\n",
       " [-0.1 α[1,1] - 0.1 α[1,2] - 0.1 α[1,3] - 0.1 α[1,4] + 3 t[3,1] + 3 t[4,1] + 3 t[5,1] - 1000 z[4,1] <= -0.31500000000000006, 0.1 α[2,1] + 0.1 α[2,2] + 0.1 α[2,3] + 0.1 α[2,4] + 3 t[3,2] + 3 t[4,2] + 3 t[5,2] - 1000 z[4,2] <= -0.27]\n",
       " [-0.1 α[1,1] - 0.1 α[1,2] - 0.1 α[1,3] - 0.1 α[1,4] - 0.1 α[1,5] + 3 t[4,1] + 3 t[5,1] + 3 t[6,1] + 3 t[7,1] - 1000 z[5,1] <= -0.31500000000000006, 0.1 α[2,1] + 0.1 α[2,2] + 0.1 α[2,3] + 0.1 α[2,4] + 0.1 α[2,5] + 3 t[4,2] + 3 t[5,2] + 3 t[6,2] + 3 t[7,2] - 1000 z[5,2] <= -0.27]\n",
       " [-0.1 α[1,1] - 0.1 α[1,2] - 0.1 α[1,3] - 0.1 α[1,4] - 0.1 α[1,5] - 0.1 α[1,6] + 3 t[5,1] + 3 t[6,1] + 3 t[7,1] + 3 t[8,1] + 3 t[9,1] - 1000 z[6,1] <= -0.31500000000000006, 0.1 α[2,1] + 0.1 α[2,2] + 0.1 α[2,3] + 0.1 α[2,4] + 0.1 α[2,5] + 0.1 α[2,6] + 3 t[5,2] + 3 t[6,2] + 3 t[7,2] + 3 t[8,2] + 3 t[9,2] - 1000 z[6,2] <= -0.27]\n",
       " [-0.1 α[1,1] - 0.1 α[1,2] - 0.1 α[1,3] - 0.1 α[1,4] - 0.1 α[1,5] - 0.1 α[1,6] - 0.1 α[1,7] + 3 t[6,1] + 3 t[7,1] + 3 t[8,1] + 3 t[9,1] + 3 t[10,1] + 3 t[11,1] - 1000 z[7,1] <= -0.31500000000000006, 0.1 α[2,1] + 0.1 α[2,2] + 0.1 α[2,3] + 0.1 α[2,4] + 0.1 α[2,5] + 0.1 α[2,6] + 0.1 α[2,7] + 3 t[6,2] + 3 t[7,2] + 3 t[8,2] + 3 t[9,2] + 3 t[10,2] + 3 t[11,2] - 1000 z[7,2] <= -0.27]\n",
       " [-0.1 α[1,1] - 0.1 α[1,2] - 0.1 α[1,3] - 0.1 α[1,4] - 0.1 α[1,5] - 0.1 α[1,6] - 0.1 α[1,7] - 0.1 α[1,8] + 3 t[7,1] + 3 t[8,1] + 3 t[9,1] + 3 t[10,1] + 3 t[11,1] + 3 t[12,1] + 3 t[13,1] - 1000 z[8,1] <= -0.31500000000000006, 0.1 α[2,1] + 0.1 α[2,2] + 0.1 α[2,3] + 0.1 α[2,4] + 0.1 α[2,5] + 0.1 α[2,6] + 0.1 α[2,7] + 0.1 α[2,8] + 3 t[7,2] + 3 t[8,2] + 3 t[9,2] + 3 t[10,2] + 3 t[11,2] + 3 t[12,2] + 3 t[13,2] - 1000 z[8,2] <= -0.27]"
      ]
     },
     "execution_count": 257,
     "metadata": {},
     "output_type": "execute_result"
    }
   ],
   "source": [
    "@constraint(model, [k=2:N-1], (η(k)*x0+sum(cki(k,i)*α[:,i+1] for i=0:k-1)\n",
    "        +sum(ρ*t[k-2+i+1,:] for i=0:k-2)\n",
    "        +ρ*mapslices(norm, A1*C*Bw, dims=2)[:]) .<= b1+M*z[k,:]);"
   ]
  },
  {
   "cell_type": "markdown",
   "metadata": {},
   "source": [
    "### Dual formulation"
   ]
  },
  {
   "cell_type": "code",
   "execution_count": 4,
   "metadata": {},
   "outputs": [],
   "source": [
    "model = Model(optimizer_with_attributes(\n",
    "        () -> Gurobi.Optimizer(GRB_ENV), #\"OutputFlag\" => 0\n",
    "    ));\n",
    "@variable(model, r1[1:2]>=0)\n",
    "@variable(model, r2[1:2]>=0)\n",
    "@variable(model, q[1:2, 1:N]>=0)\n",
    "@variable(model, p[1:2, 1:N]>=0)\n",
    "@variable(model, u[1:2, 1:N-1])\n",
    "@variable(model, au[1:2, 1:N-1] >=0)\n",
    "@variable(model, z[1:2, 1:N-1] >=0, Bin)\n",
    "@constraint(model, (dot(γ_1,r1)+dot(γ_2,r2)+dot(β,sum(q+p,dims=2)+\n",
    "        sum(-M*z+dki*u)))\n",
    "#@variable(model, g[1:N], Bin)\n",
    "#@variable(model, ag[1:4, 1:N] >= 0)\n",
    "@constraint(model, [k=1:N], A1*x[[1,3],k] -b1 + M*z[k,:] .>= 0 )\n",
    "@constraint(model, sum(z, dims=2) .== N1-1)\n",
    "@constraint(model, x[:,1] .== x0)\n",
    "@constraint(model, x[:,N] .== xN)\n",
    "@constraint(model, [k=1:N-1], x[:,k+1] .== A*x[:,k]+B*u[:,k])\n",
    "#@constraint(model, [k=1:N-1], y[:,k+1] .== C*x[:,k]) #sensor output\n",
    "@constraint(model, -au .<= u)\n",
    "@constraint(model, u .<= au)\n",
    "@constraint(model, au .<= 0.5)\n",
    "#@constraint(model, [k=1:N], -ag[:,k] .<= x[:, k] - xN)\n",
    "#@constraint(model, [k=1:N], x[:, k] - xN .<= ag[:,k])\n",
    "#@constraint(model, [k=1:N,i=1:4], -1000*g[k]+ag[i,k] .<= epsilon)\n",
    "#@constraint(model, -1 .<= x[[2,4],:] .<= 1) # velocity constraint\n",
    "#@objective(model, Min, sum(g));\n",
    "@objective(model, Min, sum(au));"
   ]
  },
  {
   "cell_type": "code",
   "execution_count": null,
   "metadata": {},
   "outputs": [],
   "source": []
  }
 ],
 "metadata": {
  "kernelspec": {
   "display_name": "Julia 1.4.1",
   "language": "julia",
   "name": "julia-1.4"
  },
  "language_info": {
   "file_extension": ".jl",
   "mimetype": "application/julia",
   "name": "julia",
   "version": "1.4.1"
  }
 },
 "nbformat": 4,
 "nbformat_minor": 4
}
