{
 "cells": [
  {
   "cell_type": "markdown",
   "metadata": {},
   "source": [
    "## Robust plan"
   ]
  },
  {
   "cell_type": "code",
   "execution_count": 1,
   "metadata": {},
   "outputs": [
    {
     "name": "stdout",
     "output_type": "stream",
     "text": [
      "Academic license - for non-commercial use only\n"
     ]
    }
   ],
   "source": [
    "using JuMP, Gurobi, Plots, LinearAlgebra\n",
    "GRB_ENV = Gurobi.Env();"
   ]
  },
  {
   "cell_type": "markdown",
   "metadata": {},
   "source": [
    "### Create model for dynamics"
   ]
  },
  {
   "cell_type": "code",
   "execution_count": 2,
   "metadata": {},
   "outputs": [],
   "source": [
    "dt = 0.1\n",
    "A = zeros(4,4)+I\n",
    "A[1,2] = A[3,4] = dt\n",
    "B = zeros(4,2)\n",
    "B[2,1] = B[4,2] = dt\n",
    "C = zeros(2,4)\n",
    "C[1,2] = C[2,4] = 1\n",
    "D = zeros(2,2)\n",
    "Bw = copy(B);"
   ]
  },
  {
   "cell_type": "markdown",
   "metadata": {},
   "source": [
    "### Create model"
   ]
  },
  {
   "cell_type": "code",
   "execution_count": 37,
   "metadata": {},
   "outputs": [
    {
     "data": {
      "text/plain": [
       "0.0001"
      ]
     },
     "execution_count": 37,
     "metadata": {},
     "output_type": "execute_result"
    }
   ],
   "source": [
    "T = 0.9\n",
    "N = Int(T/dt);\n",
    "x0 = [0;0;0;0]\n",
    "xN = [0.03;0;0.035;0]\n",
    "ϵ = 0.0001 # how close to the goal we want to get"
   ]
  },
  {
   "cell_type": "markdown",
   "metadata": {},
   "source": [
    "## Obstacles"
   ]
  },
  {
   "cell_type": "code",
   "execution_count": 4,
   "metadata": {},
   "outputs": [],
   "source": [
    "P = [-1 0; 0 1]\n",
    "q = [-0.03; 0.03] # this should be feasible\n",
    "m = length(q)\n",
    "obj = [[1,2]] # Each entry corresponds to the lines defining an object\n",
    "Nobj = length(obj)\n",
    "M = 1000; #Big M"
   ]
  },
  {
   "cell_type": "markdown",
   "metadata": {},
   "source": [
    "## Helper vars"
   ]
  },
  {
   "cell_type": "code",
   "execution_count": 5,
   "metadata": {},
   "outputs": [],
   "source": [
    "Q = zeros(2,4)\n",
    "Q[1,2] = Q[2,4] = 1\n",
    "N_K = Int((N-1)*N/2) # number of K's\n",
    "Ak = zeros(N,4,4)\n",
    "Ak[1,:,:] = zeros(Int, size(A))+I\n",
    "for i=2:N\n",
    "    Ak[i,:,:] = A*Ak[i-1,:,:]\n",
    "end\n",
    "Ai = i -> Ak[i,:,:]\n",
    "get_cone = (i,j) -> Int((i-2)*(i-3)/2)+j;"
   ]
  },
  {
   "cell_type": "code",
   "execution_count": 6,
   "metadata": {},
   "outputs": [
    {
     "data": {
      "text/plain": [
       "(1, 2, 3, 4)"
      ]
     },
     "execution_count": 6,
     "metadata": {},
     "output_type": "execute_result"
    }
   ],
   "source": [
    "get_cone(3,1),get_cone(4,1),get_cone(4,2),get_cone(5,1)"
   ]
  },
  {
   "cell_type": "markdown",
   "metadata": {},
   "source": [
    "## Robustness parameters"
   ]
  },
  {
   "cell_type": "code",
   "execution_count": 7,
   "metadata": {},
   "outputs": [],
   "source": [
    "ρ = 0.1;"
   ]
  },
  {
   "cell_type": "markdown",
   "metadata": {},
   "source": [
    "## Model"
   ]
  },
  {
   "cell_type": "code",
   "execution_count": 82,
   "metadata": {},
   "outputs": [],
   "source": [
    "model = Model(optimizer_with_attributes(\n",
    "        () -> Gurobi.Optimizer(GRB_ENV), #\"OutputFlag\" => 0\n",
    "    ));\n",
    "@variable(model, K[1:N_K,1:2,1:2])   # Control law linear\n",
    "@variable(model, α[1:2, 1:N])      # Control law constant\n",
    "@variable(model, au[1:2, 1:N] >=0) # Absolute value of u(control)\n",
    "@variable(model, z[1:N, 1:m] >=0, Bin) # Binary vars for obstacles\n",
    "# Variables for auxiliary second order cones:\n",
    "@variable(model, t[1:N_K,1:m] >= 0) # (we need one for each halfplane)\n",
    "@variable(model, s[1:N_K,1:2] >= 0); # (one for each control vector)\n",
    "@variable(model, r[1:N_K,1:4] >= 0); # (one for each state variable)"
   ]
  },
  {
   "cell_type": "code",
   "execution_count": 83,
   "metadata": {},
   "outputs": [],
   "source": [
    "@constraint(model, cobj[k=2:N, i=1:Nobj],\n",
    "   sum(z[k,j] for j in obj[i]) == length(obj[i])-1); # Obstacles"
   ]
  },
  {
   "cell_type": "code",
   "execution_count": 84,
   "metadata": {},
   "outputs": [],
   "source": [
    "#[get_cone(k,i) for i=1:k-2]"
   ]
  },
  {
   "cell_type": "code",
   "execution_count": 85,
   "metadata": {},
   "outputs": [],
   "source": [
    "#k = 4\n",
    "#i = 1; #to k-2"
   ]
  },
  {
   "cell_type": "code",
   "execution_count": 86,
   "metadata": {},
   "outputs": [],
   "source": [
    "#[(j,i) for j=(i+1):(k-1)]"
   ]
  },
  {
   "cell_type": "markdown",
   "metadata": {},
   "source": [
    "## Obstacle free path"
   ]
  },
  {
   "cell_type": "code",
   "execution_count": 87,
   "metadata": {},
   "outputs": [],
   "source": [
    "# Time step k=2\n",
    "@constraint(model, (P*Q*Ai(2)*x0+P*Q*B*α[:,2]\n",
    "        +ρ*mapslices(norm, P*Q*Bw, dims=2)[:]) .<= q+M*z[2,:]);\n",
    "# All time steps after:\n",
    "@constraint(model, [k=3:N], (P*Q*Ai(k)*x0+sum(P*Q*Ai(k-i)*B*α[:,i] for i=1:k-1)\n",
    "        +sum(ρ*t[get_cone(k,i),:] for i=1:k-2)\n",
    "        +ρ*mapslices(norm, P*Q*Bw, dims=2)[:]) .<= q+M*z[k,:]);"
   ]
  },
  {
   "cell_type": "markdown",
   "metadata": {},
   "source": [
    "### Maximum control"
   ]
  },
  {
   "cell_type": "code",
   "execution_count": 88,
   "metadata": {},
   "outputs": [],
   "source": [
    "@constraint(model, α[:,2] .<= au[:,2])\n",
    "@constraint(model, -au[:,2] .<= α[:,2])\n",
    "@constraint(model, [k=3:N-1], α[:,k]+ρ*sum(s[get_cone(k,i),:] for i=1:k-2) .<= au[:,k])\n",
    "@constraint(model, [k=3:N-1], -au[:,k] .<= α[:,k]+ρ*sum(s[get_cone(k,i),:] for i=1:k-2));"
   ]
  },
  {
   "cell_type": "markdown",
   "metadata": {},
   "source": [
    "### Goals"
   ]
  },
  {
   "cell_type": "code",
   "execution_count": 89,
   "metadata": {},
   "outputs": [],
   "source": [
    "@constraint(model, (Ai(N)*x0+sum(Ai(N-i)*B*α[:,i] for i=1:N-1)\n",
    "        +sum(ρ*r[get_cone(N,i),:] for i=1:N-2)\n",
    "        +ρ*mapslices(norm, Bw, dims=2)[:]) .<= xN+ϵ);\n",
    "@constraint(model, (Ai(N)*x0+sum(Ai(N-i)*B*α[:,i] for i=1:N-1)\n",
    "        +sum(ρ*r[get_cone(N,i),:] for i=1:N-2)\n",
    "        +ρ*mapslices(norm, Bw, dims=2)[:]) .>= xN-ϵ);"
   ]
  },
  {
   "cell_type": "markdown",
   "metadata": {},
   "source": [
    "## Second order constraints"
   ]
  },
  {
   "cell_type": "markdown",
   "metadata": {},
   "source": [
    "### 1) Obstacles"
   ]
  },
  {
   "cell_type": "code",
   "execution_count": 90,
   "metadata": {},
   "outputs": [],
   "source": [
    "@constraint(model, obs[k=3:N,i=1:(k-2),l=1:m], vcat(t[get_cone(k,i),l], (P*Q*Ai(k-i)*Bw)[l,:]+sum(\n",
    "            (P*Q*Ai(k-j)*B*K[get_cone(j,i),:,:])[l,:] for j=(i+1):(k-1))) in SecondOrderCone());"
   ]
  },
  {
   "cell_type": "markdown",
   "metadata": {},
   "source": [
    "### 2) Control"
   ]
  },
  {
   "cell_type": "code",
   "execution_count": 91,
   "metadata": {},
   "outputs": [],
   "source": [
    "@constraint(model, [k=3:N-1,i=1:(k-2),l=1:2], vcat(s[get_cone(k,i),l], sum(\n",
    "            K[get_cone(j,i),l,:] for j=(i+1):(k-1))) in SecondOrderCone());"
   ]
  },
  {
   "cell_type": "markdown",
   "metadata": {},
   "source": [
    "### 3) Goals"
   ]
  },
  {
   "cell_type": "code",
   "execution_count": 92,
   "metadata": {},
   "outputs": [],
   "source": [
    "@constraint(model, [k=3:N,i=1:(k-2),l=1:4], vcat(r[get_cone(k,i),l], (Ai(k-i)*Bw)[l,:]+sum(\n",
    "            (Ai(k-j)*B*K[get_cone(j,i),:,:])[l,:] for j=(i+1):(k-1))) in SecondOrderCone());"
   ]
  },
  {
   "cell_type": "markdown",
   "metadata": {},
   "source": [
    "### Objective"
   ]
  },
  {
   "cell_type": "code",
   "execution_count": 93,
   "metadata": {},
   "outputs": [],
   "source": [
    "@objective(model, Min, sum(au));"
   ]
  },
  {
   "cell_type": "markdown",
   "metadata": {},
   "source": [
    "## Optimize"
   ]
  },
  {
   "cell_type": "code",
   "execution_count": 94,
   "metadata": {},
   "outputs": [
    {
     "name": "stdout",
     "output_type": "stream",
     "text": [
      "Gurobi Optimizer version 9.0.1 build v9.0.1rc0 (win64)\n",
      "Optimize a model with 654 rows, 1080 columns and 2216 nonzeros\n",
      "Model fingerprint: 0x3dec7430\n",
      "Model has 210 quadratic constraints\n",
      "Variable types: 1062 continuous, 18 integer (18 binary)\n",
      "Coefficient statistics:\n",
      "  Matrix range     [1e-02, 1e+03]\n",
      "  QMatrix range    [1e+00, 1e+00]\n",
      "  Objective range  [1e+00, 1e+00]\n",
      "  Bounds range     [0e+00, 0e+00]\n",
      "  RHS range        [1e-02, 1e+00]\n",
      "Presolve removed 447 rows and 600 columns\n",
      "Presolve time: 0.02s\n",
      "Presolved: 795 rows, 1068 columns, 2052 nonzeros\n",
      "Presolved model has 196 quadratic constraint(s)\n",
      "Variable types: 1060 continuous, 8 integer (8 binary)\n",
      "Presolve removed 431 rows and 430 columns\n",
      "Presolve time: 0.03s\n",
      "Presolved: 364 rows, 639 columns, 1194 nonzeros\n",
      "Presolved model has 196 second-order cone constraints\n",
      "Root barrier log...\n",
      "\n",
      "Ordering time: 0.00s\n",
      "\n",
      "Barrier statistics:\n",
      " Free vars  : 26\n",
      " AA' NZ     : 5.535e+03\n",
      " Factor NZ  : 8.040e+03\n",
      " Factor Ops : 2.551e+05 (less than 1 second per iteration)\n",
      " Threads    : 1\n",
      "\n",
      "                  Objective                Residual\n",
      "Iter       Primal          Dual         Primal    Dual     Compl     Time\n",
      "   0   1.62106959e+04 -1.50602520e+02  1.42e+03 1.00e-01  4.86e+01     0s\n",
      "   1   1.13050706e+03 -8.02091978e+01  5.12e+01 1.21e-02  4.05e+00     0s\n",
      "   2   3.78338390e+01 -2.14003116e+01  1.63e+00 6.19e-04  1.96e-01     0s\n",
      "   3   1.31067102e+00 -1.27572973e-01  5.47e-02 2.20e-05  2.34e-03     0s\n",
      "   4   5.81706288e-03 -6.04739365e-03  1.52e-04 2.03e-06  2.77e-05     0s\n",
      "   5   9.44491021e-06 -1.39320293e-05  1.07e-07 2.90e-09  4.60e-08     0s\n",
      "   6   1.33447909e-08 -2.68550199e-08  6.24e-08 5.65e-12  9.62e-11     0s\n",
      "\n",
      "Barrier solved model in 6 iterations and 0.04 seconds\n",
      "Optimal objective 1.33447909e-08\n",
      "\n",
      "Solving KKT system to obtain QCP duals...\n",
      "\n",
      "\n",
      "\n",
      "Root relaxation: objective 1.334479e-08, 0 iterations, 0.06 seconds\n",
      "\n",
      "    Nodes    |    Current Node    |     Objective Bounds      |     Work\n",
      " Expl Unexpl |  Obj  Depth IntInf | Incumbent    BestBd   Gap | It/Node Time\n",
      "\n",
      "     0     0    0.00000    0    7          -    0.00000      -     -    0s\n",
      "H    0     0                       0.0000000    0.00000  0.00%     -    0s\n",
      "\n",
      "Explored 1 nodes (0 simplex iterations) in 0.08 seconds\n",
      "Thread count was 4 (of 4 available processors)\n",
      "\n",
      "Solution count 1: 1.33448e-08 \n",
      "\n",
      "Optimal solution found (tolerance 1.00e-04)\n",
      "Best objective 1.334479088346e-08, best bound 1.334479088346e-08, gap 0.0000%\n"
     ]
    }
   ],
   "source": [
    "optimize!(model)"
   ]
  },
  {
   "cell_type": "code",
   "execution_count": 95,
   "metadata": {},
   "outputs": [
    {
     "data": {
      "text/plain": [
       "2-element Array{Float64,1}:\n",
       " 6.819090585248603e-10\n",
       " 6.33089496059369e-10"
      ]
     },
     "execution_count": 95,
     "metadata": {},
     "output_type": "execute_result"
    }
   ],
   "source": [
    "value.(au)[:,3]"
   ]
  },
  {
   "cell_type": "code",
   "execution_count": 96,
   "metadata": {},
   "outputs": [
    {
     "data": {
      "text/plain": [
       "2-element Array{Float64,1}:\n",
       " -58.02877187437561\n",
       " -59.48852902036953"
      ]
     },
     "execution_count": 96,
     "metadata": {},
     "output_type": "execute_result"
    }
   ],
   "source": [
    "value.(α)[:,3]"
   ]
  },
  {
   "cell_type": "code",
   "execution_count": 98,
   "metadata": {},
   "outputs": [
    {
     "data": {
      "text/plain": [
       "3"
      ]
     },
     "execution_count": 98,
     "metadata": {},
     "output_type": "execute_result"
    }
   ],
   "source": [
    "k=3"
   ]
  },
  {
   "cell_type": "code",
   "execution_count": 102,
   "metadata": {},
   "outputs": [
    {
     "data": {
      "text/plain": [
       "2-element Array{Float64,1}:\n",
       " 58.02877187478016\n",
       " 59.48852902081974"
      ]
     },
     "execution_count": 102,
     "metadata": {},
     "output_type": "execute_result"
    }
   ],
   "source": [
    "ρ*sum(value.(s)[get_cone(k,i),:] for i=1:k-2)"
   ]
  },
  {
   "cell_type": "code",
   "execution_count": 64,
   "metadata": {},
   "outputs": [
    {
     "data": {
      "text/plain": [
       "getx (generic function with 2 methods)"
      ]
     },
     "execution_count": 64,
     "metadata": {},
     "output_type": "execute_result"
    }
   ],
   "source": [
    "function getx(α, r)\n",
    "    x = zeros(4,N)\n",
    "    x[:,1] = x0\n",
    "    x[:,2] = Ai(2)*x0+ρ*mapslices(norm, Bw, dims=2)[:]\n",
    "    for k=3:N\n",
    "         x[:,k] = (Ai(k)*x0+sum(Ai(k-i)*B*α[:,i] for i=1:k-1)\n",
    "                    +sum(ρ*r[get_cone(k,i),:] for i=1:k-2)\n",
    "                    +ρ*mapslices(norm, Bw, dims=2)[:])\n",
    "    end\n",
    "    return x\n",
    "end"
   ]
  },
  {
   "cell_type": "code",
   "execution_count": 66,
   "metadata": {},
   "outputs": [],
   "source": [
    "x = getx(value.(α), value.(r));"
   ]
  },
  {
   "cell_type": "code",
   "execution_count": 75,
   "metadata": {},
   "outputs": [
    {
     "data": {
      "text/plain": [
       "2×9 Array{Float64,2}:\n",
       " -2608.12  2.43559e-7  -58.0288  …  -228.887  -286.016  -343.715  0.0\n",
       " -5177.64  3.09961e-9  -59.4885     -231.836  -288.018  -343.463  0.0"
      ]
     },
     "execution_count": 75,
     "metadata": {},
     "output_type": "execute_result"
    }
   ],
   "source": [
    "value.(α)"
   ]
  },
  {
   "cell_type": "code",
   "execution_count": 67,
   "metadata": {},
   "outputs": [],
   "source": [
    "xs = x[1,:]\n",
    "ys = x[3,:];"
   ]
  },
  {
   "cell_type": "code",
   "execution_count": 68,
   "metadata": {},
   "outputs": [
    {
     "data": {
      "text/plain": [
       "rectangle (generic function with 1 method)"
      ]
     },
     "execution_count": 68,
     "metadata": {},
     "output_type": "execute_result"
    }
   ],
   "source": [
    "rectangle(w, h, x, y) = Shape(ones(4)*x + [0,w,w,0], ones(4)*y + [0,0,h,h])"
   ]
  },
  {
   "cell_type": "code",
   "execution_count": 69,
   "metadata": {},
   "outputs": [
    {
     "data": {
      "image/svg+xml": [
       "<?xml version=\"1.0\" encoding=\"utf-8\"?>\n",
       "<svg xmlns=\"http://www.w3.org/2000/svg\" xmlns:xlink=\"http://www.w3.org/1999/xlink\" width=\"600\" height=\"400\" viewBox=\"0 0 2400 1600\">\n",
       "<defs>\n",
       "  <clipPath id=\"clip2400\">\n",
       "    <rect x=\"0\" y=\"0\" width=\"2400\" height=\"1600\"/>\n",
       "  </clipPath>\n",
       "</defs>\n",
       "<path clip-path=\"url(#clip2400)\" d=\"\n",
       "M0 1600 L2400 1600 L2400 0 L0 0  Z\n",
       "  \" fill=\"#ffffff\" fill-rule=\"evenodd\" fill-opacity=\"1\"/>\n",
       "<defs>\n",
       "  <clipPath id=\"clip2401\">\n",
       "    <rect x=\"480\" y=\"0\" width=\"1681\" height=\"1600\"/>\n",
       "  </clipPath>\n",
       "</defs>\n",
       "<path clip-path=\"url(#clip2400)\" d=\"\n",
       "M153.983 1486.45 L2352.76 1486.45 L2352.76 47.2441 L153.983 47.2441  Z\n",
       "  \" fill=\"#ffffff\" fill-rule=\"evenodd\" fill-opacity=\"1\"/>\n",
       "<defs>\n",
       "  <clipPath id=\"clip2402\">\n",
       "    <rect x=\"153\" y=\"47\" width=\"2200\" height=\"1440\"/>\n",
       "  </clipPath>\n",
       "</defs>\n",
       "<polyline clip-path=\"url(#clip2402)\" style=\"stroke:#000000; stroke-width:2; stroke-opacity:0.1; fill:none\" points=\"\n",
       "  468.646,1486.45 468.646,47.2441 \n",
       "  \"/>\n",
       "<polyline clip-path=\"url(#clip2402)\" style=\"stroke:#000000; stroke-width:2; stroke-opacity:0.1; fill:none\" points=\"\n",
       "  952.604,1486.45 952.604,47.2441 \n",
       "  \"/>\n",
       "<polyline clip-path=\"url(#clip2402)\" style=\"stroke:#000000; stroke-width:2; stroke-opacity:0.1; fill:none\" points=\"\n",
       "  1436.56,1486.45 1436.56,47.2441 \n",
       "  \"/>\n",
       "<polyline clip-path=\"url(#clip2402)\" style=\"stroke:#000000; stroke-width:2; stroke-opacity:0.1; fill:none\" points=\"\n",
       "  1920.52,1486.45 1920.52,47.2441 \n",
       "  \"/>\n",
       "<polyline clip-path=\"url(#clip2402)\" style=\"stroke:#000000; stroke-width:2; stroke-opacity:0.1; fill:none\" points=\"\n",
       "  153.983,1258.97 2352.76,1258.97 \n",
       "  \"/>\n",
       "<polyline clip-path=\"url(#clip2402)\" style=\"stroke:#000000; stroke-width:2; stroke-opacity:0.1; fill:none\" points=\"\n",
       "  153.983,941.784 2352.76,941.784 \n",
       "  \"/>\n",
       "<polyline clip-path=\"url(#clip2402)\" style=\"stroke:#000000; stroke-width:2; stroke-opacity:0.1; fill:none\" points=\"\n",
       "  153.983,624.6 2352.76,624.6 \n",
       "  \"/>\n",
       "<polyline clip-path=\"url(#clip2402)\" style=\"stroke:#000000; stroke-width:2; stroke-opacity:0.1; fill:none\" points=\"\n",
       "  153.983,307.416 2352.76,307.416 \n",
       "  \"/>\n",
       "<polyline clip-path=\"url(#clip2400)\" style=\"stroke:#000000; stroke-width:4; stroke-opacity:1; fill:none\" points=\"\n",
       "  153.983,1486.45 2352.76,1486.45 \n",
       "  \"/>\n",
       "<polyline clip-path=\"url(#clip2400)\" style=\"stroke:#000000; stroke-width:4; stroke-opacity:1; fill:none\" points=\"\n",
       "  153.983,1486.45 153.983,47.2441 \n",
       "  \"/>\n",
       "<polyline clip-path=\"url(#clip2400)\" style=\"stroke:#000000; stroke-width:4; stroke-opacity:1; fill:none\" points=\"\n",
       "  468.646,1486.45 468.646,1469.18 \n",
       "  \"/>\n",
       "<polyline clip-path=\"url(#clip2400)\" style=\"stroke:#000000; stroke-width:4; stroke-opacity:1; fill:none\" points=\"\n",
       "  952.604,1486.45 952.604,1469.18 \n",
       "  \"/>\n",
       "<polyline clip-path=\"url(#clip2400)\" style=\"stroke:#000000; stroke-width:4; stroke-opacity:1; fill:none\" points=\"\n",
       "  1436.56,1486.45 1436.56,1469.18 \n",
       "  \"/>\n",
       "<polyline clip-path=\"url(#clip2400)\" style=\"stroke:#000000; stroke-width:4; stroke-opacity:1; fill:none\" points=\"\n",
       "  1920.52,1486.45 1920.52,1469.18 \n",
       "  \"/>\n",
       "<polyline clip-path=\"url(#clip2400)\" style=\"stroke:#000000; stroke-width:4; stroke-opacity:1; fill:none\" points=\"\n",
       "  153.983,1258.97 180.368,1258.97 \n",
       "  \"/>\n",
       "<polyline clip-path=\"url(#clip2400)\" style=\"stroke:#000000; stroke-width:4; stroke-opacity:1; fill:none\" points=\"\n",
       "  153.983,941.784 180.368,941.784 \n",
       "  \"/>\n",
       "<polyline clip-path=\"url(#clip2400)\" style=\"stroke:#000000; stroke-width:4; stroke-opacity:1; fill:none\" points=\"\n",
       "  153.983,624.6 180.368,624.6 \n",
       "  \"/>\n",
       "<polyline clip-path=\"url(#clip2400)\" style=\"stroke:#000000; stroke-width:4; stroke-opacity:1; fill:none\" points=\"\n",
       "  153.983,307.416 180.368,307.416 \n",
       "  \"/>\n",
       "<path clip-path=\"url(#clip2400)\" d=\"M 0 0 M468.646 1508.44 Q465.035 1508.44 463.206 1512 Q461.401 1515.55 461.401 1522.67 Q461.401 1529.78 463.206 1533.35 Q465.035 1536.89 468.646 1536.89 Q472.28 1536.89 474.086 1533.35 Q475.915 1529.78 475.915 1522.67 Q475.915 1515.55 474.086 1512 Q472.28 1508.44 468.646 1508.44 M468.646 1504.73 Q474.456 1504.73 477.512 1509.34 Q480.59 1513.92 480.59 1522.67 Q480.59 1531.4 477.512 1536.01 Q474.456 1540.59 468.646 1540.59 Q462.836 1540.59 459.757 1536.01 Q456.702 1531.4 456.702 1522.67 Q456.702 1513.92 459.757 1509.34 Q462.836 1504.73 468.646 1504.73 Z\" fill=\"#000000\" fill-rule=\"evenodd\" fill-opacity=\"1\" /><path clip-path=\"url(#clip2400)\" d=\"M 0 0 M929.375 1505.36 L947.731 1505.36 L947.731 1509.3 L933.657 1509.3 L933.657 1517.77 Q934.676 1517.42 935.694 1517.26 Q936.713 1517.07 937.731 1517.07 Q943.518 1517.07 946.898 1520.24 Q950.278 1523.42 950.278 1528.83 Q950.278 1534.41 946.805 1537.51 Q943.333 1540.59 937.014 1540.59 Q934.838 1540.59 932.569 1540.22 Q930.324 1539.85 927.917 1539.11 L927.917 1534.41 Q930 1535.54 932.222 1536.1 Q934.444 1536.66 936.921 1536.66 Q940.926 1536.66 943.264 1534.55 Q945.602 1532.44 945.602 1528.83 Q945.602 1525.22 943.264 1523.11 Q940.926 1521.01 936.921 1521.01 Q935.046 1521.01 933.171 1521.42 Q931.319 1521.84 929.375 1522.72 L929.375 1505.36 Z\" fill=\"#000000\" fill-rule=\"evenodd\" fill-opacity=\"1\" /><path clip-path=\"url(#clip2400)\" d=\"M 0 0 M965.347 1508.44 Q961.736 1508.44 959.907 1512 Q958.102 1515.55 958.102 1522.67 Q958.102 1529.78 959.907 1533.35 Q961.736 1536.89 965.347 1536.89 Q968.981 1536.89 970.787 1533.35 Q972.615 1529.78 972.615 1522.67 Q972.615 1515.55 970.787 1512 Q968.981 1508.44 965.347 1508.44 M965.347 1504.73 Q971.157 1504.73 974.213 1509.34 Q977.291 1513.92 977.291 1522.67 Q977.291 1531.4 974.213 1536.01 Q971.157 1540.59 965.347 1540.59 Q959.537 1540.59 956.458 1536.01 Q953.403 1531.4 953.403 1522.67 Q953.403 1513.92 956.458 1509.34 Q959.537 1504.73 965.347 1504.73 Z\" fill=\"#000000\" fill-rule=\"evenodd\" fill-opacity=\"1\" /><path clip-path=\"url(#clip2400)\" d=\"M 0 0 M1399.93 1535.98 L1407.57 1535.98 L1407.57 1509.62 L1399.26 1511.29 L1399.26 1507.03 L1407.52 1505.36 L1412.2 1505.36 L1412.2 1535.98 L1419.84 1535.98 L1419.84 1539.92 L1399.93 1539.92 L1399.93 1535.98 Z\" fill=\"#000000\" fill-rule=\"evenodd\" fill-opacity=\"1\" /><path clip-path=\"url(#clip2400)\" d=\"M 0 0 M1434.91 1508.44 Q1431.3 1508.44 1429.47 1512 Q1427.66 1515.55 1427.66 1522.67 Q1427.66 1529.78 1429.47 1533.35 Q1431.3 1536.89 1434.91 1536.89 Q1438.54 1536.89 1440.35 1533.35 Q1442.18 1529.78 1442.18 1522.67 Q1442.18 1515.55 1440.35 1512 Q1438.54 1508.44 1434.91 1508.44 M1434.91 1504.73 Q1440.72 1504.73 1443.77 1509.34 Q1446.85 1513.92 1446.85 1522.67 Q1446.85 1531.4 1443.77 1536.01 Q1440.72 1540.59 1434.91 1540.59 Q1429.1 1540.59 1426.02 1536.01 Q1422.96 1531.4 1422.96 1522.67 Q1422.96 1513.92 1426.02 1509.34 Q1429.1 1504.73 1434.91 1504.73 Z\" fill=\"#000000\" fill-rule=\"evenodd\" fill-opacity=\"1\" /><path clip-path=\"url(#clip2400)\" d=\"M 0 0 M1461.92 1508.44 Q1458.31 1508.44 1456.48 1512 Q1454.68 1515.55 1454.68 1522.67 Q1454.68 1529.78 1456.48 1533.35 Q1458.31 1536.89 1461.92 1536.89 Q1465.55 1536.89 1467.36 1533.35 Q1469.19 1529.78 1469.19 1522.67 Q1469.19 1515.55 1467.36 1512 Q1465.55 1508.44 1461.92 1508.44 M1461.92 1504.73 Q1467.73 1504.73 1470.79 1509.34 Q1473.86 1513.92 1473.86 1522.67 Q1473.86 1531.4 1470.79 1536.01 Q1467.73 1540.59 1461.92 1540.59 Q1456.11 1540.59 1453.03 1536.01 Q1449.98 1531.4 1449.98 1522.67 Q1449.98 1513.92 1453.03 1509.34 Q1456.11 1504.73 1461.92 1504.73 Z\" fill=\"#000000\" fill-rule=\"evenodd\" fill-opacity=\"1\" /><path clip-path=\"url(#clip2400)\" d=\"M 0 0 M1884.39 1535.98 L1892.02 1535.98 L1892.02 1509.62 L1883.71 1511.29 L1883.71 1507.03 L1891.98 1505.36 L1896.65 1505.36 L1896.65 1535.98 L1904.29 1535.98 L1904.29 1539.92 L1884.39 1539.92 L1884.39 1535.98 Z\" fill=\"#000000\" fill-rule=\"evenodd\" fill-opacity=\"1\" /><path clip-path=\"url(#clip2400)\" d=\"M 0 0 M1909.41 1505.36 L1927.77 1505.36 L1927.77 1509.3 L1913.69 1509.3 L1913.69 1517.77 Q1914.71 1517.42 1915.73 1517.26 Q1916.75 1517.07 1917.77 1517.07 Q1923.55 1517.07 1926.93 1520.24 Q1930.31 1523.42 1930.31 1528.83 Q1930.31 1534.41 1926.84 1537.51 Q1923.37 1540.59 1917.05 1540.59 Q1914.87 1540.59 1912.6 1540.22 Q1910.36 1539.85 1907.95 1539.11 L1907.95 1534.41 Q1910.03 1535.54 1912.26 1536.1 Q1914.48 1536.66 1916.96 1536.66 Q1920.96 1536.66 1923.3 1534.55 Q1925.64 1532.44 1925.64 1528.83 Q1925.64 1525.22 1923.3 1523.11 Q1920.96 1521.01 1916.96 1521.01 Q1915.08 1521.01 1913.21 1521.42 Q1911.35 1521.84 1909.41 1522.72 L1909.41 1505.36 Z\" fill=\"#000000\" fill-rule=\"evenodd\" fill-opacity=\"1\" /><path clip-path=\"url(#clip2400)\" d=\"M 0 0 M1945.38 1508.44 Q1941.77 1508.44 1939.94 1512 Q1938.14 1515.55 1938.14 1522.67 Q1938.14 1529.78 1939.94 1533.35 Q1941.77 1536.89 1945.38 1536.89 Q1949.02 1536.89 1950.82 1533.35 Q1952.65 1529.78 1952.65 1522.67 Q1952.65 1515.55 1950.82 1512 Q1949.02 1508.44 1945.38 1508.44 M1945.38 1504.73 Q1951.19 1504.73 1954.25 1509.34 Q1957.33 1513.92 1957.33 1522.67 Q1957.33 1531.4 1954.25 1536.01 Q1951.19 1540.59 1945.38 1540.59 Q1939.57 1540.59 1936.49 1536.01 Q1933.44 1531.4 1933.44 1522.67 Q1933.44 1513.92 1936.49 1509.34 Q1939.57 1504.73 1945.38 1504.73 Z\" fill=\"#000000\" fill-rule=\"evenodd\" fill-opacity=\"1\" /><path clip-path=\"url(#clip2400)\" d=\"M 0 0 M62.9921 1261.36 L75.4689 1261.36 L75.4689 1265.16 L62.9921 1265.16 L62.9921 1261.36 Z\" fill=\"#000000\" fill-rule=\"evenodd\" fill-opacity=\"1\" /><path clip-path=\"url(#clip2400)\" d=\"M 0 0 M93.3855 1245.76 L81.58 1264.21 L93.3855 1264.21 L93.3855 1245.76 M92.1586 1241.69 L98.0382 1241.69 L98.0382 1264.21 L102.969 1264.21 L102.969 1268.1 L98.0382 1268.1 L98.0382 1276.25 L93.3855 1276.25 L93.3855 1268.1 L77.7837 1268.1 L77.7837 1263.59 L92.1586 1241.69 Z\" fill=\"#000000\" fill-rule=\"evenodd\" fill-opacity=\"1\" /><path clip-path=\"url(#clip2400)\" d=\"M 0 0 M118.038 1244.77 Q114.427 1244.77 112.598 1248.33 Q110.793 1251.87 110.793 1259 Q110.793 1266.11 112.598 1269.67 Q114.427 1273.22 118.038 1273.22 Q121.672 1273.22 123.478 1269.67 Q125.307 1266.11 125.307 1259 Q125.307 1251.87 123.478 1248.33 Q121.672 1244.77 118.038 1244.77 M118.038 1241.06 Q123.848 1241.06 126.904 1245.67 Q129.983 1250.25 129.983 1259 Q129.983 1267.73 126.904 1272.34 Q123.848 1276.92 118.038 1276.92 Q112.228 1276.92 109.149 1272.34 Q106.094 1267.73 106.094 1259 Q106.094 1250.25 109.149 1245.67 Q112.228 1241.06 118.038 1241.06 Z\" fill=\"#000000\" fill-rule=\"evenodd\" fill-opacity=\"1\" /><path clip-path=\"url(#clip2400)\" d=\"M 0 0 M65.0754 944.18 L77.5522 944.18 L77.5522 947.976 L65.0754 947.976 L65.0754 944.18 Z\" fill=\"#000000\" fill-rule=\"evenodd\" fill-opacity=\"1\" /><path clip-path=\"url(#clip2400)\" d=\"M 0 0 M86.6494 955.129 L102.969 955.129 L102.969 959.064 L81.0244 959.064 L81.0244 955.129 Q83.6865 952.374 88.2698 947.744 Q92.8762 943.092 94.0568 941.749 Q96.3021 939.226 97.1818 937.49 Q98.0845 935.731 98.0845 934.041 Q98.0845 931.286 96.1401 929.55 Q94.2188 927.814 91.117 927.814 Q88.9179 927.814 86.4642 928.578 Q84.0337 929.342 81.2559 930.893 L81.2559 926.171 Q84.08 925.036 86.5337 924.458 Q88.9874 923.879 91.0244 923.879 Q96.3947 923.879 99.5892 926.564 Q102.784 929.249 102.784 933.74 Q102.784 935.87 101.973 937.791 Q101.186 939.689 99.0799 942.282 Q98.5012 942.953 95.3994 946.17 Q92.2975 949.365 86.6494 955.129 Z\" fill=\"#000000\" fill-rule=\"evenodd\" fill-opacity=\"1\" /><path clip-path=\"url(#clip2400)\" d=\"M 0 0 M118.038 927.583 Q114.427 927.583 112.598 931.147 Q110.793 934.689 110.793 941.819 Q110.793 948.925 112.598 952.49 Q114.427 956.031 118.038 956.031 Q121.672 956.031 123.478 952.49 Q125.307 948.925 125.307 941.819 Q125.307 934.689 123.478 931.147 Q121.672 927.583 118.038 927.583 M118.038 923.879 Q123.848 923.879 126.904 928.485 Q129.983 933.069 129.983 941.819 Q129.983 950.545 126.904 955.152 Q123.848 959.735 118.038 959.735 Q112.228 959.735 109.149 955.152 Q106.094 950.545 106.094 941.819 Q106.094 933.069 109.149 928.485 Q112.228 923.879 118.038 923.879 Z\" fill=\"#000000\" fill-rule=\"evenodd\" fill-opacity=\"1\" /><path clip-path=\"url(#clip2400)\" d=\"M 0 0 M118.038 610.398 Q114.427 610.398 112.598 613.963 Q110.793 617.505 110.793 624.634 Q110.793 631.741 112.598 635.306 Q114.427 638.847 118.038 638.847 Q121.672 638.847 123.478 635.306 Q125.307 631.741 125.307 624.634 Q125.307 617.505 123.478 613.963 Q121.672 610.398 118.038 610.398 M118.038 606.695 Q123.848 606.695 126.904 611.301 Q129.983 615.885 129.983 624.634 Q129.983 633.361 126.904 637.968 Q123.848 642.551 118.038 642.551 Q112.228 642.551 109.149 637.968 Q106.094 633.361 106.094 624.634 Q106.094 615.885 109.149 611.301 Q112.228 606.695 118.038 606.695 Z\" fill=\"#000000\" fill-rule=\"evenodd\" fill-opacity=\"1\" /><path clip-path=\"url(#clip2400)\" d=\"M 0 0 M86.6494 320.761 L102.969 320.761 L102.969 324.696 L81.0244 324.696 L81.0244 320.761 Q83.6865 318.006 88.2698 313.376 Q92.8762 308.724 94.0568 307.381 Q96.3021 304.858 97.1818 303.122 Q98.0845 301.362 98.0845 299.673 Q98.0845 296.918 96.1401 295.182 Q94.2188 293.446 91.117 293.446 Q88.9179 293.446 86.4642 294.21 Q84.0337 294.974 81.2559 296.525 L81.2559 291.802 Q84.08 290.668 86.5337 290.089 Q88.9874 289.511 91.0244 289.511 Q96.3947 289.511 99.5892 292.196 Q102.784 294.881 102.784 299.372 Q102.784 301.501 101.973 303.423 Q101.186 305.321 99.0799 307.913 Q98.5012 308.585 95.3994 311.802 Q92.2975 314.997 86.6494 320.761 Z\" fill=\"#000000\" fill-rule=\"evenodd\" fill-opacity=\"1\" /><path clip-path=\"url(#clip2400)\" d=\"M 0 0 M118.038 293.214 Q114.427 293.214 112.598 296.779 Q110.793 300.321 110.793 307.45 Q110.793 314.557 112.598 318.122 Q114.427 321.663 118.038 321.663 Q121.672 321.663 123.478 318.122 Q125.307 314.557 125.307 307.45 Q125.307 300.321 123.478 296.779 Q121.672 293.214 118.038 293.214 M118.038 289.511 Q123.848 289.511 126.904 294.117 Q129.983 298.7 129.983 307.45 Q129.983 316.177 126.904 320.784 Q123.848 325.367 118.038 325.367 Q112.228 325.367 109.149 320.784 Q106.094 316.177 106.094 307.45 Q106.094 298.7 109.149 294.117 Q112.228 289.511 118.038 289.511 Z\" fill=\"#000000\" fill-rule=\"evenodd\" fill-opacity=\"1\" /><circle clip-path=\"url(#clip2402)\" cx=\"468.646\" cy=\"624.6\" r=\"14\" fill=\"#009af9\" fill-rule=\"evenodd\" fill-opacity=\"1\" stroke=\"#000000\" stroke-opacity=\"1\" stroke-width=\"3.2\"/>\n",
       "<circle clip-path=\"url(#clip2402)\" cx=\"468.646\" cy=\"624.6\" r=\"14\" fill=\"#009af9\" fill-rule=\"evenodd\" fill-opacity=\"1\" stroke=\"#000000\" stroke-opacity=\"1\" stroke-width=\"3.2\"/>\n",
       "<circle clip-path=\"url(#clip2402)\" cx=\"216.212\" cy=\"1445.72\" r=\"14\" fill=\"#009af9\" fill-rule=\"evenodd\" fill-opacity=\"1\" stroke=\"#000000\" stroke-opacity=\"1\" stroke-width=\"3.2\"/>\n",
       "<circle clip-path=\"url(#clip2402)\" cx=\"653.345\" cy=\"1136.98\" r=\"14\" fill=\"#009af9\" fill-rule=\"evenodd\" fill-opacity=\"1\" stroke=\"#000000\" stroke-opacity=\"1\" stroke-width=\"3.2\"/>\n",
       "<circle clip-path=\"url(#clip2402)\" cx=\"1084.86\" cy=\"837.686\" r=\"14\" fill=\"#009af9\" fill-rule=\"evenodd\" fill-opacity=\"1\" stroke=\"#000000\" stroke-opacity=\"1\" stroke-width=\"3.2\"/>\n",
       "<circle clip-path=\"url(#clip2402)\" cx=\"1505.23\" cy=\"557.026\" r=\"14\" fill=\"#009af9\" fill-rule=\"evenodd\" fill-opacity=\"1\" stroke=\"#000000\" stroke-opacity=\"1\" stroke-width=\"3.2\"/>\n",
       "<circle clip-path=\"url(#clip2402)\" cx=\"1908.96\" cy=\"304.118\" r=\"14\" fill=\"#009af9\" fill-rule=\"evenodd\" fill-opacity=\"1\" stroke=\"#000000\" stroke-opacity=\"1\" stroke-width=\"3.2\"/>\n",
       "<circle clip-path=\"url(#clip2402)\" cx=\"2290.53\" cy=\"87.9763\" r=\"14\" fill=\"#009af9\" fill-rule=\"evenodd\" fill-opacity=\"1\" stroke=\"#000000\" stroke-opacity=\"1\" stroke-width=\"3.2\"/>\n",
       "<circle clip-path=\"url(#clip2402)\" cx=\"468.937\" cy=\"624.043\" r=\"14\" fill=\"#009af9\" fill-rule=\"evenodd\" fill-opacity=\"1\" stroke=\"#000000\" stroke-opacity=\"1\" stroke-width=\"3.2\"/>\n",
       "<path clip-path=\"url(#clip2402)\" d=\"\n",
       "M468.791 624.6 L469.13 624.6 L469.13 624.124 L468.791 624.124 L468.791 624.6  Z\n",
       "  \" fill=\"#e26f46\" fill-rule=\"evenodd\" fill-opacity=\"0.5\"/>\n",
       "<polyline clip-path=\"url(#clip2402)\" style=\"stroke:#000000; stroke-width:4; stroke-opacity:0.5; fill:none\" points=\"\n",
       "  468.791,624.6 469.13,624.6 469.13,624.124 468.791,624.124 468.791,624.6 \n",
       "  \"/>\n",
       "<path clip-path=\"url(#clip2400)\" d=\"\n",
       "M1989.74 312.204 L2280.76 312.204 L2280.76 130.764 L1989.74 130.764  Z\n",
       "  \" fill=\"#ffffff\" fill-rule=\"evenodd\" fill-opacity=\"1\"/>\n",
       "<polyline clip-path=\"url(#clip2400)\" style=\"stroke:#000000; stroke-width:4; stroke-opacity:1; fill:none\" points=\"\n",
       "  1989.74,312.204 2280.76,312.204 2280.76,130.764 1989.74,130.764 1989.74,312.204 \n",
       "  \"/>\n",
       "<circle clip-path=\"url(#clip2400)\" cx=\"2097.74\" cy=\"191.244\" r=\"21\" fill=\"#009af9\" fill-rule=\"evenodd\" fill-opacity=\"1\" stroke=\"#000000\" stroke-opacity=\"1\" stroke-width=\"3.2\"/>\n",
       "<path clip-path=\"url(#clip2400)\" d=\"M 0 0 M2195.58 210.931 Q2193.77 215.561 2192.06 216.973 Q2190.35 218.385 2187.48 218.385 L2184.08 218.385 L2184.08 214.82 L2186.58 214.82 Q2188.33 214.82 2189.31 213.987 Q2190.28 213.154 2191.46 210.052 L2192.22 208.107 L2181.74 182.598 L2186.25 182.598 L2194.35 202.876 L2202.46 182.598 L2206.97 182.598 L2195.58 210.931 Z\" fill=\"#000000\" fill-rule=\"evenodd\" fill-opacity=\"1\" /><path clip-path=\"url(#clip2400)\" d=\"M 0 0 M2212.85 204.589 L2220.49 204.589 L2220.49 178.223 L2212.18 179.89 L2212.18 175.631 L2220.44 173.964 L2225.12 173.964 L2225.12 204.589 L2232.76 204.589 L2232.76 208.524 L2212.85 208.524 L2212.85 204.589 Z\" fill=\"#000000\" fill-rule=\"evenodd\" fill-opacity=\"1\" /><path clip-path=\"url(#clip2400)\" d=\"\n",
       "M2013.74 275.916 L2157.74 275.916 L2157.74 227.532 L2013.74 227.532 L2013.74 275.916  Z\n",
       "  \" fill=\"#e26f46\" fill-rule=\"evenodd\" fill-opacity=\"0.5\"/>\n",
       "<polyline clip-path=\"url(#clip2400)\" style=\"stroke:#000000; stroke-width:4; stroke-opacity:1; fill:none\" points=\"\n",
       "  2013.74,275.916 2157.74,275.916 2157.74,227.532 2013.74,227.532 2013.74,275.916 \n",
       "  \"/>\n",
       "<path clip-path=\"url(#clip2400)\" d=\"M 0 0 M2195.58 271.411 Q2193.77 276.041 2192.06 277.453 Q2190.35 278.865 2187.48 278.865 L2184.08 278.865 L2184.08 275.3 L2186.58 275.3 Q2188.33 275.3 2189.31 274.467 Q2190.28 273.634 2191.46 270.532 L2192.22 268.587 L2181.74 243.078 L2186.25 243.078 L2194.35 263.356 L2202.46 243.078 L2206.97 243.078 L2195.58 271.411 Z\" fill=\"#000000\" fill-rule=\"evenodd\" fill-opacity=\"1\" /><path clip-path=\"url(#clip2400)\" d=\"M 0 0 M2216.07 265.069 L2232.39 265.069 L2232.39 269.004 L2210.44 269.004 L2210.44 265.069 Q2213.1 262.314 2217.69 257.685 Q2222.29 253.032 2223.47 251.689 Q2225.72 249.166 2226.6 247.43 Q2227.5 245.671 2227.5 243.981 Q2227.5 241.226 2225.56 239.49 Q2223.64 237.754 2220.53 237.754 Q2218.33 237.754 2215.88 238.518 Q2213.45 239.282 2210.67 240.833 L2210.67 236.111 Q2213.5 234.976 2215.95 234.398 Q2218.4 233.819 2220.44 233.819 Q2225.81 233.819 2229.01 236.504 Q2232.2 239.189 2232.2 243.68 Q2232.2 245.81 2231.39 247.731 Q2230.6 249.629 2228.5 252.222 Q2227.92 252.893 2224.82 256.111 Q2221.71 259.305 2216.07 265.069 Z\" fill=\"#000000\" fill-rule=\"evenodd\" fill-opacity=\"1\" /></svg>\n"
      ]
     },
     "execution_count": 69,
     "metadata": {},
     "output_type": "execute_result"
    }
   ],
   "source": [
    "plot(xs, ys, seriestype = :scatter)\n",
    "#plot!(rectangle(0.035,0.03,0.015,0), opacity=.5)"
   ]
  },
  {
   "cell_type": "markdown",
   "metadata": {},
   "source": [
    "## Debug"
   ]
  },
  {
   "cell_type": "markdown",
   "metadata": {},
   "source": []
  },
  {
   "cell_type": "code",
   "execution_count": 190,
   "metadata": {},
   "outputs": [
    {
     "data": {
      "text/plain": [
       "2-element Array{Float64,1}:\n",
       " -0.1\n",
       "  0.0"
      ]
     },
     "execution_count": 190,
     "metadata": {},
     "output_type": "execute_result"
    }
   ],
   "source": [
    "(P*Q*ABw(k,i))[l,:]"
   ]
  },
  {
   "cell_type": "code",
   "execution_count": 187,
   "metadata": {},
   "outputs": [
    {
     "data": {
      "text/plain": [
       "2-element Array{GenericAffExpr{Float64,VariableRef},1}:\n",
       " -0.1 K[2,1,1]\n",
       " 0.1 K[2,1,2]"
      ]
     },
     "execution_count": 187,
     "metadata": {},
     "output_type": "execute_result"
    }
   ],
   "source": [
    "sum(P*Q*AB(k,i)*K[getK(j,i+1),:,:][l,:] for j=(i+1):(k-1))"
   ]
  },
  {
   "cell_type": "code",
   "execution_count": null,
   "metadata": {},
   "outputs": [],
   "source": [
    "@constraint(model, [k=2:N,i=0:(k-2)], vcat(s[k-2+i+1,l], sum(\n",
    "            B*K[getK(j,i+1),:,:] for j=(i+1):(k-1))) in SecondOrderCone());"
   ]
  },
  {
   "cell_type": "code",
   "execution_count": null,
   "metadata": {},
   "outputs": [],
   "source": [
    "@constraint(model, [k=3:N-1], (P*Q*Ai(k)*x0+sum(P*Q*ABki(k,i)*α[:,i] for i=1:k-1)\n",
    "        +sum(ρ*t[k-2+i+1,:] for i=0:k-2))"
   ]
  },
  {
   "cell_type": "code",
   "execution_count": 234,
   "metadata": {},
   "outputs": [],
   "source": [
    "@constraint(model, [k=2:N,i=0:(k-2)], vcat(s[k-2+i+1,l], sum(\n",
    "            B*K[getK(j,i+1),:,:] for j=(i+1):(k-1))) in SecondOrderCone());\n",
    "@constraint(model, [k=2:N,i=0:(k-2),l=1:2], vcat(t[k-2+i+1,l], cki(k,i)[l,:]+sum(\n",
    "            dki(k,j)*K[getK(j,i+1),:,:][l,:] for j=(i+1):(k-1))) in SecondOrderCone());\n",
    "@constraint(model, [k=2:N-1], (η(k)*x0+sum(cki(k,i)*α[:,i+1] for i=0:k-1)\n",
    "        +sum(ρ*t[k-2+i+1,:] for i=0:k-2)\n",
    "        +ρ*mapslices(norm, A1*C*Bw, dims=2)[:]) .<= b1+M*z[k,:]);\n",
    "@objective(model, Min, sum(au));"
   ]
  },
  {
   "cell_type": "code",
   "execution_count": 184,
   "metadata": {},
   "outputs": [
    {
     "data": {
      "text/plain": [
       "2-element Array{GenericAffExpr{Float64,VariableRef},1}:\n",
       " -0.1 K[1,1,1]\n",
       " -0.1 K[1,1,2]"
      ]
     },
     "execution_count": 184,
     "metadata": {},
     "output_type": "execute_result"
    }
   ],
   "source": [
    "j = 1\n",
    "(dki(k,j)*K[getK(j,i+1),:,:])[1,:]"
   ]
  },
  {
   "cell_type": "code",
   "execution_count": 185,
   "metadata": {},
   "outputs": [
    {
     "data": {
      "text/plain": [
       "2-element Array{GenericAffExpr{Float64,VariableRef},1}:\n",
       " -0.1 K[1,1,1] - 0.1\n",
       " -0.1 K[1,1,2]"
      ]
     },
     "execution_count": 185,
     "metadata": {},
     "output_type": "execute_result"
    }
   ],
   "source": [
    "cki(k,i)[1,:]+(dki(k,j)*K[getK(j,i+1),:,:])[1,:]"
   ]
  },
  {
   "cell_type": "code",
   "execution_count": 173,
   "metadata": {},
   "outputs": [
    {
     "data": {
      "text/plain": [
       "2-element Array{VariableRef,1}:\n",
       " K[1,1,1]\n",
       " K[1,2,1]"
      ]
     },
     "execution_count": 173,
     "metadata": {},
     "output_type": "execute_result"
    }
   ],
   "source": [
    "K[getK(j,i+1),:,1]"
   ]
  },
  {
   "cell_type": "code",
   "execution_count": 175,
   "metadata": {},
   "outputs": [
    {
     "data": {
      "text/latex": [
       "$$ -0.1 K_{1,1,1} $$"
      ],
      "text/plain": [
       "-0.1 K[1,1,1]"
      ]
     },
     "execution_count": 175,
     "metadata": {},
     "output_type": "execute_result"
    }
   ],
   "source": [
    "sum(dki(k,j)[1,:]*K[getK(j,i+1),:,:] for j=(i+1):(k-1))"
   ]
  },
  {
   "cell_type": "code",
   "execution_count": 192,
   "metadata": {},
   "outputs": [
    {
     "data": {
      "text/plain": [
       "3-element Array{GenericAffExpr{Float64,VariableRef},1}:\n",
       " t[2,1]\n",
       " -0.1 K[1,1,1] - 0.1\n",
       " 0.1 K[1,1,2]"
      ]
     },
     "execution_count": 192,
     "metadata": {},
     "output_type": "execute_result"
    }
   ],
   "source": [
    "k,i = (2,0)\n",
    "vcat(t[k,1], cki(k,i)[1,:]+sum(\n",
    "        dki(k,j)*K[getK(j,i+1),:,:][1,:] for j=(i+1):(k-1)))"
   ]
  },
  {
   "cell_type": "code",
   "execution_count": 223,
   "metadata": {},
   "outputs": [],
   "source": [
    "@constraint(model, [k=2:N,i=0:(k-2),l=1:2], vcat(t[k-2+i+1,l], cki(k,i)[l,:]+sum(\n",
    "            dki(k,j)*K[getK(j,i+1),:,:][l,:] for j=(i+1):(k-1))) in SecondOrderCone());"
   ]
  },
  {
   "cell_type": "code",
   "execution_count": 200,
   "metadata": {},
   "outputs": [
    {
     "data": {
      "text/plain": [
       "2×2 Array{Float64,2}:\n",
       " -0.1  0.0\n",
       "  0.0  0.1"
      ]
     },
     "execution_count": 200,
     "metadata": {},
     "output_type": "execute_result"
    }
   ],
   "source": [
    "cki(k,i)"
   ]
  },
  {
   "cell_type": "code",
   "execution_count": 243,
   "metadata": {},
   "outputs": [
    {
     "data": {
      "text/plain": [
       "2-element Array{Float64,1}:\n",
       " 0.0\n",
       " 0.0"
      ]
     },
     "execution_count": 243,
     "metadata": {},
     "output_type": "execute_result"
    }
   ],
   "source": [
    "η(k)*x0"
   ]
  },
  {
   "cell_type": "code",
   "execution_count": 246,
   "metadata": {},
   "outputs": [
    {
     "data": {
      "text/plain": [
       "2-element Array{GenericAffExpr{Float64,VariableRef},1}:\n",
       " -0.1 α[1,1] - 0.1 α[1,2] + 3 t[1,1]\n",
       " 0.1 α[2,1] + 0.1 α[2,2] + 3 t[1,2]"
      ]
     },
     "execution_count": 246,
     "metadata": {},
     "output_type": "execute_result"
    }
   ],
   "source": [
    "η(k)*x0+sum(cki(k,i)*α[:,i+1] for i=0:k-1)+sum(ρ*t[k-2+i+1,:] for i=0:k-2)"
   ]
  },
  {
   "cell_type": "code",
   "execution_count": 224,
   "metadata": {},
   "outputs": [
    {
     "data": {
      "text/plain": [
       "2-element Array{GenericAffExpr{Float64,VariableRef},1}:\n",
       " 3 t[1,1]\n",
       " 3 t[1,2]"
      ]
     },
     "execution_count": 224,
     "metadata": {},
     "output_type": "execute_result"
    }
   ],
   "source": [
    "sum(ρ*t[k-2+i+1,:] for i=0:k-2)"
   ]
  },
  {
   "cell_type": "code",
   "execution_count": 255,
   "metadata": {},
   "outputs": [
    {
     "data": {
      "text/plain": [
       "2-element Array{GenericAffExpr{Float64,VariableRef},1}:\n",
       " -0.1 α[1,1] - 0.1 α[1,2] + 3 t[1,1] + 0.30000000000000004\n",
       " 0.1 α[2,1] + 0.1 α[2,2] + 3 t[1,2] + 0.30000000000000004"
      ]
     },
     "execution_count": 255,
     "metadata": {},
     "output_type": "execute_result"
    }
   ],
   "source": [
    "(η(k)*x0+sum(cki(k,i)*α[:,i+1] for i=0:k-1)\n",
    "        +sum(ρ*t[k-2+i+1,:] for i=0:k-2)\n",
    "        +ρ*mapslices(norm, A1*C*Bw, dims=2)[:])"
   ]
  },
  {
   "cell_type": "code",
   "execution_count": 239,
   "metadata": {},
   "outputs": [
    {
     "data": {
      "text/plain": [
       "2-element Array{GenericAffExpr{Float64,VariableRef},1}:\n",
       " 1000 z[2,1] - 0.015\n",
       " 1000 z[2,2] + 0.03"
      ]
     },
     "execution_count": 239,
     "metadata": {},
     "output_type": "execute_result"
    }
   ],
   "source": [
    "b1+M*z[k,:]"
   ]
  },
  {
   "cell_type": "code",
   "execution_count": 257,
   "metadata": {},
   "outputs": [
    {
     "data": {
      "text/plain": [
       "1-dimensional DenseAxisArray{Array{ConstraintRef{Model,MathOptInterface.ConstraintIndex{MathOptInterface.ScalarAffineFunction{Float64},MathOptInterface.LessThan{Float64}},ScalarShape},1},1,...} with index sets:\n",
       "    Dimension 1, 2:8\n",
       "And data, a 7-element Array{Array{ConstraintRef{Model,MathOptInterface.ConstraintIndex{MathOptInterface.ScalarAffineFunction{Float64},MathOptInterface.LessThan{Float64}},ScalarShape},1},1}:\n",
       " [-0.1 α[1,1] - 0.1 α[1,2] + 3 t[1,1] - 1000 z[2,1] <= -0.31500000000000006, 0.1 α[2,1] + 0.1 α[2,2] + 3 t[1,2] - 1000 z[2,2] <= -0.27]\n",
       " [-0.1 α[1,1] - 0.1 α[1,2] - 0.1 α[1,3] + 3 t[2,1] + 3 t[3,1] - 1000 z[3,1] <= -0.31500000000000006, 0.1 α[2,1] + 0.1 α[2,2] + 0.1 α[2,3] + 3 t[2,2] + 3 t[3,2] - 1000 z[3,2] <= -0.27]\n",
       " [-0.1 α[1,1] - 0.1 α[1,2] - 0.1 α[1,3] - 0.1 α[1,4] + 3 t[3,1] + 3 t[4,1] + 3 t[5,1] - 1000 z[4,1] <= -0.31500000000000006, 0.1 α[2,1] + 0.1 α[2,2] + 0.1 α[2,3] + 0.1 α[2,4] + 3 t[3,2] + 3 t[4,2] + 3 t[5,2] - 1000 z[4,2] <= -0.27]\n",
       " [-0.1 α[1,1] - 0.1 α[1,2] - 0.1 α[1,3] - 0.1 α[1,4] - 0.1 α[1,5] + 3 t[4,1] + 3 t[5,1] + 3 t[6,1] + 3 t[7,1] - 1000 z[5,1] <= -0.31500000000000006, 0.1 α[2,1] + 0.1 α[2,2] + 0.1 α[2,3] + 0.1 α[2,4] + 0.1 α[2,5] + 3 t[4,2] + 3 t[5,2] + 3 t[6,2] + 3 t[7,2] - 1000 z[5,2] <= -0.27]\n",
       " [-0.1 α[1,1] - 0.1 α[1,2] - 0.1 α[1,3] - 0.1 α[1,4] - 0.1 α[1,5] - 0.1 α[1,6] + 3 t[5,1] + 3 t[6,1] + 3 t[7,1] + 3 t[8,1] + 3 t[9,1] - 1000 z[6,1] <= -0.31500000000000006, 0.1 α[2,1] + 0.1 α[2,2] + 0.1 α[2,3] + 0.1 α[2,4] + 0.1 α[2,5] + 0.1 α[2,6] + 3 t[5,2] + 3 t[6,2] + 3 t[7,2] + 3 t[8,2] + 3 t[9,2] - 1000 z[6,2] <= -0.27]\n",
       " [-0.1 α[1,1] - 0.1 α[1,2] - 0.1 α[1,3] - 0.1 α[1,4] - 0.1 α[1,5] - 0.1 α[1,6] - 0.1 α[1,7] + 3 t[6,1] + 3 t[7,1] + 3 t[8,1] + 3 t[9,1] + 3 t[10,1] + 3 t[11,1] - 1000 z[7,1] <= -0.31500000000000006, 0.1 α[2,1] + 0.1 α[2,2] + 0.1 α[2,3] + 0.1 α[2,4] + 0.1 α[2,5] + 0.1 α[2,6] + 0.1 α[2,7] + 3 t[6,2] + 3 t[7,2] + 3 t[8,2] + 3 t[9,2] + 3 t[10,2] + 3 t[11,2] - 1000 z[7,2] <= -0.27]\n",
       " [-0.1 α[1,1] - 0.1 α[1,2] - 0.1 α[1,3] - 0.1 α[1,4] - 0.1 α[1,5] - 0.1 α[1,6] - 0.1 α[1,7] - 0.1 α[1,8] + 3 t[7,1] + 3 t[8,1] + 3 t[9,1] + 3 t[10,1] + 3 t[11,1] + 3 t[12,1] + 3 t[13,1] - 1000 z[8,1] <= -0.31500000000000006, 0.1 α[2,1] + 0.1 α[2,2] + 0.1 α[2,3] + 0.1 α[2,4] + 0.1 α[2,5] + 0.1 α[2,6] + 0.1 α[2,7] + 0.1 α[2,8] + 3 t[7,2] + 3 t[8,2] + 3 t[9,2] + 3 t[10,2] + 3 t[11,2] + 3 t[12,2] + 3 t[13,2] - 1000 z[8,2] <= -0.27]"
      ]
     },
     "execution_count": 257,
     "metadata": {},
     "output_type": "execute_result"
    }
   ],
   "source": [
    "@constraint(model, [k=2:N-1], (η(k)*x0+sum(cki(k,i)*α[:,i+1] for i=0:k-1)\n",
    "        +sum(ρ*t[k-2+i+1,:] for i=0:k-2)\n",
    "        +ρ*mapslices(norm, A1*C*Bw, dims=2)[:]) .<= b1+M*z[k,:]);"
   ]
  },
  {
   "cell_type": "markdown",
   "metadata": {},
   "source": [
    "### Dual formulation"
   ]
  },
  {
   "cell_type": "code",
   "execution_count": 4,
   "metadata": {},
   "outputs": [],
   "source": [
    "model = Model(optimizer_with_attributes(\n",
    "        () -> Gurobi.Optimizer(GRB_ENV), #\"OutputFlag\" => 0\n",
    "    ));\n",
    "@variable(model, r1[1:2]>=0)\n",
    "@variable(model, r2[1:2]>=0)\n",
    "@variable(model, q[1:2, 1:N]>=0)\n",
    "@variable(model, p[1:2, 1:N]>=0)\n",
    "@variable(model, u[1:2, 1:N-1])\n",
    "@variable(model, au[1:2, 1:N-1] >=0)\n",
    "@variable(model, z[1:2, 1:N-1] >=0, Bin)\n",
    "@constraint(model, (dot(γ_1,r1)+dot(γ_2,r2)+dot(β,sum(q+p,dims=2)+\n",
    "        sum(-M*z+dki*u)))\n",
    "#@variable(model, g[1:N], Bin)\n",
    "#@variable(model, ag[1:4, 1:N] >= 0)\n",
    "@constraint(model, [k=1:N], A1*x[[1,3],k] -b1 + M*z[k,:] .>= 0 )\n",
    "@constraint(model, sum(z, dims=2) .== N1-1)\n",
    "@constraint(model, x[:,1] .== x0)\n",
    "@constraint(model, x[:,N] .== xN)\n",
    "@constraint(model, [k=1:N-1], x[:,k+1] .== A*x[:,k]+B*u[:,k])\n",
    "#@constraint(model, [k=1:N-1], y[:,k+1] .== C*x[:,k]) #sensor output\n",
    "@constraint(model, -au .<= u)\n",
    "@constraint(model, u .<= au)\n",
    "@constraint(model, au .<= 0.5)\n",
    "#@constraint(model, [k=1:N], -ag[:,k] .<= x[:, k] - xN)\n",
    "#@constraint(model, [k=1:N], x[:, k] - xN .<= ag[:,k])\n",
    "#@constraint(model, [k=1:N,i=1:4], -1000*g[k]+ag[i,k] .<= epsilon)\n",
    "#@constraint(model, -1 .<= x[[2,4],:] .<= 1) # velocity constraint\n",
    "#@objective(model, Min, sum(g));\n",
    "@objective(model, Min, sum(au));"
   ]
  },
  {
   "cell_type": "code",
   "execution_count": null,
   "metadata": {},
   "outputs": [],
   "source": []
  }
 ],
 "metadata": {
  "kernelspec": {
   "display_name": "Julia 1.4.1",
   "language": "julia",
   "name": "julia-1.4"
  },
  "language_info": {
   "file_extension": ".jl",
   "mimetype": "application/julia",
   "name": "julia",
   "version": "1.4.1"
  }
 },
 "nbformat": 4,
 "nbformat_minor": 4
}
