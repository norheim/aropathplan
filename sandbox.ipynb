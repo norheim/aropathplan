{
 "cells": [
  {
   "cell_type": "code",
   "execution_count": 1,
   "metadata": {},
   "outputs": [
    {
     "name": "stdout",
     "output_type": "stream",
     "text": [
      "Academic license - for non-commercial use only\n"
     ]
    }
   ],
   "source": [
    "using JuMP, Gurobi, Plots, LinearAlgebra\n",
    "GRB_ENV = Gurobi.Env();"
   ]
  },
  {
   "cell_type": "code",
   "execution_count": 20,
   "metadata": {},
   "outputs": [],
   "source": [
    "γ = 1\n",
    "model = Model(optimizer_with_attributes(\n",
    "        () -> Gurobi.Optimizer(GRB_ENV), #\"OutputFlag\" => 0\n",
    "    ));\n",
    "c = [-2,1,3,10]\n",
    "@variable(model, x[1:4])\n",
    "@constraint(model, [2*sqrt(γ); x] in SecondOrderCone())\n",
    "#@constraint(model, -x .<= 4*γ)\n",
    "@constraint(model, p1, sum(x) <= γ)\n",
    "@constraint(model, p2, -sum(x) <= γ)\n",
    "@objective(model, Max, c'*x);"
   ]
  },
  {
   "cell_type": "code",
   "execution_count": 21,
   "metadata": {},
   "outputs": [
    {
     "name": "stdout",
     "output_type": "stream",
     "text": [
      "Gurobi Optimizer version 9.0.1 build v9.0.1rc0 (win64)\n",
      "Optimize a model with 7 rows, 9 columns and 17 nonzeros\n",
      "Model fingerprint: 0xf922b908\n",
      "Model has 1 quadratic constraint\n",
      "Coefficient statistics:\n",
      "  Matrix range     [1e+00, 1e+00]\n",
      "  QMatrix range    [1e+00, 1e+00]\n",
      "  Objective range  [1e+00, 1e+01]\n",
      "  Bounds range     [0e+00, 0e+00]\n",
      "  RHS range        [1e+00, 2e+00]\n",
      "Presolve removed 6 rows and 5 columns\n",
      "Presolve time: 0.00s\n",
      "Presolved: 2 rows, 6 columns, 6 nonzeros\n",
      "Presolved model has 1 second-order cone constraint\n",
      "Ordering time: 0.00s\n",
      "\n",
      "Barrier statistics:\n",
      " AA' NZ     : 1.000e+00\n",
      " Factor NZ  : 3.000e+00\n",
      " Factor Ops : 5.000e+00 (less than 1 second per iteration)\n",
      " Threads    : 1\n",
      "\n",
      "                  Objective                Residual\n",
      "Iter       Primal          Dual         Primal    Dual     Compl     Time\n",
      "   0  -0.00000000e+00  3.76417691e+01  5.00e-01 2.08e+01  1.32e+01     0s\n",
      "   1   7.00235420e+00  2.18743547e+01  5.50e-07 6.59e+00  3.44e+00     0s\n",
      "   2   1.87336314e+01  2.08133734e+01  6.05e-13 2.71e-01  3.28e-01     0s\n",
      "   3   1.98890496e+01  2.03202473e+01  5.55e-15 3.20e-02  6.19e-02     0s\n",
      "   4   2.01021916e+01  2.01042349e+01  9.99e-16 1.92e-05  2.60e-04     0s\n",
      "   5   2.01026307e+01  2.01026336e+01  7.00e-13 2.58e-08  3.65e-07     0s\n",
      "\n",
      "Barrier solved model in 5 iterations and 0.01 seconds\n",
      "Optimal objective 2.01026307e+01\n",
      "\n",
      "Solving KKT system to obtain QCP duals...\n",
      "\n",
      "Optimize a model with 8 rows, 9 columns and 22 nonzeros\n",
      "Model fingerprint: 0xcd663c51\n",
      "Coefficient statistics:\n",
      "  Matrix range     [4e-01, 4e+00]\n",
      "  Objective range  [4e-01, 1e+01]\n",
      "  QObjective range [2e+00, 2e+00]\n",
      "  Bounds range     [0e+00, 0e+00]\n",
      "  RHS range        [2e-07, 2e+00]\n",
      "Presolve removed 2 rows and 1 columns\n",
      "Presolve time: 0.02s\n",
      "Presolved: 6 rows, 9 columns, 17 nonzeros\n",
      "Ordering time: 0.00s\n",
      "\n",
      "Barrier statistics:\n",
      " Free vars  : 8\n",
      " AA' NZ     : 8.000e+00\n",
      " Factor NZ  : 2.100e+01\n",
      " Factor Ops : 9.100e+01 (less than 1 second per iteration)\n",
      " Threads    : 1\n",
      "\n",
      "                  Objective                Residual\n",
      "Iter       Primal          Dual         Primal    Dual     Compl     Time\n",
      "   0  -7.99992736e+00  1.99200000e+03  1.00e+03 6.78e+00  1.00e+06     0s\n",
      "   1  -5.85002221e+04  5.91067078e+04  1.07e+01 3.98e-02  4.47e+04     0s\n",
      "   2  -8.86375605e+03  9.96497393e+03  5.87e-06 3.98e-08  6.28e+03     0s\n",
      "   3  -1.30598020e+03  1.30123568e+03  5.87e-12 4.97e-14  8.69e+02     0s\n",
      "   4  -1.91399988e+02  1.80527847e+02  3.55e-15 3.55e-15  1.24e+02     0s\n",
      "   5  -1.77149723e+01  3.51750704e+01  3.55e-15 2.16e-15  1.76e+01     0s\n",
      "   6   1.43095622e+01  2.40438431e+01  4.44e-16 4.44e-16  3.24e+00     0s\n",
      "   7   1.98354049e+01  2.01084599e+01  1.11e-16 6.66e-16  9.10e-02     0s\n",
      "   8   2.01023653e+01  2.01026362e+01  1.11e-16 4.18e-16  9.03e-05     0s\n",
      "   9   2.01026311e+01  2.01026314e+01  0.00e+00 2.88e-16  9.04e-08     0s\n",
      "  10   2.01026314e+01  2.01026314e+01  2.22e-16 4.44e-16  9.05e-11     0s\n",
      "\n",
      "Barrier solved model in 10 iterations and 0.02 seconds\n",
      "Optimal objective 2.01026314e+01\n",
      "\n",
      "\n"
     ]
    }
   ],
   "source": [
    "optimize!(model);"
   ]
  },
  {
   "cell_type": "code",
   "execution_count": 22,
   "metadata": {},
   "outputs": [
    {
     "data": {
      "text/plain": [
       "4-element Array{Float64,1}:\n",
       " -0.8463225207915311\n",
       " -0.18852902143681885\n",
       "  0.24999997813298924\n",
       "  1.7848514766273176"
      ]
     },
     "execution_count": 22,
     "metadata": {},
     "output_type": "execute_result"
    }
   ],
   "source": [
    "value.(x)"
   ]
  },
  {
   "cell_type": "code",
   "execution_count": null,
   "metadata": {},
   "outputs": [],
   "source": []
  }
 ],
 "metadata": {
  "kernelspec": {
   "display_name": "Julia 1.4.1",
   "language": "julia",
   "name": "julia-1.4"
  },
  "language_info": {
   "file_extension": ".jl",
   "mimetype": "application/julia",
   "name": "julia",
   "version": "1.4.1"
  }
 },
 "nbformat": 4,
 "nbformat_minor": 4
}
