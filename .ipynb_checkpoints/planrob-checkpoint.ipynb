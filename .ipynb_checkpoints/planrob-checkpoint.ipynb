{
 "cells": [
  {
   "cell_type": "markdown",
   "metadata": {},
   "source": [
    "## Robust plan"
   ]
  },
  {
   "cell_type": "code",
   "execution_count": 1,
   "metadata": {},
   "outputs": [
    {
     "name": "stdout",
     "output_type": "stream",
     "text": [
      "Academic license - for non-commercial use only\n"
     ]
    }
   ],
   "source": [
    "using JuMP, Gurobi, Plots, LinearAlgebra\n",
    "GRB_ENV = Gurobi.Env();"
   ]
  },
  {
   "cell_type": "markdown",
   "metadata": {},
   "source": [
    "### Create model for dynamics"
   ]
  },
  {
   "cell_type": "code",
   "execution_count": 2,
   "metadata": {},
   "outputs": [],
   "source": [
    "dt = 0.01\n",
    "A = zeros(4,4)+I\n",
    "A[1,2] = A[3,4] = dt\n",
    "B = zeros(4,2)\n",
    "B[2,1] = B[4,2] = dt\n",
    "C = zeros(2,4)\n",
    "C[1,2] = C[2,4] = 1\n",
    "D = zeros(2,2)\n",
    "#Bw = copy(B);"
   ]
  },
  {
   "cell_type": "markdown",
   "metadata": {},
   "source": [
    "### Create model"
   ]
  },
  {
   "cell_type": "code",
   "execution_count": 3,
   "metadata": {},
   "outputs": [
    {
     "data": {
      "text/plain": [
       "1.0e-5"
      ]
     },
     "execution_count": 3,
     "metadata": {},
     "output_type": "execute_result"
    }
   ],
   "source": [
    "T = 0.9\n",
    "N = Int(T/dt);\n",
    "x0 = [0;0;0;0]\n",
    "xN = [0.03;0;0.035;0]\n",
    "A1 = [-1 0; 0 1]\n",
    "b1 = [-0.015; 0.03];\n",
    "N1 = 2\n",
    "M = 1000;\n",
    "epsilon = 0.00001"
   ]
  },
  {
   "cell_type": "markdown",
   "metadata": {},
   "source": [
    "### Old deterministic problem to be adapted"
   ]
  },
  {
   "cell_type": "code",
   "execution_count": 4,
   "metadata": {},
   "outputs": [],
   "source": [
    "model = Model(optimizer_with_attributes(\n",
    "        () -> Gurobi.Optimizer(GRB_ENV), #\"OutputFlag\" => 0\n",
    "    ));\n",
    "@variable(model, x[1:4, 1:N])\n",
    "#@variable(model, y[1:2, 1:N])\n",
    "@variable(model, u[1:2, 1:N-1])\n",
    "@variable(model, au[1:2, 1:N-1] >=0)\n",
    "@variable(model, z[1:N,1:2] >=0, Bin)\n",
    "#@variable(model, g[1:N], Bin)\n",
    "#@variable(model, ag[1:4, 1:N] >= 0)\n",
    "@constraint(model, [k=1:N], A1*x[[1,3],k] -b1 + M*z[k,:] .>= 0 )\n",
    "@constraint(model, sum(z, dims=2) .== N1-1)\n",
    "@constraint(model, x[:,1] .== x0)\n",
    "@constraint(model, x[:,N] .== xN)\n",
    "@constraint(model, [k=1:N-1], x[:,k+1] .== A*x[:,k]+B*u[:,k])\n",
    "#@constraint(model, [k=1:N-1], y[:,k+1] .== C*x[:,k]) #sensor output\n",
    "@constraint(model, -au .<= u)\n",
    "@constraint(model, u .<= au)\n",
    "@constraint(model, au .<= 0.5)\n",
    "#@constraint(model, [k=1:N], -ag[:,k] .<= x[:, k] - xN)\n",
    "#@constraint(model, [k=1:N], x[:, k] - xN .<= ag[:,k])\n",
    "#@constraint(model, [k=1:N,i=1:4], -1000*g[k]+ag[i,k] .<= epsilon)\n",
    "#@constraint(model, -1 .<= x[[2,4],:] .<= 1) # velocity constraint\n",
    "#@objective(model, Min, sum(g));\n",
    "@objective(model, Min, sum(au));"
   ]
  },
  {
   "cell_type": "code",
   "execution_count": null,
   "metadata": {},
   "outputs": [],
   "source": []
  }
 ],
 "metadata": {
  "kernelspec": {
   "display_name": "Julia 1.4.1",
   "language": "julia",
   "name": "julia-1.4"
  },
  "language_info": {
   "file_extension": ".jl",
   "mimetype": "application/julia",
   "name": "julia",
   "version": "1.4.1"
  }
 },
 "nbformat": 4,
 "nbformat_minor": 4
}
